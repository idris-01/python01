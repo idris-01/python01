{
 "cells": [
  {
   "cell_type": "markdown",
   "id": "0ed16421-e587-4091-b175-e63e1bae927a",
   "metadata": {},
   "source": [
    "# 1. Explain the data types?\n",
    "In Python the data types are very essential for effective programming and they help in structuring the data and allows to perform various operations and they are essential in defining the variable.\n",
    "They are several data types they are:-\n",
    "\n",
    "- 1.Numeric Types : int,float,complex.\n",
    "- 2.Sequence Types:strings,list, tuple.\n",
    "- 3.Mapping Types: dictionaries\n",
    "- 4.Set Types: set, frozen set.\n",
    "- 5.Boolean Type: bool(true or False).\n",
    "\n",
    "\n",
    "\n",
    "\n"
   ]
  },
  {
   "cell_type": "markdown",
   "id": "d91165fd-a583-4520-a531-c54bcbe31497",
   "metadata": {},
   "source": [
    "# 2. Explain about int with examples?\n",
    "- The word int represents  intergers and they are non fractional numbers like 1,2,56,-1.\n",
    "- Integers are whole numbers that can be positive , negative or zero.\n",
    "- They can have large values as there is no limit.\n",
    "  Examples of int are:-\n",
    "  - r= 2\n",
    "  - f=23\n",
    "  - s= -1\n",
    "  - a= -133\n",
    "  - w=12345566778889\n",
    "  - e= -2910993\n",
    "  - q=100\n",
    "  - v= 0\n",
    "  - b= 1\n",
    "  - h= -023"
   ]
  },
  {
   "cell_type": "code",
   "execution_count": 6,
   "id": "55dee456-743c-41b1-acce-ffa66368e433",
   "metadata": {},
   "outputs": [
    {
     "name": "stdout",
     "output_type": "stream",
     "text": [
      "<class 'int'>\n"
     ]
    }
   ],
   "source": [
    "a= -23\n",
    "print(type(a))"
   ]
  },
  {
   "cell_type": "markdown",
   "id": "8b4243e5-c949-4f0c-af3c-7eb4f72efe92",
   "metadata": {},
   "source": [
    "# 3.Explain about float with examples\n",
    "- A float is a numerical data type that represents  a number with a decimal point or exponent notation.\n",
    "- For example, the number 1.23 is a floating-point number with one digit before the decimal point and two digits after the decimal point.\n",
    "- They are also  whole numbers which can be positive or negative.\n",
    "examples of float are:-\n",
    "- d= 23.4\n",
    "- f= -3.4\n",
    "- v= 0.23\n",
    "- q= 1234.3445\n",
    "- b= -939.3\n",
    "- l= 2.346322\n",
    "- w= 1.1\n",
    "- r= 0.334545667778\n",
    "- m= -123.4456\n",
    "- o= 23/4"
   ]
  },
  {
   "cell_type": "code",
   "execution_count": 13,
   "id": "2df77da2-435e-49d2-bd98-f092c4c7f825",
   "metadata": {},
   "outputs": [
    {
     "name": "stdout",
     "output_type": "stream",
     "text": [
      "<class 'float'>\n"
     ]
    }
   ],
   "source": [
    "r= 23/5\n",
    "print(type(r))"
   ]
  },
  {
   "cell_type": "markdown",
   "id": "1a4cd8aa-f98f-4e5d-965d-f158c20b5ed8",
   "metadata": {},
   "source": [
    "# 4.Explain about complex with examples\n",
    "-  A complex number has a real part and an imaginary part, expressed in the form x + yj, where:\n",
    "x is the real part.\n",
    "y is the imaginary part.\n",
    "j is the imaginary unit (in Python, j is used instead of i).\n",
    "\n",
    " Examples of complex are:-\n",
    " - a= 2 - 3j\n",
    " - c=11+9i\n",
    " - p=123-30j\n",
    " - h= 0.2- 3i\n",
    " - q=12+18j\n",
    " - f=-2+9i\n",
    " - w=-2489+12j\n",
    " - o=614+7i\n",
    " - r=-2.89+123j\n",
    " - k=98-33i"
   ]
  },
  {
   "cell_type": "code",
   "execution_count": 19,
   "id": "f7890087-f919-4b30-95a0-ca344480a387",
   "metadata": {},
   "outputs": [
    {
     "name": "stdout",
     "output_type": "stream",
     "text": [
      "<class 'complex'>\n"
     ]
    }
   ],
   "source": [
    " n= 4 - 4j\n",
    "print(type(n))"
   ]
  },
  {
   "cell_type": "code",
   "execution_count": null,
   "id": "32793983-df3a-441e-aae9-0bedb509f3e5",
   "metadata": {},
   "outputs": [],
   "source": []
  }
 ],
 "metadata": {
  "kernelspec": {
   "display_name": "Python 3 (ipykernel)",
   "language": "python",
   "name": "python3"
  },
  "language_info": {
   "codemirror_mode": {
    "name": "ipython",
    "version": 3
   },
   "file_extension": ".py",
   "mimetype": "text/x-python",
   "name": "python",
   "nbconvert_exporter": "python",
   "pygments_lexer": "ipython3",
   "version": "3.12.4"
  }
 },
 "nbformat": 4,
 "nbformat_minor": 5
}
