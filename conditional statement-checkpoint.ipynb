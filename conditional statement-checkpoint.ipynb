{
 "cells": [
  {
   "cell_type": "markdown",
   "id": "3793da07-5d15-471f-ac4d-6899c60951c1",
   "metadata": {},
   "source": [
    "# 1. conditional statements.\n",
    "- They are used to manage the flow of program on certain conditions.\n",
    "- These conditions are if,else,elif these are the keyword which are used to make conditional statements."
   ]
  },
  {
   "cell_type": "markdown",
   "id": "369779b0-be9e-4f0e-9a07-1925e1949414",
   "metadata": {},
   "source": [
    "# 2. if statement.\n",
    "- if statement executes a block of code only if the specified condition is met.\n",
    "- it returns the out put only when the if condition is met"
   ]
  },
  {
   "cell_type": "code",
   "execution_count": 1,
   "id": "2954c2da-171d-4893-94f8-60bb12a86aef",
   "metadata": {},
   "outputs": [],
   "source": [
    "# example\n",
    "a= 23\n",
    "b= 55\n",
    "if a>b:\n",
    "    print('true')"
   ]
  },
  {
   "cell_type": "code",
   "execution_count": 9,
   "id": "5299ec51-30e2-4c22-a99c-cc03c14e659d",
   "metadata": {},
   "outputs": [
    {
     "name": "stdout",
     "output_type": "stream",
     "text": [
      "a is small\n"
     ]
    }
   ],
   "source": [
    "a= 23\n",
    "b= 55\n",
    "if a<=b:\n",
    "    print('a is small')"
   ]
  },
  {
   "cell_type": "markdown",
   "id": "de1e00cb-8b2f-47df-9e54-477ff27210ba",
   "metadata": {},
   "source": [
    "# 3. else statement\n",
    "- this is used when they are two statemnts to solve\n",
    "- It is an if statement which can hve an optional else clause"
   ]
  },
  {
   "cell_type": "code",
   "execution_count": 15,
   "id": "e2156c7a-67a2-417b-9006-3fd15a490656",
   "metadata": {},
   "outputs": [
    {
     "name": "stdout",
     "output_type": "stream",
     "text": [
      "b is small\n"
     ]
    }
   ],
   "source": [
    "a= 13\n",
    "b= 53\n",
    "if a>=b:\n",
    "    print('a is small')\n",
    "else:\n",
    "    print('b is small')"
   ]
  },
  {
   "cell_type": "markdown",
   "id": "e85ddfe2-ad1b-47c3-8342-463a2158511f",
   "metadata": {},
   "source": [
    "# 4. elif statement\n",
    "- elif conditions is used when they are 3 aruguments."
   ]
  },
  {
   "cell_type": "code",
   "execution_count": 18,
   "id": "760cecb5-c349-45eb-8475-346d62396deb",
   "metadata": {},
   "outputs": [
    {
     "name": "stdin",
     "output_type": "stream",
     "text": [
      "enter a number: A\n"
     ]
    },
    {
     "name": "stdout",
     "output_type": "stream",
     "text": [
      "not vows\n"
     ]
    }
   ],
   "source": [
    "vow=['a','e','i','o','u']\n",
    "a=input('enter a number:')\n",
    "if a in vow:\n",
    "    print(\"vowels\")\n",
    "elif a.upper in vow:\n",
    "    print(\"captial vows\")\n",
    "else :\n",
    "    print(\"not vows\")"
   ]
  },
  {
   "cell_type": "code",
   "execution_count": 30,
   "id": "31d8f35b-f992-4d1c-b6b0-5854b7614d47",
   "metadata": {},
   "outputs": [
    {
     "name": "stdin",
     "output_type": "stream",
     "text": [
      "enter a number : 2023\n"
     ]
    },
    {
     "name": "stdout",
     "output_type": "stream",
     "text": [
      "year is not a leap year\n"
     ]
    }
   ],
   "source": [
    "# Write a python program to check given year is a leap year or not\n",
    "year=int(input('enter a number :'))\n",
    "if year % 4 == 0:\n",
    "         print('year is a leap year')\n",
    "else :\n",
    "    print('year is not a leap year')"
   ]
  },
  {
   "cell_type": "code",
   "execution_count": 38,
   "id": "a7ee7d7c-a19b-4c5a-b6eb-b8ee95895b97",
   "metadata": {},
   "outputs": [
    {
     "name": "stdin",
     "output_type": "stream",
     "text": [
      "enter a number:  2\n"
     ]
    },
    {
     "name": "stdout",
     "output_type": "stream",
     "text": [
      "number is even\n"
     ]
    }
   ],
   "source": [
    "#write a py programm to find given number even or odd\n",
    "num=int(input(\"enter a number: \"))\n",
    "if num % 2 == 0:\n",
    "    print('number is even')\n",
    "else :\n",
    "    print('number is odd')"
   ]
  },
  {
   "cell_type": "code",
   "execution_count": 52,
   "id": "3d71d96c-016b-4901-bf57-0e021cc5e90c",
   "metadata": {},
   "outputs": [
    {
     "name": "stdin",
     "output_type": "stream",
     "text": [
      "enter a list: \n"
     ]
    },
    {
     "name": "stdout",
     "output_type": "stream",
     "text": [
      "list is empty\n"
     ]
    }
   ],
   "source": [
    "# write a python program to check if a list is empty or not\n",
    "list=input('enter a list:')\n",
    "a=[]\n",
    "if not list :\n",
    "    print('list is empty')\n",
    "else :\n",
    "    print('list is not empty')"
   ]
  },
  {
   "cell_type": "code",
   "execution_count": 76,
   "id": "53b40f93-8d51-41d8-bf29-7cafb41b6b34",
   "metadata": {},
   "outputs": [
    {
     "name": "stdin",
     "output_type": "stream",
     "text": [
      "enter marks: 34\n"
     ]
    },
    {
     "name": "stdout",
     "output_type": "stream",
     "text": [
      "fail\n"
     ]
    }
   ],
   "source": [
    "# write a py program to calculate grade of a student\n",
    "m=int(input('enter marks:'))\n",
    "if  m >= 90:\n",
    "    print('a grade')\n",
    "elif  m>=80:\n",
    "    print('b grade')\n",
    "elif  m>=70:\n",
    "    print('c grade')\n",
    "elif  m>=60:\n",
    "    print('d grade')\n",
    "else : \n",
    "    print('fail')"
   ]
  },
  {
   "cell_type": "code",
   "execution_count": 26,
   "id": "034d4d75-2781-413f-a193-2f3d6edc38aa",
   "metadata": {},
   "outputs": [
    {
     "name": "stdin",
     "output_type": "stream",
     "text": [
      "enter word: refer\n"
     ]
    },
    {
     "name": "stdout",
     "output_type": "stream",
     "text": [
      "refer is a palindrome\n"
     ]
    }
   ],
   "source": [
    "#5 check wheather givem word is a palindrome or not\n",
    "a=input('enter word:')\n",
    "if a == a[::-1]:\n",
    "    print(f'{a} is a palindrome')\n",
    "\n",
    "else:\n",
    "    print(f'{a} is not a palindrome')"
   ]
  },
  {
   "cell_type": "code",
   "execution_count": 22,
   "id": "5decabad-8d7e-4888-8ddf-73be91d727f9",
   "metadata": {},
   "outputs": [
    {
     "name": "stdin",
     "output_type": "stream",
     "text": [
      "enter 1 number: 56\n",
      "enter 2 number: 34\n",
      "enter 3 number: 32\n"
     ]
    },
    {
     "name": "stdout",
     "output_type": "stream",
     "text": [
      "32\n"
     ]
    }
   ],
   "source": [
    "#6 write a python program to find the smallest among three numbers\n",
    "a= int(input('enter 1 number:'))\n",
    "b= int(input('enter 2 number:'))\n",
    "c= int(input('enter 3 number:'))\n",
    "\n",
    "#x= min(a,b,c)\n",
    "#print(x)\n",
    "if a<b and a<c:\n",
    "    print(a)\n",
    "elif b<c and b<a:\n",
    "    print(b)\n",
    "else:\n",
    "    print(c)"
   ]
  },
  {
   "cell_type": "code",
   "execution_count": 24,
   "id": "f17f80c1-3276-4e3c-bec9-3c1dc1eeafaf",
   "metadata": {},
   "outputs": [
    {
     "name": "stdout",
     "output_type": "stream",
     "text": [
      "56\n"
     ]
    }
   ],
   "source": [
    "#7 find the 2 largest number in a list\n",
    "num=[0.3,12,43,89,34,56]\n",
    "x=sorted(num)[-2]\n",
    "print(x)\n"
   ]
  },
  {
   "cell_type": "code",
   "execution_count": 174,
   "id": "b108865f-f369-4b04-91a0-aa4a7a0dfcee",
   "metadata": {},
   "outputs": [
    {
     "name": "stdin",
     "output_type": "stream",
     "text": [
      "enter height in cm: 169\n",
      "enter weight in kg: 61\n"
     ]
    },
    {
     "name": "stdout",
     "output_type": "stream",
     "text": [
      "21.35779559539232\n",
      "normal\n"
     ]
    }
   ],
   "source": [
    "#8 calculate bmi and categorize it underweight,normal and over\n",
    "h1=int(input('enter height in cm:'))\n",
    "w=int(input('enter weight in kg:'))\n",
    "h= h1 / 100\n",
    "bmi=(w/(h**2))\n",
    "print(bmi)\n",
    "if bmi<=18.5:\n",
    "    print('underweight')\n",
    "elif bmi<=25:\n",
    "    print('normal')\n",
    "\n",
    "else :\n",
    "    print('overweight')"
   ]
  },
  {
   "cell_type": "code",
   "execution_count": 16,
   "id": "444945ee-57f8-4901-b394-c830d8668130",
   "metadata": {},
   "outputs": [
    {
     "name": "stdin",
     "output_type": "stream",
     "text": [
      "enter a number: 17\n"
     ]
    },
    {
     "name": "stdout",
     "output_type": "stream",
     "text": [
      "not eligible\n"
     ]
    }
   ],
   "source": [
    "#9 to check vote elgibility\n",
    "x=int(input('enter a number:'))\n",
    "if x<=18:\n",
    "      print('not eligible')\n",
    "else :\n",
    "      print('eligible')"
   ]
  },
  {
   "cell_type": "code",
   "execution_count": 28,
   "id": "fdcb0c1a-5469-4e27-a51b-c050585ffb46",
   "metadata": {},
   "outputs": [
    {
     "name": "stdin",
     "output_type": "stream",
     "text": [
      "enter the age: 34\n"
     ]
    },
    {
     "name": "stdout",
     "output_type": "stream",
     "text": [
      "He is work group\n"
     ]
    }
   ],
   "source": [
    "#10 to find the person belongs to which group\n",
    "age=int(input('enter the age:'))\n",
    "if age<=22 :\n",
    "    print(' He is school group')\n",
    "elif age<=50:\n",
    "    print('He is work group')\n",
    "\n",
    "else:\n",
    "    print('retired group')"
   ]
  },
  {
   "cell_type": "code",
   "execution_count": null,
   "id": "73a2637f-9541-4e83-a94f-914246cfb29d",
   "metadata": {},
   "outputs": [],
   "source": []
  }
 ],
 "metadata": {
  "kernelspec": {
   "display_name": "Python 3 (ipykernel)",
   "language": "python",
   "name": "python3"
  },
  "language_info": {
   "codemirror_mode": {
    "name": "ipython",
    "version": 3
   },
   "file_extension": ".py",
   "mimetype": "text/x-python",
   "name": "python",
   "nbconvert_exporter": "python",
   "pygments_lexer": "ipython3",
   "version": "3.12.4"
  }
 },
 "nbformat": 4,
 "nbformat_minor": 5
}
