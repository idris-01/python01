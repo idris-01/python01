{
 "cells": [
  {
   "cell_type": "code",
   "execution_count": 40,
   "id": "d8962875-6624-4302-b1ee-0399e487385c",
   "metadata": {},
   "outputs": [
    {
     "name": "stdout",
     "output_type": "stream",
     "text": [
      "ferrari is top car and it's a sports model\n",
      "ferrari is a great car\n"
     ]
    }
   ],
   "source": [
    "#1 Automobile domain\n",
    "class cars:\n",
    "    def __init__(name,model,type):\n",
    "        name.model=model\n",
    "        name.type= type\n",
    "    def greet(name):\n",
    "        print(f'{name.model} is a great car')\n",
    "    def __str__(name):\n",
    "        return f\"{name.model} is top car and it's a {name.type}\"\n",
    "\n",
    "car=cars(model='ferrari',type='sports model')\n",
    "print(car)\n",
    "car.greet()"
   ]
  },
  {
   "cell_type": "code",
   "execution_count": 38,
   "id": "6b566dfe-0e8b-43ac-8efc-b80a4eb4095a",
   "metadata": {},
   "outputs": [
    {
     "name": "stdin",
     "output_type": "stream",
     "text": [
      "enter account type: savings\n",
      "enter IFSC code: 2345\n"
     ]
    },
    {
     "name": "stdout",
     "output_type": "stream",
     "text": [
      "savings account has been registered and your code is  2345\n",
      "You have enrolled the savings account sucessfully.\n"
     ]
    }
   ],
   "source": [
    "#2 bank domain\n",
    "type=input('enter account type:')\n",
    "ifsc= int(input(\"enter IFSC code:\"))\n",
    "class bank:\n",
    "    def __init__(sbi,type,ifsc):\n",
    "        sbi.type=type\n",
    "        sbi.ifsc= ifsc\n",
    "    def name(sbi):\n",
    "        print(f'You have enrolled the {sbi.type} account sucessfully.')\n",
    "    def __str__(sbi):\n",
    "        return f\"{sbi.type} account has been registered and your code is  {sbi.ifsc}\"\n",
    "\n",
    "b=bank(type,ifsc)\n",
    "print(b)\n",
    "b.name()"
   ]
  },
  {
   "cell_type": "code",
   "execution_count": 19,
   "id": "3f6d94da-f374-4b40-876f-97faa7cd317a",
   "metadata": {},
   "outputs": [
    {
     "name": "stdout",
     "output_type": "stream",
     "text": [
      "activa is 4g  is best the model currently.\n",
      "Please drive carefully\n"
     ]
    }
   ],
   "source": [
    "#3 transport domain\n",
    "class transport():\n",
    "    def __init__(self,type,model):\n",
    "        self.type=type\n",
    "        self.model=model\n",
    "    def remind(self):\n",
    "        print('Please drive carefully')\n",
    "\n",
    "trans=transport('activa','4g')\n",
    "print(f'{trans.type} is {trans.model}  is best the model currently.')\n",
    "trans.remind()"
   ]
  },
  {
   "cell_type": "code",
   "execution_count": 9,
   "id": "bb23dbd7-5687-4fe4-9a53-bf798a582e3f",
   "metadata": {},
   "outputs": [
    {
     "name": "stdin",
     "output_type": "stream",
     "text": [
      "name of the patient: manu\n",
      "enter disease: typhoid\n"
     ]
    },
    {
     "name": "stdout",
     "output_type": "stream",
     "text": [
      "manu is suffering from  typhoid\n",
      "manu should be admitted \n"
     ]
    }
   ],
   "source": [
    "#4 health care domain\n",
    "name=input('name of the patient:')\n",
    "disease= input(\"enter disease:\")\n",
    "class health:\n",
    "    def __init__(hosp,name,disease):\n",
    "        hosp.name=name\n",
    "        hosp.disease= disease\n",
    "        \n",
    "    def admit(hosp):\n",
    "        print(f'{hosp.name} should be admitted ')\n",
    "        \n",
    "    def __str__(hosp):\n",
    "        return f\"{hosp.name} is suffering from  {hosp.disease}\"\n",
    "\n",
    "patient=health(name,disease)\n",
    "print(patient)\n",
    "patient.admit()"
   ]
  },
  {
   "cell_type": "code",
   "execution_count": 21,
   "id": "2b9e9db2-1720-429f-bf2e-a2139a3fcff4",
   "metadata": {},
   "outputs": [
    {
     "name": "stdout",
     "output_type": "stream",
     "text": [
      "KLU is one of the finest education institutions which is located in vijaywada.\n"
     ]
    }
   ],
   "source": [
    "#5 education domain\n",
    "class Education:\n",
    "    def __init__(self, name, location):\n",
    "        self.name =name\n",
    "        self.location =location\n",
    "\n",
    "    def info(self):\n",
    "        print(f\"{self.name} is one of the finest education institutions which is located in {self.location}.\")\n",
    "inst = Education(\"KLU\", \"vijaywada\")\n",
    "inst.info()"
   ]
  },
  {
   "cell_type": "code",
   "execution_count": 29,
   "id": "ee8e1018-c56d-4d26-af56-f16dbc7c0929",
   "metadata": {},
   "outputs": [
    {
     "name": "stdout",
     "output_type": "stream",
     "text": [
      "Our company is private organisation which deals with marketing aspects.\n",
      "All the best for your business\n"
     ]
    }
   ],
   "source": [
    "#6 business domain\n",
    "class business():\n",
    "    def __init__(self,type,stream):\n",
    "        self.type=type\n",
    "        self.stream=stream\n",
    "    def greet(self):\n",
    "        print('All the best for your business')\n",
    "\n",
    "work=business('private','marketing')\n",
    "print(f'Our company is {work.type} organisation which deals with {work.stream} aspects.')\n",
    "work.greet()"
   ]
  },
  {
   "cell_type": "code",
   "execution_count": 39,
   "id": "303837fb-5a26-48dd-8535-5f95e3ca734a",
   "metadata": {},
   "outputs": [
    {
     "name": "stdin",
     "output_type": "stream",
     "text": [
      "enter film type: romance\n",
      "film name: premam\n"
     ]
    },
    {
     "name": "stdout",
     "output_type": "stream",
     "text": [
      "premam is romance genere which is entertaining.\n",
      "enjoy  watching premam.\n"
     ]
    }
   ],
   "source": [
    "#7 entertainment domain\n",
    "type=input('enter film type:')\n",
    "name= input(\"film name:\")\n",
    "class movies:\n",
    "    def __init__(self,type,name):\n",
    "        self.type=type\n",
    "        self.name= name\n",
    "    def mark(self):\n",
    "        print(f'enjoy  watching {self.name}.')\n",
    "    def __str__(self):\n",
    "        return f\"{self.name} is {self.type} genere which is entertaining.\"\n",
    "\n",
    "web=movies(type,name)\n",
    "print(web)\n",
    "web.mark()"
   ]
  },
  {
   "cell_type": "code",
   "execution_count": 49,
   "id": "890cab9a-5a96-4946-9e31-f1bfd0f2c586",
   "metadata": {},
   "outputs": [
    {
     "name": "stdin",
     "output_type": "stream",
     "text": [
      "Game type: cricket\n",
      "it is found by : UK\n"
     ]
    },
    {
     "name": "stdout",
     "output_type": "stream",
     "text": [
      "cricket is found by  UK\n"
     ]
    }
   ],
   "source": [
    "#8 sports domain\n",
    "game=input('Game type:')\n",
    "found= input(\"it is found by :\")\n",
    "class sports:\n",
    "    def __init__(self,game,found):\n",
    "        self.game=game\n",
    "        self.found= found\n",
    "    def __str__(self):\n",
    "        return f\"{self.game} is found by  {self.found}\"\n",
    "\n",
    "c=sports(game,found)\n",
    "print(c)"
   ]
  },
  {
   "cell_type": "code",
   "execution_count": 33,
   "id": "3e6b93e0-5b6b-4ff5-b886-aff57f430de4",
   "metadata": {},
   "outputs": [
    {
     "name": "stdout",
     "output_type": "stream",
     "text": [
      " I am a business analyst who  joined as trainee now.\n",
      "All the best , your manager will guide you\n"
     ]
    }
   ],
   "source": [
    "#9 Tech domain\n",
    "class tech():\n",
    "    def __init__(self,stream,main):\n",
    "        self.stream=stream\n",
    "        self.main=main\n",
    "    def guide(self):\n",
    "        print('All the best , your manager will guide you')\n",
    "\n",
    "t=tech('business analyst','trainee')\n",
    "print(f' I am a {t.stream} who  joined as {t.main} now.')\n",
    "t.guide()"
   ]
  },
  {
   "cell_type": "code",
   "execution_count": 45,
   "id": "142fd867-d135-4900-a148-0330b70980b7",
   "metadata": {},
   "outputs": [
    {
     "name": "stdout",
     "output_type": "stream",
     "text": [
      "amazon is  launched on  2015\n",
      "amazon is widley used for shopping online app\n"
     ]
    }
   ],
   "source": [
    "#10 e-commerce domain\n",
    "class e_commerce:\n",
    "    def __init__(name,main,date):\n",
    "        name.main=main\n",
    "        name.date= date\n",
    "    def greet(name):\n",
    "        print(f'{name.main} is widley used for shopping online app')\n",
    "    def __str__(name):\n",
    "        return f\"{name.main} is  launched on  {name.date}\"\n",
    "\n",
    "site=e_commerce(main='amazon',date=2015)\n",
    "print(site)\n",
    "site.greet()"
   ]
  },
  {
   "cell_type": "code",
   "execution_count": null,
   "id": "85e9bf73-34dd-46c2-866b-2f39be8e2b5b",
   "metadata": {},
   "outputs": [],
   "source": []
  }
 ],
 "metadata": {
  "kernelspec": {
   "display_name": "Python 3 (ipykernel)",
   "language": "python",
   "name": "python3"
  },
  "language_info": {
   "codemirror_mode": {
    "name": "ipython",
    "version": 3
   },
   "file_extension": ".py",
   "mimetype": "text/x-python",
   "name": "python",
   "nbconvert_exporter": "python",
   "pygments_lexer": "ipython3",
   "version": "3.12.4"
  }
 },
 "nbformat": 4,
 "nbformat_minor": 5
}
