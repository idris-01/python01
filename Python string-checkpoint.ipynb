{
 "cells": [
  {
   "cell_type": "markdown",
   "id": "7a3c5159-5f8e-4883-b02b-09aeefde3824",
   "metadata": {},
   "source": [
    "# 1. Define about strings.\n",
    "- Its a sequence of characters which are used to represnt text\n",
    "- we can use single or double quotes or thriple quotes to represent it\n",
    "- They are one of the commonly  and widly used data types\n",
    "- we can manipulate the variables by using various operations and string methods."
   ]
  },
  {
   "cell_type": "markdown",
   "id": "6193d484-1aa7-4b76-8306-5696e06ec9ea",
   "metadata": {},
   "source": [
    "# 2. Create 10 elements using ' ' and \" \".\n",
    "- a=' idris'\n",
    "- b='word'\n",
    "- str='business analytics'\n",
    "- teks='academy'\n",
    "- string='character sequence'\n",
    "- name=\"shaik idris\"\n",
    "- sub=\" general science\"\n",
    "- type=\" They are double strings\"\n",
    "- x= \" he is very good\"\n",
    "- list=\" collection of many things\""
   ]
  },
  {
   "cell_type": "markdown",
   "id": "bb5ba9f9-7f78-4c66-8936-5d3e5a662e32",
   "metadata": {},
   "source": [
    "# 3.Create a string 50 characters and access any 10 using index and apply slicing with any two examples.\n"
   ]
  },
  {
   "cell_type": "code",
   "execution_count": 30,
   "id": "0c475c24-1798-40ae-9cb3-95be371255e5",
   "metadata": {},
   "outputs": [
    {
     "name": "stdout",
     "output_type": "stream",
     "text": [
      "s\n",
      "s\n",
      "k\n",
      "a\n",
      "a\n",
      " \n",
      "n\n",
      "M\n",
      "i\n",
      "r\n"
     ]
    }
   ],
   "source": [
    "a='My name is shaik idrish and i am a cricket player.'\n",
    "len(a)\n",
    "print(a[9])\n",
    "print(a[11])\n",
    "print(a[-35])\n",
    "print(a[-20])\n",
    "print(a[33])\n",
    "print(a[16])\n",
    "print(a[-47])\n",
    "print(a[-50])\n",
    "print(a[20])\n",
    "print(a[-14])"
   ]
  },
  {
   "cell_type": "code",
   "execution_count": 40,
   "id": "b504ce59-841e-4d2a-bd56-8704e9057090",
   "metadata": {},
   "outputs": [
    {
     "name": "stdout",
     "output_type": "stream",
     "text": [
      " shaik idrish\n",
      "cricket player\n"
     ]
    }
   ],
   "source": [
    "print(a[10:23])\n",
    "print(a[-15:-1])"
   ]
  },
  {
   "cell_type": "markdown",
   "id": "88a4842c-0798-4466-959b-4bb908445a5d",
   "metadata": {},
   "source": [
    "# 4.Explain about string formats\n",
    "- They are 3 types of string formats\n",
    "  1. old style- it uses % for the expressions for the string.  \n",
    "  2. format style- It replaces % with {} with the placeholders, they use curly braces{} for expressions. \n",
    "  3. f string method- It is the famous used method. In this the expressions are added in the curly braces."
   ]
  },
  {
   "cell_type": "code",
   "execution_count": 103,
   "id": "065dac13-0afe-4d8e-a49e-c131239e618d",
   "metadata": {},
   "outputs": [
    {
     "name": "stdout",
     "output_type": "stream",
     "text": [
      "His  number is 234 going to delhi.\n"
     ]
    }
   ],
   "source": [
    "#examples\n",
    "# old style- it uses % for the expressions for the string.\n",
    "number= 234\n",
    "place=\"delhi\"\n",
    "formatted_string=\"His  number is %d going to %s.\" % (number,place)\n",
    "print(formatted_string)"
   ]
  },
  {
   "cell_type": "code",
   "execution_count": 107,
   "id": "a46118e1-2905-4283-986d-71b04104a547",
   "metadata": {},
   "outputs": [
    {
     "name": "stdout",
     "output_type": "stream",
     "text": [
      "His  number is 234 going to delhi.\n"
     ]
    }
   ],
   "source": [
    "#examples\n",
    "#2. format style- It replaces % with {}with the placeholders, they use curly braces for expressions.\n",
    "number= 234\n",
    "place=\"delhi\"\n",
    "formatted_string=\"His  number is {} going to {}.\" .format(number,place)\n",
    "print(formatted_string)\n"
   ]
  },
  {
   "cell_type": "code",
   "execution_count": 111,
   "id": "7687bbab-8946-4820-8a48-71cfed47fea5",
   "metadata": {},
   "outputs": [
    {
     "name": "stdout",
     "output_type": "stream",
     "text": [
      "His  number is 234 going to delhi.\n"
     ]
    }
   ],
   "source": [
    "#example\n",
    "# 3. f string method- It is the famous used method. In this the expressions are added in the curly braces.\n",
    "number= 234\n",
    "place=\"delhi\"\n",
    "formatted_string=f\"His  number is {number} going to {place}.\" \n",
    "print(formatted_string)"
   ]
  },
  {
   "cell_type": "markdown",
   "id": "d77327d1-8d09-4055-bef7-fd7aafef8749",
   "metadata": {},
   "source": [
    "# 5.apply operations"
   ]
  },
  {
   "cell_type": "code",
   "execution_count": 123,
   "id": "69eaf124-ceb4-4128-97b8-efc12025235e",
   "metadata": {},
   "outputs": [
    {
     "name": "stdout",
     "output_type": "stream",
     "text": [
      "shaik idris\n",
      "idris-shaik\n",
      "shaikidris\n"
     ]
    }
   ],
   "source": [
    "a=\"shaik\"\n",
    "b=\"idris\"\n",
    "name= a+' '+b\n",
    "n= b+\"-\"+a\n",
    "p=a+b\n",
    "print(name)\n",
    "print(n)\n",
    "print(p)"
   ]
  },
  {
   "cell_type": "code",
   "execution_count": 87,
   "id": "e3c86160-e84a-421c-873c-58967ffc776e",
   "metadata": {},
   "outputs": [
    {
     "name": "stdout",
     "output_type": "stream",
     "text": [
      "Its a sequence of characters which are used to represnt textIts a sequence of characters which are used to represnt textIts a sequence of characters which are used to represnt text\n"
     ]
    }
   ],
   "source": [
    "str_1='Its a sequence of characters which are used to represnt text'\n",
    "rep=str_1*3\n",
    "print(rep)"
   ]
  },
  {
   "cell_type": "code",
   "execution_count": 91,
   "id": "6e67409a-8758-4301-8b09-3c2c4d5c7668",
   "metadata": {},
   "outputs": [
    {
     "name": "stdout",
     "output_type": "stream",
     "text": [
      "Its a sequence of characters which are used to represnt text. \n",
      "Its a sequence of characters which are used to represnt text. \n",
      "Its a sequence of characters which are used to represnt text. \n",
      "Its a sequence of characters which are used to represnt text. \n",
      "Its a sequence of characters which are used to represnt text. \n",
      "\n"
     ]
    }
   ],
   "source": [
    "str='Its a sequence of characters which are used to represnt text. \\n'\n",
    "rep_1=str*5\n",
    "print(rep_1)"
   ]
  },
  {
   "cell_type": "code",
   "execution_count": 121,
   "id": "dfce5e8c-0f95-42fd-8e13-64eef1fb3f5e",
   "metadata": {},
   "outputs": [
    {
     "name": "stdout",
     "output_type": "stream",
     "text": [
      "Its a sequence of characters\n",
      " which are used to represnt text.\n",
      "Its a sequence of characters\n",
      " which are used to represnt text.\n",
      "\n"
     ]
    }
   ],
   "source": [
    "str='Its a sequence of characters\\n which are used to represnt text.\\n'\n",
    "rep_1=str*2\n",
    "print(rep_1)"
   ]
  },
  {
   "cell_type": "code",
   "execution_count": 65,
   "id": "b9547bcf-eb61-43d3-8f54-9dc1d3a48a7e",
   "metadata": {},
   "outputs": [
    {
     "name": "stdout",
     "output_type": "stream",
     "text": [
      "t\n"
     ]
    }
   ],
   "source": [
    "name=\" anvitha alla\"\n",
    "print(name[5])"
   ]
  },
  {
   "cell_type": "code",
   "execution_count": 67,
   "id": "d437aa86-7b1c-45d5-9de0-8c238f754148",
   "metadata": {},
   "outputs": [
    {
     "name": "stdout",
     "output_type": "stream",
     "text": [
      "a\n"
     ]
    }
   ],
   "source": [
    "print(name[-1])"
   ]
  },
  {
   "cell_type": "code",
   "execution_count": 97,
   "id": "d7ace0d0-0c2d-485d-9026-d46d914e834b",
   "metadata": {},
   "outputs": [
    {
     "name": "stdout",
     "output_type": "stream",
     "text": [
      "sequence of characters \n",
      "represnt text\n"
     ]
    }
   ],
   "source": [
    "str=\"Its a sequence of characters which are used to represnt text\"\n",
    "a= str[6:29]\n",
    "bc= str[-13: ]\n",
    "print(a)\n",
    "print(bc)"
   ]
  },
  {
   "cell_type": "markdown",
   "id": "82398190-ce0e-41cc-92d8-06d0315ce6da",
   "metadata": {},
   "source": [
    "# 6.  Types and applicaton of string methods\n"
   ]
  },
  {
   "cell_type": "markdown",
   "id": "26513b97-76e2-4f23-818c-fc1b7871bc75",
   "metadata": {},
   "source": [
    "1. len- it counts the length of the charecter of the string.\n",
    "- example"
   ]
  },
  {
   "cell_type": "code",
   "execution_count": 125,
   "id": "9e6092b9-eb16-4f33-bad2-a7290c53e591",
   "metadata": {},
   "outputs": [
    {
     "data": {
      "text/plain": [
       "50"
      ]
     },
     "execution_count": 125,
     "metadata": {},
     "output_type": "execute_result"
    }
   ],
   "source": [
    "a='My name is shaik idrish and i am a cricket player.'\n",
    "len(a)"
   ]
  },
  {
   "cell_type": "markdown",
   "id": "9ce833c1-f190-435b-9fa9-553dcac64b16",
   "metadata": {},
   "source": [
    "2. lower/upper- It converts the string to upper/lower case.\n",
    "- example"
   ]
  },
  {
   "cell_type": "code",
   "execution_count": 128,
   "id": "cb0bd6ce-ccdf-461a-a28a-7c509ba088e6",
   "metadata": {},
   "outputs": [
    {
     "name": "stdout",
     "output_type": "stream",
     "text": [
      " ANVITHA ALLA\n"
     ]
    }
   ],
   "source": [
    "name=\" anvitha alla\"\n",
    "print(name.upper())"
   ]
  },
  {
   "cell_type": "code",
   "execution_count": 130,
   "id": "4d3c00f6-9654-4f8d-a150-b308271bde45",
   "metadata": {},
   "outputs": [
    {
     "name": "stdout",
     "output_type": "stream",
     "text": [
      " shaik idris\n"
     ]
    }
   ],
   "source": [
    "name=\" SHAIK IDRIS\"\n",
    "print(name.lower())"
   ]
  },
  {
   "cell_type": "markdown",
   "id": "73c468e0-34c3-45c3-87cf-e2eaba3f088c",
   "metadata": {},
   "source": [
    "3. strip- it removes the start and end spaces in the string\n",
    "- example"
   ]
  },
  {
   "cell_type": "code",
   "execution_count": 136,
   "id": "d91a5d55-4d51-44b8-af0a-0985de341f1d",
   "metadata": {},
   "outputs": [
    {
     "name": "stdout",
     "output_type": "stream",
     "text": [
      "anvitha alla\n"
     ]
    }
   ],
   "source": [
    "name=\" anvitha alla  \"\n",
    "print(name.strip())"
   ]
  },
  {
   "cell_type": "markdown",
   "id": "5c159618-e515-4b33-9b88-e804074cbd13",
   "metadata": {},
   "source": [
    "4. replace-It replace one substring with another.\n",
    "- example"
   ]
  },
  {
   "cell_type": "code",
   "execution_count": 140,
   "id": "02e84f87-3bc7-4b0f-b2e8-81abe7c6ce1f",
   "metadata": {},
   "outputs": [
    {
     "name": "stdout",
     "output_type": "stream",
     "text": [
      " you are bad\n"
     ]
    }
   ],
   "source": [
    "my_s=\" you are good\"\n",
    "strings= my_s.replace(\"good\",\"bad\")\n",
    "print(strings)"
   ]
  },
  {
   "cell_type": "markdown",
   "id": "d5166d78-8cc3-4355-831f-f18cacd564e3",
   "metadata": {},
   "source": [
    "5. split-It splits the one string into sub srings.\n",
    "- example"
   ]
  },
  {
   "cell_type": "code",
   "execution_count": 143,
   "id": "9d119a06-1c6d-4252-9ce6-5bf18ab57eeb",
   "metadata": {},
   "outputs": [
    {
     "name": "stdout",
     "output_type": "stream",
     "text": [
      "['he', 'is', 'looking', 'at', 'the', 'bird']\n"
     ]
    }
   ],
   "source": [
    "str=\"he is looking at the bird\"\n",
    "print(str.split())"
   ]
  },
  {
   "cell_type": "markdown",
   "id": "9e70f41f-a0e4-4029-a813-0f4cadaca71e",
   "metadata": {},
   "source": [
    "6. join- It joins the substrings all into one string.\n",
    "- Example"
   ]
  },
  {
   "cell_type": "code",
   "execution_count": 145,
   "id": "dd2c590f-975d-410c-9c57-15084ca40b1b",
   "metadata": {},
   "outputs": [
    {
     "name": "stdout",
     "output_type": "stream",
     "text": [
      "he is looking at the bird\n"
     ]
    }
   ],
   "source": [
    "set=['he', 'is', 'looking', 'at', 'the', 'bird']\n",
    "print(\" \".join(set))"
   ]
  },
  {
   "cell_type": "markdown",
   "id": "e0418698-74f7-406d-a14f-3f2d82cebf6f",
   "metadata": {},
   "source": [
    "7. capitalize-It Converts the first character to upper case\n",
    "- example"
   ]
  },
  {
   "cell_type": "code",
   "execution_count": 147,
   "id": "0f66fb90-76ea-4172-b868-8894305f7f67",
   "metadata": {},
   "outputs": [
    {
     "name": "stdout",
     "output_type": "stream",
     "text": [
      "Idris\n"
     ]
    }
   ],
   "source": [
    "a=\"idris\"\n",
    "print(a.capitalize())"
   ]
  },
  {
   "cell_type": "markdown",
   "id": "1818f17b-9f8b-40fc-96c4-f85a8289565a",
   "metadata": {},
   "source": [
    "8. casefold-  It Returns the string into lower case.\n",
    "- example"
   ]
  },
  {
   "cell_type": "code",
   "execution_count": 159,
   "id": "d8b3ad44-1b62-4fae-aa76-bd6c032a6a8f",
   "metadata": {},
   "outputs": [
    {
     "name": "stdout",
     "output_type": "stream",
     "text": [
      "anushi\n"
     ]
    }
   ],
   "source": [
    "name='ANUSHI'\n",
    "print(name.casefold())"
   ]
  },
  {
   "cell_type": "markdown",
   "id": "25695292-2b4b-429e-91bb-7f62b51703d8",
   "metadata": {},
   "source": [
    "9. center- It returns the centered string.\n",
    "- example"
   ]
  },
  {
   "cell_type": "code",
   "execution_count": 180,
   "id": "b5433618-4d7d-4d67-b02d-d3003d56989a",
   "metadata": {},
   "outputs": [
    {
     "name": "stdout",
     "output_type": "stream",
     "text": [
      "          super hero          \n"
     ]
    }
   ],
   "source": [
    "name=\"super hero\"\n",
    "print(name.center(30))"
   ]
  },
  {
   "cell_type": "markdown",
   "id": "47118768-0e96-4ece-bf61-3dee055b6ef5",
   "metadata": {},
   "source": [
    "10. count- It represents the number of occurances of a string.\n",
    "- example"
   ]
  },
  {
   "cell_type": "code",
   "execution_count": 191,
   "id": "3d4de579-e63d-43b2-9b44-e808ee402a8f",
   "metadata": {},
   "outputs": [
    {
     "name": "stdout",
     "output_type": "stream",
     "text": [
      "2\n"
     ]
    }
   ],
   "source": [
    "str=\"he is looking at the bird and he is fond of it.\"\n",
    "print(str.count('is'))"
   ]
  },
  {
   "cell_type": "markdown",
   "id": "51a56089-9b3d-4030-9853-f1c5a9a04fcb",
   "metadata": {},
   "source": [
    "11. find- It finds the string place and identifies it.\n",
    "- example"
   ]
  },
  {
   "cell_type": "code",
   "execution_count": 196,
   "id": "d021eab1-5a2f-4e68-9b0b-0e4120b2d224",
   "metadata": {},
   "outputs": [
    {
     "name": "stdout",
     "output_type": "stream",
     "text": [
      "21\n"
     ]
    }
   ],
   "source": [
    "str=\"he is looking at the man.\"\n",
    "print(str.find('man'))"
   ]
  },
  {
   "cell_type": "markdown",
   "id": "ada3414f-8729-4cd6-aa72-33bbbe44c186",
   "metadata": {},
   "source": [
    "12. encode- It returns the encoded version of the string.\n",
    "- example"
   ]
  },
  {
   "cell_type": "code",
   "execution_count": 204,
   "id": "36356e3f-ea4a-4966-b3f4-6ebd8a4e0619",
   "metadata": {},
   "outputs": [
    {
     "name": "stdout",
     "output_type": "stream",
     "text": [
      "b'Namste India'\n"
     ]
    }
   ],
   "source": [
    "word = \"Namste India\"\n",
    "end= word.encode()\n",
    "print(end)"
   ]
  },
  {
   "cell_type": "markdown",
   "id": "f3ab77a8-8446-47e2-bb08-2b52641f7bf6",
   "metadata": {},
   "source": [
    "13. endswith - \t It prints true if the string ends with the specified value\n",
    "- example"
   ]
  },
  {
   "cell_type": "code",
   "execution_count": 207,
   "id": "024ff3d4-e082-44df-acf7-cd114a8aab49",
   "metadata": {},
   "outputs": [
    {
     "name": "stdout",
     "output_type": "stream",
     "text": [
      "False\n"
     ]
    }
   ],
   "source": [
    "word = \"Namste India\"\n",
    "end= word.endswith('Namste')\n",
    "print(end)"
   ]
  },
  {
   "cell_type": "markdown",
   "id": "dc8d4dac-b4e4-4a0a-95cf-34cc4ddd4300",
   "metadata": {},
   "source": [
    "14. format- It formats the specific tabs in the string\n",
    "- example"
   ]
  },
  {
   "cell_type": "code",
   "execution_count": 210,
   "id": "369893f0-611e-4e4e-9e45-b0703249d195",
   "metadata": {},
   "outputs": [
    {
     "name": "stdout",
     "output_type": "stream",
     "text": [
      "His  number is 234 going to delhi.\n"
     ]
    }
   ],
   "source": [
    "number= 234\n",
    "place=\"delhi\"\n",
    "formatted_string=\"His  number is {} going to {}.\" .format(number,place)\n",
    "print(formatted_string)\n"
   ]
  },
  {
   "cell_type": "markdown",
   "id": "568613fe-32b1-4031-ac14-46a3fe110ee5",
   "metadata": {},
   "source": [
    "15. expandtabs-It sets the the strings tab size.\n",
    "- example"
   ]
  },
  {
   "cell_type": "code",
   "execution_count": 3,
   "id": "dbc8abd9-32d7-4ffb-8b96-8ad188d4376c",
   "metadata": {},
   "outputs": [
    {
     "name": "stdout",
     "output_type": "stream",
     "text": [
      "My,      name!  How are you?\n"
     ]
    }
   ],
   "source": [
    "text= \"My,\\t name!\\tHow are you?\"\n",
    "exp = text.expandtabs()\n",
    "print(exp)\n"
   ]
  },
  {
   "cell_type": "markdown",
   "id": "aeaafcf3-496b-4164-9697-d0e2e6f59e2f",
   "metadata": {},
   "source": [
    "16. index- It returns the position of the string and gives it index number.\n",
    "- example"
   ]
  },
  {
   "cell_type": "code",
   "execution_count": 4,
   "id": "4605735b-fff4-4679-b0fd-7ea98f32db83",
   "metadata": {},
   "outputs": [
    {
     "name": "stdout",
     "output_type": "stream",
     "text": [
      "21\n"
     ]
    }
   ],
   "source": [
    "str=\"he is looking at the man.\"\n",
    "print(str.index('man'))"
   ]
  },
  {
   "cell_type": "markdown",
   "id": "878e6599-7521-4e8e-bc3e-5d10a17dca9b",
   "metadata": {},
   "source": [
    "17. isalnum- It return true if the string is alphanumberic.\n",
    "- example"
   ]
  },
  {
   "cell_type": "code",
   "execution_count": 9,
   "id": "9cc542a3-9b70-47b0-96ca-6d5f571ccd78",
   "metadata": {},
   "outputs": [
    {
     "name": "stdout",
     "output_type": "stream",
     "text": [
      "True\n"
     ]
    }
   ],
   "source": [
    "a=\"idris99\"\n",
    "print(a.isalnum())"
   ]
  },
  {
   "cell_type": "markdown",
   "id": "cc61d7d1-18f7-4853-a945-71c640a9c359",
   "metadata": {},
   "source": [
    "18. isalpha- It returns true if all the characters in the string are alphabets.\n",
    "- example"
   ]
  },
  {
   "cell_type": "code",
   "execution_count": 16,
   "id": "11a69cd9-25e7-4568-bf20-d4c11e872d41",
   "metadata": {},
   "outputs": [
    {
     "name": "stdout",
     "output_type": "stream",
     "text": [
      "False\n"
     ]
    }
   ],
   "source": [
    "word = \"Namste India\"\n",
    "print(word.isalpha())"
   ]
  },
  {
   "cell_type": "markdown",
   "id": "e0fc8daa-15ea-4de6-a71c-16575b67477b",
   "metadata": {},
   "source": [
    "19. isascii- It returns True if all characters in the string are ascii \n",
    "- example"
   ]
  },
  {
   "cell_type": "code",
   "execution_count": 21,
   "id": "edafec30-96e9-45aa-b36c-39440d62be15",
   "metadata": {},
   "outputs": [
    {
     "name": "stdout",
     "output_type": "stream",
     "text": [
      "ABCDEFGHIJKLMNOPQRSTUVWXYZ\n"
     ]
    }
   ],
   "source": [
    "import string\n",
    "capital_letters= string.ascii_uppercase\n",
    "print(capital_letters) \n"
   ]
  },
  {
   "cell_type": "markdown",
   "id": "8ac785c3-3c57-4d03-93ef-59d95b528179",
   "metadata": {},
   "source": [
    "20. isdecimal-It returns True if all characters in the string are decimals\n",
    "- example"
   ]
  },
  {
   "cell_type": "code",
   "execution_count": 40,
   "id": "7b043726-f15f-4401-8f1c-ce1c7e3e86c3",
   "metadata": {},
   "outputs": [
    {
     "name": "stdout",
     "output_type": "stream",
     "text": [
      "True\n"
     ]
    }
   ],
   "source": [
    "num=\"39889\"\n",
    "print(num.isdecimal())"
   ]
  },
  {
   "cell_type": "markdown",
   "id": "6be61616-a15e-49fe-8fd8-46d906893668",
   "metadata": {},
   "source": [
    "21. isdigit-It\treturns True if all characters in the string are digits\n",
    "- example"
   ]
  },
  {
   "cell_type": "code",
   "execution_count": 45,
   "id": "96ba8579-c2d0-4ae7-a94b-570383bb6f19",
   "metadata": {},
   "outputs": [
    {
     "name": "stdout",
     "output_type": "stream",
     "text": [
      "False\n"
     ]
    }
   ],
   "source": [
    "num=\"398a89\"\n",
    "print(num.isdigit())"
   ]
  },
  {
   "cell_type": "markdown",
   "id": "99074b72-8e6b-4693-8a2e-04a373680f68",
   "metadata": {},
   "source": [
    "22. isidentifier-It returns True if the string is an identifier and it cannot come true is they are numbers.\n",
    "- example"
   ]
  },
  {
   "cell_type": "code",
   "execution_count": 50,
   "id": "a342ccd3-c5b7-4afe-83b0-fd546ea3451a",
   "metadata": {},
   "outputs": [
    {
     "name": "stdout",
     "output_type": "stream",
     "text": [
      "True\n"
     ]
    }
   ],
   "source": [
    "num=\"is_hero\"\n",
    "print(num.isidentifier())"
   ]
  },
  {
   "cell_type": "markdown",
   "id": "68952835-3406-442d-81d0-37df3b9cb377",
   "metadata": {},
   "source": [
    "23. islower- it returns True if all characters in the string are lowercase.\n",
    "- example"
   ]
  },
  {
   "cell_type": "code",
   "execution_count": 53,
   "id": "1f18beb8-4f37-48f1-8ae0-845bb6aeb875",
   "metadata": {},
   "outputs": [
    {
     "name": "stdout",
     "output_type": "stream",
     "text": [
      "False\n"
     ]
    }
   ],
   "source": [
    "word = \"Namste India\"\n",
    "print(word.islower())"
   ]
  },
  {
   "cell_type": "markdown",
   "id": "596b1d17-97e3-4ee5-80bd-99ee79d2e934",
   "metadata": {},
   "source": [
    "24. isupper- it returns true if all chartacters in the string are uppercase.\n",
    "- example"
   ]
  },
  {
   "cell_type": "code",
   "execution_count": 56,
   "id": "a293efec-ae3c-4489-89ac-8be9677fd09c",
   "metadata": {},
   "outputs": [
    {
     "name": "stdout",
     "output_type": "stream",
     "text": [
      "True\n"
     ]
    }
   ],
   "source": [
    "a=\"IDRIS\"\n",
    "print(a.isupper())"
   ]
  },
  {
   "cell_type": "markdown",
   "id": "5151aea3-6276-4c3e-9d0e-c57fa27dbff9",
   "metadata": {},
   "source": [
    "25. isnumeric- It returns True if all characters in the string are numeric\n",
    "- example"
   ]
  },
  {
   "cell_type": "code",
   "execution_count": 59,
   "id": "481a05d5-38e1-48e2-899b-5539e9cf9933",
   "metadata": {},
   "outputs": [
    {
     "name": "stdout",
     "output_type": "stream",
     "text": [
      "True\n"
     ]
    }
   ],
   "source": [
    "char=\"1223938020909\"\n",
    "print(char.isnumeric())"
   ]
  },
  {
   "cell_type": "markdown",
   "id": "9aad8bfb-cc41-42a6-9b72-db7966a7e114",
   "metadata": {},
   "source": [
    "26. istitle- it returns true is the string is title cased.\n",
    "- example"
   ]
  },
  {
   "cell_type": "code",
   "execution_count": 62,
   "id": "42e4213f-1729-40ad-8208-5220d515b20a",
   "metadata": {},
   "outputs": [
    {
     "name": "stdout",
     "output_type": "stream",
     "text": [
      "True\n"
     ]
    }
   ],
   "source": [
    "word = \"Namste India\"\n",
    "print(word.istitle())"
   ]
  },
  {
   "cell_type": "markdown",
   "id": "d423dc5a-5ffa-4928-a3ec-5c5cca6f65a9",
   "metadata": {},
   "source": [
    "27. isspace - It returns True if all characters in the string are whitespaces.\n",
    "- example"
   ]
  },
  {
   "cell_type": "code",
   "execution_count": 71,
   "id": "dc89bc44-bb81-4ea8-8783-39a4fff852e5",
   "metadata": {},
   "outputs": [
    {
     "name": "stdout",
     "output_type": "stream",
     "text": [
      "False\n"
     ]
    }
   ],
   "source": [
    "rank=\"1 2 3 4 5\"\n",
    "print(rank.isspace())"
   ]
  },
  {
   "cell_type": "markdown",
   "id": "268fb9a4-7826-49f2-8494-095e8a05419e",
   "metadata": {},
   "source": [
    "28. isprintable- It returns True if all characters in the string are printable.\n",
    "- example"
   ]
  },
  {
   "cell_type": "code",
   "execution_count": 74,
   "id": "b50b0185-952f-4a68-a914-2dae8de1e5c6",
   "metadata": {},
   "outputs": [
    {
     "name": "stdout",
     "output_type": "stream",
     "text": [
      "True\n"
     ]
    }
   ],
   "source": [
    "prle = ' She is looking beautiful'\n",
    "print(prle.isprintable())  "
   ]
  },
  {
   "cell_type": "markdown",
   "id": "9118f4bd-8968-4ad7-af16-476945e4e92d",
   "metadata": {},
   "source": [
    "29. lstrip- It returns a copy of the string by removing starting whitespaces.\n",
    "- example"
   ]
  },
  {
   "cell_type": "code",
   "execution_count": 77,
   "id": "7e78999a-2553-45a4-b533-e5e7c5d2f089",
   "metadata": {},
   "outputs": [
    {
     "name": "stdout",
     "output_type": "stream",
     "text": [
      "hii! friends\n"
     ]
    }
   ],
   "source": [
    "str= \"     hii! friends\"\n",
    "print(str.lstrip())"
   ]
  },
  {
   "cell_type": "markdown",
   "id": "e468b1c9-1066-49ac-a824-9dfc94edc8fc",
   "metadata": {},
   "source": [
    "30. rstrip- It returns  the string by removing the ending whitespaces.\n",
    "- example"
   ]
  },
  {
   "cell_type": "code",
   "execution_count": 83,
   "id": "098979eb-fb2a-4969-82c8-3885202e2a48",
   "metadata": {},
   "outputs": [
    {
     "name": "stdout",
     "output_type": "stream",
     "text": [
      "hii! friends\n"
     ]
    }
   ],
   "source": [
    "str= \"hii! friends      \"\n",
    "print(str.rstrip())"
   ]
  },
  {
   "cell_type": "markdown",
   "id": "ec5a811a-f214-4555-8f6f-9ac1a7115bce",
   "metadata": {},
   "source": [
    "31. splitlines- it\twill split the string and returns a list\n",
    "- example"
   ]
  },
  {
   "cell_type": "code",
   "execution_count": 108,
   "id": "972a1370-edad-4b6e-ac09-d7833eb687a7",
   "metadata": {},
   "outputs": [
    {
     "name": "stdout",
     "output_type": "stream",
     "text": [
      "['He', 'is', 'in ', 'India.']\n"
     ]
    }
   ],
   "source": [
    "id= \"He\\nis\\nin \\nIndia.\"\n",
    "b = id.splitlines()\n",
    "print(b) "
   ]
  },
  {
   "cell_type": "markdown",
   "id": "4b44b151-1f18-4e25-aa7b-e00fb0d50679",
   "metadata": {},
   "source": [
    "32. rfind- \tIt returns the string for a specified value and returns the last position of where it was found.\n",
    "- example"
   ]
  },
  {
   "cell_type": "code",
   "execution_count": 113,
   "id": "b0a67f10-9a37-41e7-b938-7ce4f049d172",
   "metadata": {},
   "outputs": [
    {
     "name": "stdout",
     "output_type": "stream",
     "text": [
      "5\n"
     ]
    }
   ],
   "source": [
    "prle = ' She is looking beautiful'\n",
    "print(prle.rfind('is'))  "
   ]
  },
  {
   "cell_type": "markdown",
   "id": "a32cb7ec-c175-419d-b79c-1693e1a6e24e",
   "metadata": {},
   "source": [
    "33. rindex-It returns the string for a specified value and returns the last position of where it was found, but raises value error its almost same as rfind.\n",
    "- example"
   ]
  },
  {
   "cell_type": "code",
   "execution_count": 118,
   "id": "6396cee7-b78c-4c3a-b1a0-9f00ed44463f",
   "metadata": {},
   "outputs": [
    {
     "name": "stdout",
     "output_type": "stream",
     "text": [
      "13\n"
     ]
    }
   ],
   "source": [
    "text= \" Anvitha  is in america\"\n",
    "print(text.rindex('in'))"
   ]
  },
  {
   "cell_type": "markdown",
   "id": "0c477cfd-99a5-4fb6-a00e-d70df9013854",
   "metadata": {},
   "source": [
    "34. rsplit- It Splits the string from the right and returns the string.\n",
    "- example"
   ]
  },
  {
   "cell_type": "code",
   "execution_count": 127,
   "id": "7fa46cc7-93a9-4423-9437-3a8441676357",
   "metadata": {},
   "outputs": [
    {
     "name": "stdout",
     "output_type": "stream",
     "text": [
      "['he', 'is', 'looking', 'at', 'the', 'man.']\n"
     ]
    }
   ],
   "source": [
    "str=\"he is looking at the man.\"\n",
    "print(str.rsplit())"
   ]
  },
  {
   "cell_type": "markdown",
   "id": "b36285ad-810d-49ae-ac34-b435bb80273a",
   "metadata": {},
   "source": [
    "35 zfill- Fills the string with a specified number of 0 values at the beginning.\n",
    "- example"
   ]
  },
  {
   "cell_type": "code",
   "execution_count": 132,
   "id": "5f88bcb9-fd77-4cc6-87f0-6e32ed9371bb",
   "metadata": {},
   "outputs": [
    {
     "name": "stdout",
     "output_type": "stream",
     "text": [
      "089383\n"
     ]
    }
   ],
   "source": [
    "str = \"089383\"\n",
    "str_1 = str.zfill(4)\n",
    "print(str_1)  "
   ]
  },
  {
   "cell_type": "markdown",
   "id": "a9a5254d-e27d-4595-8fc9-7ad3b5d91b24",
   "metadata": {},
   "source": [
    "36. translate- it modifyies string according to given translation mapping\n",
    "- example\r\n",
    "wordon={103:None,101:None,101:None}\r\n",
    "str=\"akshaya\"\r\n",
    "print(\"translated string:\",str.translate(translation))"
   ]
  },
  {
   "cell_type": "code",
   "execution_count": 6,
   "id": "0c15d125-0e38-483a-b09a-ea5b65ac3c25",
   "metadata": {},
   "outputs": [
    {
     "name": "stdout",
     "output_type": "stream",
     "text": [
      "translated string: anvitha\n"
     ]
    }
   ],
   "source": [
    "word={10:None,11:None,12:None}\n",
    "str_1=\"anvitha\"\n",
    "print(\"translated string:\",str_1.translate(word))"
   ]
  },
  {
   "cell_type": "markdown",
   "id": "fa5cedc8-81a8-47c4-a804-6b67d2706c12",
   "metadata": {},
   "source": [
    "37. format_map- It formats specified values in string using a dictionary\n",
    "- example"
   ]
  },
  {
   "cell_type": "code",
   "execution_count": 15,
   "id": "73e78933-e362-4607-a260-10535c3ba445",
   "metadata": {},
   "outputs": [
    {
     "name": "stdout",
     "output_type": "stream",
     "text": [
      "Delhi is captital of India\n"
     ]
    }
   ],
   "source": [
    "alpha={\"b\":'Delhi','c':'India'}\n",
    "print(\"{b} is captital of {c}\".format_map(alpha))"
   ]
  },
  {
   "cell_type": "markdown",
   "id": "fa943de9-0991-4dd8-a9b0-23c2faf7a269",
   "metadata": {},
   "source": [
    "38. swapcase - converts all uppercase characters to lowercase and viceversa\n",
    "- example"
   ]
  },
  {
   "cell_type": "code",
   "execution_count": 18,
   "id": "c1fdebd0-9eaa-47fb-95b3-3857bc1623ab",
   "metadata": {},
   "outputs": [
    {
     "name": "stdout",
     "output_type": "stream",
     "text": [
      "RAJANNA\n"
     ]
    }
   ],
   "source": [
    "str=\"rajanna\"\n",
    "print(str.swapcase())\n"
   ]
  },
  {
   "cell_type": "markdown",
   "id": "10583167-3d05-4d53-b35d-1534479dbd2d",
   "metadata": {},
   "source": [
    "39. maketrans- It returns a translation table to be used in translations\n",
    "- example"
   ]
  },
  {
   "cell_type": "code",
   "execution_count": 25,
   "id": "87505d85-b156-490d-b702-66c45d4c55eb",
   "metadata": {},
   "outputs": [
    {
     "name": "stdout",
     "output_type": "stream",
     "text": [
      "dhaik idrid\n"
     ]
    }
   ],
   "source": [
    "og = \"shaik idris\"\n",
    "translation = str.maketrans(\"s\", \"d\") \n",
    "changed = og.translate(translation)\n",
    "print(changed)"
   ]
  },
  {
   "cell_type": "markdown",
   "id": "85ecb740-94a3-44ef-a74b-716997382a80",
   "metadata": {},
   "source": [
    "40. startswith-  It returns true if a string starts with prefix\n",
    "- example"
   ]
  },
  {
   "cell_type": "code",
   "execution_count": 29,
   "id": "f6119742-4d51-4633-9692-2634cd9acb6d",
   "metadata": {},
   "outputs": [
    {
     "name": "stdout",
     "output_type": "stream",
     "text": [
      "True\n"
     ]
    }
   ],
   "source": [
    "str=\"Abrar\"\n",
    "print(str.startswith(\"Abrar\"))"
   ]
  },
  {
   "cell_type": "code",
   "execution_count": null,
   "id": "e9a547e1-eea2-47a3-b36f-a8ea0371d2c8",
   "metadata": {},
   "outputs": [],
   "source": []
  }
 ],
 "metadata": {
  "kernelspec": {
   "display_name": "Python 3 (ipykernel)",
   "language": "python",
   "name": "python3"
  },
  "language_info": {
   "codemirror_mode": {
    "name": "ipython",
    "version": 3
   },
   "file_extension": ".py",
   "mimetype": "text/x-python",
   "name": "python",
   "nbconvert_exporter": "python",
   "pygments_lexer": "ipython3",
   "version": "3.12.4"
  }
 },
 "nbformat": 4,
 "nbformat_minor": 5
}
