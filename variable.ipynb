{
 "cells": [
  {
   "cell_type": "markdown",
   "id": "fa35b04b-265e-4b07-bce0-c6e42f527b56",
   "metadata": {},
   "source": [
    "#  1.explain about variables?\n",
    "- A variable is a  storage area which hold data.\n",
    "- Variable names are just the symbolic representation of a memory location and each variable should be given a unique name.\n",
    "- Variables are essential in Python programming for manupulating data in computer programmes, allowing for dynamic and flexible code.\n",
    "- They also enables us for dynamic and flexible coding, which makes easier to write and maintain the code.\n",
    "\n"
   ]
  },
  {
   "cell_type": "markdown",
   "id": "d53ef16b-ef2a-4929-a133-aff4314c4b3b",
   "metadata": {},
   "source": [
    "# 2. Rules of variables?\n",
    "- Rules of variables:-\n",
    "- A variable name must begin with a letter (a-z, A-Z) or an underscore (_)- .\n",
    "- you can use letters, numbers (0-9), and underscores after the first variable, for example:- vasu1, dataset_2028, user_nam- e.\n",
    "- Variable names cannot contain space and cannot include special characters such as @, #, $, %, &, etc\n",
    "- Variables cannot start with keyword and are also case sensitive for example : team, TEAM OR Team are cosidered to be diffrent."
   ]
  },
  {
   "cell_type": "markdown",
   "id": "37b550e8-0c50-458f-b429-13d4db9c3f61",
   "metadata": {},
   "source": [
    "# 3.Types of variables .\n",
    " - They are two types of variables :-\n",
    "   1. single\n",
    "   2. multiple\n",
    "- single variable are those that store only sole value such as int,float.\n",
    "  "
   ]
  },
  {
   "cell_type": "code",
   "execution_count": 4,
   "id": "c4417844-0812-403c-9905-3c66bbb352d7",
   "metadata": {},
   "outputs": [
    {
     "name": "stdout",
     "output_type": "stream",
     "text": [
      "93093\n",
      "<class 'int'>\n",
      "0.4\n",
      "<class 'float'>\n"
     ]
    }
   ],
   "source": [
    "#example of single variable \n",
    "x= 93093\n",
    "a=0.4\n",
    "\n",
    "print(x)\n",
    "print(type(x))\n",
    "print(a)\n",
    "print(type(a))"
   ]
  },
  {
   "cell_type": "markdown",
   "id": "c7fd0e4f-6d71-45c8-8ee2-74435a6a9b47",
   "metadata": {},
   "source": [
    "- multiple variables are which can store multiple data in one line and they are classified into 2 types:-\n",
    "1. multi to multi\n",
    "2. multi to one\n"
   ]
  },
  {
   "cell_type": "code",
   "execution_count": 8,
   "id": "97bf5a06-10c0-4691-80d5-35248b8f80be",
   "metadata": {},
   "outputs": [
    {
     "name": "stdout",
     "output_type": "stream",
     "text": [
      "23\n",
      "34\n",
      "56\n"
     ]
    }
   ],
   "source": [
    "#multi to multi\n",
    "x,y,z= 23,34,56\n",
    "print (x)\n",
    "print(y)\n",
    "print(z)"
   ]
  },
  {
   "cell_type": "code",
   "execution_count": 10,
   "id": "8b02ac4e-c393-430b-93a7-c3b860b9c6b4",
   "metadata": {},
   "outputs": [
    {
     "name": "stdout",
     "output_type": "stream",
     "text": [
      "25\n",
      "25\n",
      "25\n"
     ]
    }
   ],
   "source": [
    "#multi to one\n",
    "a=b=c= 25\n",
    "print(a)\n",
    "print(b)\n",
    "print(c)"
   ]
  },
  {
   "cell_type": "markdown",
   "id": "7b6cd019-3abe-4828-814b-1b98365da6d5",
   "metadata": {},
   "source": [
    "# 4. 10 examples of each and every type of variable and printing them and identifying the type.\n",
    "1. single variables"
   ]
  },
  {
   "cell_type": "code",
   "execution_count": 14,
   "id": "c7fe10c6-50d8-425b-a3ac-6f096d08170c",
   "metadata": {},
   "outputs": [
    {
     "name": "stdout",
     "output_type": "stream",
     "text": [
      "34\n",
      "<class 'int'>\n"
     ]
    }
   ],
   "source": [
    "#1\n",
    "a = 34\n",
    "print(a)\n",
    "print(type(a))\n"
   ]
  },
  {
   "cell_type": "code",
   "execution_count": 18,
   "id": "6f54d6c6-77d5-449e-bb8b-7317297863ae",
   "metadata": {},
   "outputs": [
    {
     "name": "stdout",
     "output_type": "stream",
     "text": [
      "389128\n",
      "<class 'int'>\n"
     ]
    }
   ],
   "source": [
    "#2\n",
    "x= 389128\n",
    "print(x)\n",
    "print(type(x))"
   ]
  },
  {
   "cell_type": "code",
   "execution_count": 20,
   "id": "cdb7967d-562d-486f-928b-0bf5579f4b53",
   "metadata": {},
   "outputs": [
    {
     "name": "stdout",
     "output_type": "stream",
     "text": [
      "98.7\n",
      "<class 'float'>\n"
     ]
    }
   ],
   "source": [
    "#3 \n",
    "temp = 98.7\n",
    "print(temp)\n",
    "print(type(temp))"
   ]
  },
  {
   "cell_type": "code",
   "execution_count": 22,
   "id": "bfe73455-522e-4e75-8847-fe3eecf778e5",
   "metadata": {},
   "outputs": [
    {
     "name": "stdout",
     "output_type": "stream",
     "text": [
      "0.45\n",
      "<class 'float'>\n"
     ]
    }
   ],
   "source": [
    "#4\n",
    "x= 0.45\n",
    "print(x)\n",
    "print(type(x))"
   ]
  },
  {
   "cell_type": "code",
   "execution_count": 28,
   "id": "8201793f-49a9-4689-b74e-8a6b11824e38",
   "metadata": {},
   "outputs": [
    {
     "name": "stdout",
     "output_type": "stream",
     "text": [
      "56\n",
      "<class 'int'>\n"
     ]
    }
   ],
   "source": [
    "#5\n",
    "ram= 56\n",
    "print(ram)\n",
    "print(type(ram))\n"
   ]
  },
  {
   "cell_type": "code",
   "execution_count": 46,
   "id": "b2cf5112-89c5-4027-a86c-c72ea0c026a4",
   "metadata": {},
   "outputs": [
    {
     "name": "stdout",
     "output_type": "stream",
     "text": [
      "(10+20j)\n",
      "<class 'complex'>\n"
     ]
    }
   ],
   "source": [
    "#6\n",
    "c = 10+20j\n",
    "print(c)\n",
    "print(type(c))"
   ]
  },
  {
   "cell_type": "code",
   "execution_count": 50,
   "id": "9b3ac683-9c32-4892-84fb-13e9aa2cfdea",
   "metadata": {},
   "outputs": [
    {
     "name": "stdout",
     "output_type": "stream",
     "text": [
      "789\n",
      "<class 'int'>\n"
     ]
    }
   ],
   "source": [
    "#7\n",
    "abc= 789\n",
    "print(abc)\n",
    "print(type(abc))"
   ]
  },
  {
   "cell_type": "code",
   "execution_count": 52,
   "id": "8d79797f-bba8-449c-bbea-b020db6aead5",
   "metadata": {},
   "outputs": [
    {
     "name": "stdout",
     "output_type": "stream",
     "text": [
      "77.01\n",
      "<class 'float'>\n"
     ]
    }
   ],
   "source": [
    "#8\n",
    "idris=77.01\n",
    "\n",
    "print(idris)\n",
    "print(type(idris))"
   ]
  },
  {
   "cell_type": "code",
   "execution_count": 64,
   "id": "507f3cae-7fdf-42d4-b8d3-e81b1d417a8f",
   "metadata": {},
   "outputs": [
    {
     "name": "stdout",
     "output_type": "stream",
     "text": [
      "(9-2j)\n",
      "<class 'complex'>\n"
     ]
    }
   ],
   "source": [
    "#9\n",
    "p= 9 - 2j\n",
    "print(p)\n",
    "print(type(p))"
   ]
  },
  {
   "cell_type": "code",
   "execution_count": 66,
   "id": "ff5c9a27-040a-4468-9fca-bc4981bfde10",
   "metadata": {},
   "outputs": [
    {
     "name": "stdout",
     "output_type": "stream",
     "text": [
      "128280130193093293290239\n",
      "<class 'int'>\n"
     ]
    }
   ],
   "source": [
    "#10\n",
    "x= 128280130193093293290239\n",
    "print(x)\n",
    "print(type(x))"
   ]
  },
  {
   "cell_type": "markdown",
   "id": "255d7015-575c-4821-83eb-c1e9454613d0",
   "metadata": {},
   "source": [
    "2. multiple variables\n",
    "- multi to multi\n",
    "- multi to one\n",
    "- one to multi"
   ]
  },
  {
   "cell_type": "code",
   "execution_count": 76,
   "id": "71912e9f-c64c-40b5-aaf3-f9433822d8ba",
   "metadata": {},
   "outputs": [
    {
     "name": "stdout",
     "output_type": "stream",
     "text": [
      "1\n",
      "2\n",
      "7\n",
      "<class 'int'>\n",
      "<class 'int'>\n",
      "<class 'int'>\n"
     ]
    }
   ],
   "source": [
    "#multi to multi\n",
    "a,b,c= 1 ,2,7\n",
    "print(a)\n",
    "print(b)\n",
    "print(c)\n",
    "print(type(a))\n",
    "print(type(b))\n",
    "print(type(c))\n"
   ]
  },
  {
   "cell_type": "code",
   "execution_count": 70,
   "id": "220de9e1-6c69-4442-8b7b-50653abaf93a",
   "metadata": {},
   "outputs": [
    {
     "name": "stdout",
     "output_type": "stream",
     "text": [
      "34\n",
      "45\n",
      "67.4\n",
      "<class 'float'>\n"
     ]
    }
   ],
   "source": [
    "ram,lucy,skid= 34,45,67.4\n",
    "print(ram)\n",
    "print(lucy)\n",
    "print(skid)\n",
    "print(type(skid))"
   ]
  },
  {
   "cell_type": "code",
   "execution_count": 72,
   "id": "cca7e326-9d37-481e-a1ce-8aa513098cb3",
   "metadata": {},
   "outputs": [
    {
     "name": "stdout",
     "output_type": "stream",
     "text": [
      "(23+1j)\n",
      "34.0\n",
      "89\n",
      "<class 'complex'>\n",
      "<class 'float'>\n",
      "<class 'int'>\n"
     ]
    }
   ],
   "source": [
    "x,y,z= 23+1j,34.0,89\n",
    "print(x)\n",
    "print(y)\n",
    "print(z)\n",
    "print(type(x))\n",
    "print(type(y))\n",
    "print(type(z))"
   ]
  },
  {
   "cell_type": "code",
   "execution_count": 78,
   "id": "6b495bbf-5749-4507-8b30-deb5a1995d27",
   "metadata": {},
   "outputs": [
    {
     "name": "stdout",
     "output_type": "stream",
     "text": [
      "20.3\n",
      "45.6\n",
      "90.7\n",
      "<class 'float'>\n",
      "<class 'float'>\n",
      "<class 'float'>\n"
     ]
    }
   ],
   "source": [
    "x2,d5,k6= 20.3,45.6,90.7\n",
    "print(x2)\n",
    "print(d5)\n",
    "print(k6)\n",
    "print(type(k6))\n",
    "print(type(x2))\n",
    "print(type(d5))"
   ]
  },
  {
   "cell_type": "code",
   "execution_count": 80,
   "id": "76a346e6-d5b1-4e87-b25d-dfa0ad8cf174",
   "metadata": {},
   "outputs": [
    {
     "name": "stdout",
     "output_type": "stream",
     "text": [
      "45\n",
      "45\n",
      "45\n",
      "<class 'int'>\n",
      "<class 'int'>\n",
      "<class 'int'>\n"
     ]
    }
   ],
   "source": [
    "#multi to one\n",
    "x=y=z=45\n",
    "print(x)\n",
    "print(y)\n",
    "print(z)\n",
    "print(type(x))\n",
    "print(type(y))\n",
    "print(type(z))"
   ]
  },
  {
   "cell_type": "code",
   "execution_count": 82,
   "id": "2fb127ef-e876-4703-a5c6-c6114f5802ab",
   "metadata": {},
   "outputs": [
    {
     "name": "stdout",
     "output_type": "stream",
     "text": [
      "99.9\n",
      "99.9\n",
      "99.9\n",
      "<class 'float'>\n",
      "<class 'float'>\n",
      "<class 'float'>\n"
     ]
    }
   ],
   "source": [
    "jaan= bob= cat= 99.9\n",
    "print(jaan)\n",
    "print(bob)\n",
    "print(cat)\n",
    "print(type(jaan))\n",
    "print(type(bob))\n",
    "print(type(cat))"
   ]
  },
  {
   "cell_type": "code",
   "execution_count": 84,
   "id": "ba23b826-98e9-40cf-be6a-85ebfc49c7fb",
   "metadata": {},
   "outputs": [
    {
     "name": "stdout",
     "output_type": "stream",
     "text": [
      "(23+2j)\n",
      "(23+2j)\n",
      "(23+2j)\n",
      "<class 'complex'>\n",
      "<class 'complex'>\n",
      "<class 'complex'>\n"
     ]
    }
   ],
   "source": [
    "a=b=c= 23+2j\n",
    "print(a)\n",
    "print(b)\n",
    "print(c)\n",
    "print(type(a))\n",
    "print(type(b))\n",
    "print(type(c))"
   ]
  },
  {
   "cell_type": "code",
   "execution_count": 90,
   "id": "d0274dc8-6645-4d13-890e-369729f6382c",
   "metadata": {},
   "outputs": [
    {
     "name": "stdout",
     "output_type": "stream",
     "text": [
      "23\n",
      "<class 'int'>\n",
      "45\n",
      "<class 'int'>\n",
      "34\n",
      "<class 'int'>\n"
     ]
    }
   ],
   "source": [
    "#one to multi\n",
    "a= 23,45,34\n",
    "print(a[0])\n",
    "print(type(a[0]))\n",
    "print(a[1])\n",
    "print(type(a[1]))\n",
    "print(a[2])\n",
    "print(type(a[2]))"
   ]
  },
  {
   "cell_type": "code",
   "execution_count": 92,
   "id": "6a9081a9-1bb5-44d7-b6c1-9bb88b262612",
   "metadata": {},
   "outputs": [
    {
     "name": "stdout",
     "output_type": "stream",
     "text": [
      "98\n",
      "<class 'int'>\n",
      "99.0\n",
      "<class 'float'>\n",
      "(49+2j)\n",
      "<class 'complex'>\n"
     ]
    }
   ],
   "source": [
    "idris= 98,99.0,49+2j\n",
    "print(idris[0])\n",
    "print(type(idris[0]))\n",
    "print(idris[1])\n",
    "print(type(idris[1]))\n",
    "print(idris[2])\n",
    "print(type(idris[2]))"
   ]
  },
  {
   "cell_type": "code",
   "execution_count": null,
   "id": "2793276c-d15e-4531-be4c-fdef5cb9f785",
   "metadata": {},
   "outputs": [],
   "source": []
  }
 ],
 "metadata": {
  "kernelspec": {
   "display_name": "Python 3 (ipykernel)",
   "language": "python",
   "name": "python3"
  },
  "language_info": {
   "codemirror_mode": {
    "name": "ipython",
    "version": 3
   },
   "file_extension": ".py",
   "mimetype": "text/x-python",
   "name": "python",
   "nbconvert_exporter": "python",
   "pygments_lexer": "ipython3",
   "version": "3.12.4"
  }
 },
 "nbformat": 4,
 "nbformat_minor": 5
}
