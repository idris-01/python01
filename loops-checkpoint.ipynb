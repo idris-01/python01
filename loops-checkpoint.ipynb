{
 "cells": [
  {
   "cell_type": "markdown",
   "id": "381fe0ab-a17b-4b1f-b499-127608149272",
   "metadata": {},
   "source": [
    "# 1. while loop.\n",
    "- python while loop is ised to run a block code until a certain condition is met.\n",
    "- a  while loop evaluaates the comdition.\n",
    "- syntax of while loop-\n",
    "  while condition :\n",
    "  #body."
   ]
  },
  {
   "cell_type": "code",
   "execution_count": 3,
   "id": "187f6088-d25d-4a0f-9ba0-47f69fd7ea57",
   "metadata": {},
   "outputs": [
    {
     "name": "stdout",
     "output_type": "stream",
     "text": [
      "10\n",
      "20\n",
      "30\n",
      "40\n",
      "50\n"
     ]
    }
   ],
   "source": [
    "#example\n",
    "num=10\n",
    "while num<=50:\n",
    "    print(num)\n",
    "    num=num+10\n"
   ]
  },
  {
   "cell_type": "markdown",
   "id": "50cb65c8-e284-4111-9cfe-4ae51fd04ba5",
   "metadata": {},
   "source": [
    "# 2. for loop.\n",
    "- The for loop is used for iteration of the sequence.\n",
    "- The loop continues until the condition is met.\n",
    "- syntax of for loop-\n",
    "  for condition:\n",
    "  #body"
   ]
  },
  {
   "cell_type": "code",
   "execution_count": 7,
   "id": "47095823-8488-4148-99fb-c5202ec156ed",
   "metadata": {},
   "outputs": [
    {
     "name": "stdout",
     "output_type": "stream",
     "text": [
      "h\n",
      "e\n",
      "l\n",
      "l\n",
      "o\n",
      " \n",
      "f\n",
      "r\n",
      "i\n",
      "e\n",
      "n\n",
      "d\n",
      "s\n",
      "!\n"
     ]
    }
   ],
   "source": [
    "#example\n",
    "word=\"hello friends!\"\n",
    "\n",
    "for i in word:\n",
    "    print(i)"
   ]
  },
  {
   "cell_type": "code",
   "execution_count": 3,
   "id": "cc665b2e-c2af-4970-89a4-0c92f992d7b3",
   "metadata": {},
   "outputs": [
    {
     "name": "stdin",
     "output_type": "stream",
     "text": [
      "enter a year : 2001\n"
     ]
    },
    {
     "name": "stdout",
     "output_type": "stream",
     "text": [
      "2001  is not a leap year\n"
     ]
    }
   ],
   "source": [
    "# 1Write a python program to check given year is a leap year or not\n",
    "year=int(input(\"enter a year :\"))\n",
    "for i in range(1):\n",
    "    if year % 4 == 0:\n",
    "         print(year,' is a leap year')\n",
    "    else:\n",
    "        print(year,' is not a leap year')"
   ]
  },
  {
   "cell_type": "code",
   "execution_count": 194,
   "id": "c6283ab2-ca38-401e-9833-411055f1abcb",
   "metadata": {},
   "outputs": [
    {
     "name": "stdout",
     "output_type": "stream",
     "text": [
      "3 number is odd\n",
      "4 number is even\n",
      "5 number is odd\n",
      "6 number is even\n",
      "7 number is odd\n",
      "89 number is odd\n",
      "21 number is odd\n",
      "45 number is odd\n",
      "32 number is even\n"
     ]
    }
   ],
   "source": [
    "#2write a py programm to find given number even or odd\n",
    "num=[3,4,5,6,7,89,21,45,32]\n",
    "for i in num:\n",
    "    if i % 2 == 0:\n",
    "        print(i,'number is even')\n",
    "    else : \n",
    "        print(i,'number is odd')"
   ]
  },
  {
   "cell_type": "code",
   "execution_count": 196,
   "id": "7dd3d1c6-58df-4257-b089-291749040017",
   "metadata": {},
   "outputs": [
    {
     "name": "stdout",
     "output_type": "stream",
     "text": [
      "list is not empty\n"
     ]
    }
   ],
   "source": [
    "#3 check wheather the list  is empty or not\n",
    "list=[8]\n",
    "for i in  list : \n",
    "    if not list:\n",
    "        print('list is empty')\n",
    "    else :\n",
    "        print('list is not empty')"
   ]
  },
  {
   "cell_type": "code",
   "execution_count": 198,
   "id": "fa8e9cb7-3501-49c0-84e4-39172abaf124",
   "metadata": {},
   "outputs": [
    {
     "name": "stdout",
     "output_type": "stream",
     "text": [
      "23 fail\n",
      "67 d grade\n",
      "100 a grade\n",
      "37 fail\n",
      "90 a grade\n",
      "32 fail\n",
      "47 fail\n"
     ]
    }
   ],
   "source": [
    "#4 write a py program to calculate grade of a student\n",
    "m=[23,67,100,37,90,32,47]\n",
    "\n",
    "for i in m:\n",
    "    if  i >= 90:\n",
    "        print(i,'a grade')\n",
    "    elif  i>= 80:\n",
    "        print(i,'b grade')\n",
    "    elif  i>= 70:\n",
    "        print(i,'c grade')\n",
    "    elif  i>= 60:\n",
    "        print(i,'d grade')\n",
    "    else : \n",
    "        print(i,'fail')"
   ]
  },
  {
   "cell_type": "code",
   "execution_count": null,
   "id": "8d81ed33-5702-4cc9-a15c-516cdd483c68",
   "metadata": {},
   "outputs": [],
   "source": []
  },
  {
   "cell_type": "code",
   "execution_count": 23,
   "id": "0b1e9560-dcc8-4456-91c5-6b4b01168ce4",
   "metadata": {},
   "outputs": [
    {
     "name": "stdin",
     "output_type": "stream",
     "text": [
      "enter word: refer\n"
     ]
    },
    {
     "name": "stdout",
     "output_type": "stream",
     "text": [
      "refer is a palindrome\n"
     ]
    }
   ],
   "source": [
    "# check wheather the word is palindrome or not\n",
    "a=input('enter word:')\n",
    "for i in a:\n",
    "    if i == i[::-1]:\n",
    "        print(f'{a} is a palindrome')\n",
    "        break\n",
    "    else:\n",
    "        print(f'{a} is not a palindrome')"
   ]
  },
  {
   "cell_type": "code",
   "execution_count": 204,
   "id": "82851bf8-51c2-4d4e-ae37-4dc47c4278c0",
   "metadata": {},
   "outputs": [
    {
     "name": "stdin",
     "output_type": "stream",
     "text": [
      "enter a number: 1\n",
      "enter a number: 2\n",
      "enter a number: 3\n",
      "enter a number: 4\n"
     ]
    },
    {
     "name": "stdout",
     "output_type": "stream",
     "text": [
      "1  is the smallest number\n"
     ]
    }
   ],
   "source": [
    "#6 write a python program to find the smallest among three numbers\n",
    "list1=[]\n",
    "\n",
    "for i in range(4):\n",
    "    list=int(input(\"enter a number:\"))\n",
    "    list1.append(list)\n",
    "             \n",
    "smallest=min(list1)\n",
    "\n",
    "print( smallest,\" is the smallest number\")\n",
    "            "
   ]
  },
  {
   "cell_type": "code",
   "execution_count": 142,
   "id": "2c507e05-0eba-4aa3-b525-fb669c6e8486",
   "metadata": {},
   "outputs": [
    {
     "name": "stdout",
     "output_type": "stream",
     "text": [
      "Largest: 91\n",
      "Second Largest: 90\n"
     ]
    }
   ],
   "source": [
    "#7 find the 2 largest number in a list\n",
    "num = [90, 34, 91, 65, 89, 40]\n",
    "max_num = second_max = 0\n",
    "\n",
    "for i in num:\n",
    "    if i > max_num:\n",
    "        second_max = max_num\n",
    "        max_num = i\n",
    "    elif i > second_max:\n",
    "        second_max = i\n",
    "print(\"Second Largest:\",second_max)\n",
    "\n",
    "     \n"
   ]
  },
  {
   "cell_type": "code",
   "execution_count": 192,
   "id": "de3ed8c4-af52-4698-86ba-0e73d4fd8eed",
   "metadata": {},
   "outputs": [
    {
     "name": "stdin",
     "output_type": "stream",
     "text": [
      "enter height in cm: 167\n",
      "enter weight in kg: 67\n"
     ]
    },
    {
     "name": "stdout",
     "output_type": "stream",
     "text": [
      "24.023808670084982 normal\n"
     ]
    }
   ],
   "source": [
    "#8 calculate bmi and categorize it underweight,normal and over\n",
    "h1=int(input('enter height in cm:'))/100\n",
    "w=int(input('enter weight in kg:'))\n",
    "for i in h1,w:\n",
    "    bmi=(w/(h1**2))\n",
    "if bmi<=18.5:\n",
    "    print(bmi,'underweight')\n",
    "elif bmi<=25:\n",
    "     print(bmi,'normal')\n",
    "else :\n",
    "    print('overweight')\n",
    "        "
   ]
  },
  {
   "cell_type": "code",
   "execution_count": 212,
   "id": "7a45eed7-2bbf-43d2-a40e-09af8b6f7684",
   "metadata": {},
   "outputs": [
    {
     "name": "stdout",
     "output_type": "stream",
     "text": [
      "21 eligible\n",
      "4 not eligible\n",
      "89 eligible\n",
      "21 eligible\n",
      "18 not eligible\n",
      "56 eligible\n",
      "2 not eligible\n",
      "13 not eligible\n"
     ]
    }
   ],
   "source": [
    "#9 to check vote elgibility\n",
    "x=[21,4,89,21,18,56,2,13]\n",
    "for i in x:\n",
    "    if i<=18:\n",
    "      print(i,'not eligible')\n",
    "    else :\n",
    "      print(i,'eligible')"
   ]
  },
  {
   "cell_type": "code",
   "execution_count": 7,
   "id": "70cc0f3d-18e9-4b3e-a82f-818e2ccb0d25",
   "metadata": {},
   "outputs": [
    {
     "name": "stdin",
     "output_type": "stream",
     "text": [
      "enter the age: 56\n"
     ]
    },
    {
     "name": "stdout",
     "output_type": "stream",
     "text": [
      "retired group\n"
     ]
    }
   ],
   "source": [
    "#10 \n",
    "age=int(input('enter the age:'))\n",
    "for i in range(0,100):\n",
    "    if age<=22 :\n",
    "        print(' He is school group')\n",
    "    elif age<=50:\n",
    "        print('He is work group')\n",
    "    else:\n",
    "        print('retired group')\n",
    "    break"
   ]
  },
  {
   "cell_type": "code",
   "execution_count": 11,
   "id": "6a55a0ce-f608-4d18-99e1-8144038952a0",
   "metadata": {},
   "outputs": [
    {
     "name": "stdin",
     "output_type": "stream",
     "text": [
      "Enter your age:  33\n"
     ]
    },
    {
     "name": "stdout",
     "output_type": "stream",
     "text": [
      "He is work group\n"
     ]
    }
   ],
   "source": [
    "age = int(input(\"Enter your age: \"))\n",
    "count = 0\n",
    "\n",
    "while count < 1:\n",
    "    if age<=22 :\n",
    "        print(' He is school group')\n",
    "    elif age<=50:\n",
    "        print('He is work group')\n",
    "    else:\n",
    "        print('retired group')\n",
    "    count=count+1"
   ]
  },
  {
   "cell_type": "code",
   "execution_count": null,
   "id": "7055a9f4-5a2c-46f1-b0cd-3ac13261a311",
   "metadata": {},
   "outputs": [],
   "source": []
  }
 ],
 "metadata": {
  "kernelspec": {
   "display_name": "Python 3 (ipykernel)",
   "language": "python",
   "name": "python3"
  },
  "language_info": {
   "codemirror_mode": {
    "name": "ipython",
    "version": 3
   },
   "file_extension": ".py",
   "mimetype": "text/x-python",
   "name": "python",
   "nbconvert_exporter": "python",
   "pygments_lexer": "ipython3",
   "version": "3.12.4"
  }
 },
 "nbformat": 4,
 "nbformat_minor": 5
}
