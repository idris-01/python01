{
 "cells": [
  {
   "cell_type": "markdown",
   "id": "2f866238-5e98-4cb3-9e6b-beb7bba6e205",
   "metadata": {},
   "source": [
    "# 1. Define tuple.\n",
    "- A tuple is a list in an ordered collection of items.\n",
    "- They are immutable, as once they are created they cannot be changed.\n",
    "- They are defined using parenthesis() and spereated by commas.\n",
    "- They can also contain duplicate elements."
   ]
  },
  {
   "cell_type": "markdown",
   "id": "29104592-549c-4a0f-9ddf-3452a34e0a3e",
   "metadata": {},
   "source": [
    "# 2. examples of tuples\n",
    "- num = (1, 2, 3)\n",
    "- fruits = (\"apple\", \"banana\", \"cherry\")\n",
    "- mixed = (10, \"idris\", 3.09, 'false')\n",
    "- data= ('bat','ball','wicket', 'helmet')\n",
    "- a= (23,4,78,90,22,22,1,22,5,6,1,9)\n",
    "- colours=( \"green\", \"red\", \"blue\",\"yellow\")\n",
    "- names=( \"gaurav\", \"reddy\", \"zoee\",\"anvi\")\n",
    "- single=(90,)\n",
    "- cities=( \" delhi\", \"hyderabad\", \"mumbai\",\"chennai\")\n",
    "- empty=()"
   ]
  },
  {
   "cell_type": "markdown",
   "id": "4dd50bb5-eb76-479a-892e-7a1b79a40b60",
   "metadata": {},
   "source": [
    "# 3. Accessing of tuples."
   ]
  },
  {
   "cell_type": "code",
   "execution_count": 32,
   "id": "3836452f-51b0-462a-a88b-2b033e489301",
   "metadata": {},
   "outputs": [
    {
     "name": "stdout",
     "output_type": "stream",
     "text": [
      "('green', 'red', 'blue', 'yellow')\n",
      "<class 'tuple'>\n"
     ]
    }
   ],
   "source": [
    "colours=( \"green\", \"red\", \"blue\",\"yellow\")\n",
    "print(colours)\n",
    "print(type(colours))"
   ]
  },
  {
   "cell_type": "code",
   "execution_count": 8,
   "id": "68501f67-7fd1-40da-9381-96afab2660d7",
   "metadata": {},
   "outputs": [
    {
     "name": "stdout",
     "output_type": "stream",
     "text": [
      "green\n"
     ]
    }
   ],
   "source": [
    "print(colours[0])"
   ]
  },
  {
   "cell_type": "code",
   "execution_count": 12,
   "id": "24ab8bb0-a2ce-44b6-8a8c-4c67041da08b",
   "metadata": {},
   "outputs": [
    {
     "name": "stdout",
     "output_type": "stream",
     "text": [
      "(23, 4, 78, 90, 22, 22, 1, 22, 5, 6, 1, 9)\n",
      "(23, 4, 78)\n"
     ]
    }
   ],
   "source": [
    "a= (23,4,78,90,22,22,1,22,5,6,1,9)\n",
    "print(a)\n",
    "print(a[0:3])"
   ]
  },
  {
   "cell_type": "code",
   "execution_count": 16,
   "id": "d63e8706-19e5-4a67-a2f8-fedfe06beac4",
   "metadata": {},
   "outputs": [
    {
     "name": "stdout",
     "output_type": "stream",
     "text": [
      "(90, 22, 22, 1, 22, 5, 6)\n"
     ]
    }
   ],
   "source": [
    "print(a[-9:-2])"
   ]
  },
  {
   "cell_type": "code",
   "execution_count": 18,
   "id": "0556cfd9-15a0-4ad2-bcf9-ec4a24837456",
   "metadata": {},
   "outputs": [
    {
     "name": "stdout",
     "output_type": "stream",
     "text": [
      "(' delhi', 'hyderabad', 'mumbai', 'chennai')\n",
      "mumbai\n"
     ]
    }
   ],
   "source": [
    "cities=( \" delhi\", \"hyderabad\", \"mumbai\",\"chennai\")\n",
    "print(cities)\n",
    "print(cities[-2])"
   ]
  },
  {
   "cell_type": "code",
   "execution_count": 20,
   "id": "6f2c6822-65c3-442a-9b86-551de7873928",
   "metadata": {},
   "outputs": [
    {
     "name": "stdout",
     "output_type": "stream",
     "text": [
      "('bat', 'ball', 'wicket', 'helmet')\n",
      "ball\n"
     ]
    }
   ],
   "source": [
    "data= ('bat','ball','wicket', 'helmet')\n",
    "print(data)\n",
    "print(data[1])"
   ]
  },
  {
   "cell_type": "markdown",
   "id": "ae130f7a-420f-4986-8d2b-5bcdb8106f86",
   "metadata": {},
   "source": [
    "# 4. Tuple operations"
   ]
  },
  {
   "cell_type": "code",
   "execution_count": 25,
   "id": "20cfed11-20e8-4308-bced-964b41ece6ad",
   "metadata": {},
   "outputs": [
    {
     "name": "stdout",
     "output_type": "stream",
     "text": [
      "('apple', 'banana', 'cherry', 10, 'idris', 3.09, 'false')\n"
     ]
    }
   ],
   "source": [
    "fruits = (\"apple\", \"banana\", \"cherry\")\n",
    "mixed = (10, \"idris\", 3.09, 'false')\n",
    "x= fruits+mixed\n",
    "print(x)"
   ]
  },
  {
   "cell_type": "code",
   "execution_count": 28,
   "id": "5a705a90-03b4-4980-9c3e-867aff169683",
   "metadata": {},
   "outputs": [
    {
     "name": "stdout",
     "output_type": "stream",
     "text": [
      "(90, 'gaurav', 'reddy', 'zoee', 'anvi', ' delhi', 'hyderabad', 'mumbai', 'chennai')\n"
     ]
    }
   ],
   "source": [
    "names=( \"gaurav\", \"reddy\", \"zoee\",\"anvi\")\n",
    "single=(90,)\n",
    "cities=( \" delhi\", \"hyderabad\", \"mumbai\",\"chennai\")\n",
    "total= single+names+cities\n",
    "print(total)"
   ]
  },
  {
   "cell_type": "code",
   "execution_count": 34,
   "id": "16baaa7b-dd25-4769-a873-0b00d800a9cb",
   "metadata": {},
   "outputs": [
    {
     "name": "stdout",
     "output_type": "stream",
     "text": [
      "(23, 4, 78, 90, 22, 22, 1, 22, 5, 6, 1, 9)\n",
      "('bat', 'ball', 'wicket', 'helmet', 23, 4, 78, 90, 22, 22, 1, 22, 5, 6, 1, 9)\n"
     ]
    }
   ],
   "source": [
    "data= ('bat','ball','wicket', 'helmet')\n",
    "a= (23,4,78,90,22,22,1,22,5,6,1,9)\n",
    "c= data+a\n",
    "print(a)\n",
    "print(c)"
   ]
  },
  {
   "cell_type": "code",
   "execution_count": 40,
   "id": "f0d7dcde-1069-4649-9f66-59b3ca9428d5",
   "metadata": {},
   "outputs": [
    {
     "name": "stdout",
     "output_type": "stream",
     "text": [
      "(1, 2, 3, 1, 2, 3, 1, 2, 3, 1, 2, 3, 1, 2, 3)\n",
      "(1, 2, 3)\n"
     ]
    }
   ],
   "source": [
    "num = (1, 2, 3)\n",
    "rep= num* 5\n",
    "print(rep)\n",
    "print(num)"
   ]
  },
  {
   "cell_type": "code",
   "execution_count": 42,
   "id": "175fd6bd-dc26-49c6-a36c-2223d11ebe22",
   "metadata": {},
   "outputs": [
    {
     "name": "stdout",
     "output_type": "stream",
     "text": [
      "(90,)\n",
      "(90, 90, 90, 90, 90, 90, 90, 90, 90, 90, 90, 90, 90, 90, 90, 90, 90, 90, 90, 90, 90, 90, 90, 90, 90, 90, 90, 90, 90, 90)\n"
     ]
    }
   ],
   "source": [
    "single=(90,)\n",
    "w= single * 30\n",
    "print(single)\n",
    "print(w)"
   ]
  },
  {
   "cell_type": "markdown",
   "id": "79bbf2d7-a1f9-42e9-b5c9-9ddb72cabb95",
   "metadata": {},
   "source": [
    "# 5. Methods of tuple"
   ]
  },
  {
   "cell_type": "markdown",
   "id": "3c80ed66-eef5-4bcc-a1b6-3fbec945f5e1",
   "metadata": {},
   "source": [
    "1. count- returns the number of times a value has been occured"
   ]
  },
  {
   "cell_type": "code",
   "execution_count": 52,
   "id": "826f8633-0156-46c2-b55a-a02d488ff0c7",
   "metadata": {},
   "outputs": [
    {
     "name": "stdout",
     "output_type": "stream",
     "text": [
      "3\n"
     ]
    }
   ],
   "source": [
    "# example\n",
    "a= (23,4,78,90,22,22,1,22,5,6,1,9)\n",
    "c= a.count(22)\n",
    "print(c)"
   ]
  },
  {
   "cell_type": "markdown",
   "id": "717bc54f-308d-405f-8a0a-f412a8f833ac",
   "metadata": {},
   "source": [
    "2. index- returns the index position of the specific value."
   ]
  },
  {
   "cell_type": "code",
   "execution_count": 58,
   "id": "2b7db1b2-2bfc-442b-8c24-9d96116fb6a3",
   "metadata": {},
   "outputs": [
    {
     "name": "stdout",
     "output_type": "stream",
     "text": [
      "6\n"
     ]
    }
   ],
   "source": [
    "#example\n",
    "a= (23,4,78,90,22,22,1,22,5,6,1,9)\n",
    "c= a.index(1)\n",
    "print(c)"
   ]
  },
  {
   "cell_type": "code",
   "execution_count": null,
   "id": "b001605e-90b8-407a-a8c4-70eb4e36332b",
   "metadata": {},
   "outputs": [],
   "source": []
  }
 ],
 "metadata": {
  "kernelspec": {
   "display_name": "Python 3 (ipykernel)",
   "language": "python",
   "name": "python3"
  },
  "language_info": {
   "codemirror_mode": {
    "name": "ipython",
    "version": 3
   },
   "file_extension": ".py",
   "mimetype": "text/x-python",
   "name": "python",
   "nbconvert_exporter": "python",
   "pygments_lexer": "ipython3",
   "version": "3.12.4"
  }
 },
 "nbformat": 4,
 "nbformat_minor": 5
}
