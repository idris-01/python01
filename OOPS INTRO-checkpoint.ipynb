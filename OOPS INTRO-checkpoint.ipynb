{
 "cells": [
  {
   "cell_type": "markdown",
   "id": "653de875-f40d-439c-86d5-13518ddeb061",
   "metadata": {},
   "source": [
    "# OOPS \n",
    "- Object Oriented Programming Language :-It deals with real world problems."
   ]
  },
  {
   "cell_type": "markdown",
   "id": "e9be4b0a-2472-4ca3-930b-fb8b6d5a64a1",
   "metadata": {},
   "source": [
    "# class \n",
    "- collection of objects and \n",
    "conatins the blueprint of the object where ss we can wirte n no. of functions"
   ]
  },
  {
   "cell_type": "markdown",
   "id": "7ab879d8-5e8f-461c-a10a-cfaffcb89928",
   "metadata": {},
   "source": [
    "# object\n",
    "- Object is a real world entity"
   ]
  },
  {
   "cell_type": "code",
   "execution_count": 4,
   "id": "77d95955-33ee-4a00-bf32-75c140a8c99d",
   "metadata": {},
   "outputs": [
    {
     "name": "stdout",
     "output_type": "stream",
     "text": [
      "brown is 3 years old\n",
      "bow bow\n"
     ]
    }
   ],
   "source": [
    "class Dog:\n",
    "    def __init__(self,name,age):\n",
    "        self.name=name\n",
    "        self.age=age\n",
    "    def bark(self):\n",
    "        print(\"bow bow\")\n",
    "\n",
    "dog1=Dog(\"brown\",3)\n",
    "print(f'{dog1.name} is {dog1.age} years old')\n",
    "dog1.bark()"
   ]
  },
  {
   "cell_type": "markdown",
   "id": "42ed734f-f3d8-4d82-957d-d8b95a6efb9c",
   "metadata": {},
   "source": [
    "- There are 4 things for oops\n",
    "1.Inheritence\n",
    "2.encapsulation\n",
    "3.polymorphism\n",
    "4.abstarction"
   ]
  },
  {
   "cell_type": "markdown",
   "id": "39d34816-a7f0-40f6-a602-2a869a883606",
   "metadata": {},
   "source": [
    "# 1.Inheritance\n",
    "- We can inhert features from one class to another class"
   ]
  },
  {
   "cell_type": "code",
   "execution_count": 6,
   "id": "060fb051-375d-4346-8c31-aa02118571b9",
   "metadata": {},
   "outputs": [
    {
     "name": "stdout",
     "output_type": "stream",
     "text": [
      "It barks\n",
      "blue\n",
      "it is pugg\n"
     ]
    }
   ],
   "source": [
    "class Animal:\n",
    "    def dog(self):\n",
    "        print(\"It barks\")\n",
    "    def eyes(self):\n",
    "        print(\"blue\")\n",
    "class Dogs(Animal):\n",
    "    def breed(self):\n",
    "        print(\"it is pugg\")\n",
    "a=Dogs()\n",
    "a.dog()\n",
    "a.eyes()\n",
    "a.breed()        "
   ]
  },
  {
   "cell_type": "markdown",
   "id": "6530729c-6f5d-4024-994d-85832ab5d3c8",
   "metadata": {},
   "source": [
    "# 2. encapsulation\n",
    "-  It is wrapping the data and methods in a single unit which is used for security purpose and helps to achieve data hiding."
   ]
  },
  {
   "cell_type": "code",
   "execution_count": 12,
   "id": "6bb5b88a-c7bb-441c-a1cc-123168726860",
   "metadata": {},
   "outputs": [
    {
     "name": "stdout",
     "output_type": "stream",
     "text": [
      "20\n",
      "10\n",
      "20\n"
     ]
    }
   ],
   "source": [
    "#proctectiong we use single underscore(_)\n",
    "# private and public we use double underscore(__)\n",
    "class Demo:\n",
    "    def __init__(self, a, b):\n",
    "        self.__a = a  #private can be used only in particular class\n",
    "        self._b = b   #we as protect can be used in everywhere when the inheritence is done\n",
    "\n",
    "    def out(self):\n",
    "        print(self._b)\n",
    "        print(self.__a) \n",
    "\n",
    "\n",
    "class demo1(Demo):\n",
    "    def input(self):\n",
    "        print(self._b)\n",
    "\n",
    "    def private(self):\n",
    "        print(self.__a)\n",
    "\n",
    "m= demo1(10,20)\n",
    "m.out()\n",
    "m.input()"
   ]
  },
  {
   "cell_type": "markdown",
   "id": "054c4db2-092e-4bcd-bba9-1c03bf9f8e64",
   "metadata": {},
   "source": [
    "# 3.polymorphism\n",
    "- poly simply means many forms it y can perform different operations in different scenarios"
   ]
  },
  {
   "cell_type": "code",
   "execution_count": 24,
   "id": "a09f6702-2f93-41c6-afd8-aa227139e876",
   "metadata": {},
   "outputs": [
    {
     "name": "stdout",
     "output_type": "stream",
     "text": [
      "28\n",
      "ab\n",
      "7.609999999999999\n",
      "(7+27j)\n"
     ]
    }
   ],
   "source": [
    "class add:\n",
    "    def add(self,a,b):\n",
    "        print(a+b)\n",
    "a = add()\n",
    "a.add(13,15)\n",
    "a.add('a','b')\n",
    "a.add(3.4,4.21)\n",
    "a.add(3+4j,4+23j)"
   ]
  },
  {
   "cell_type": "markdown",
   "id": "63c63a93-be67-444f-b8cf-86e946dabd55",
   "metadata": {},
   "source": [
    "# 4.abstarction\n",
    "- Hiding the unnecessary details.\n",
    "Abstarction allows us to focus on the what an object does rather than how it achieve its functionality"
   ]
  },
  {
   "cell_type": "code",
   "execution_count": 27,
   "id": "695d7a6e-ba2b-406f-aa2c-35c5865a2f08",
   "metadata": {},
   "outputs": [],
   "source": [
    "class animal:\n",
    "    def pugg(self):\n",
    "        pass\n",
    "    def cat(self):\n",
    "        pass\n",
    "    def dog(self):\n",
    "        pass"
   ]
  },
  {
   "cell_type": "code",
   "execution_count": null,
   "id": "d085eb91-3668-41e4-ab91-f6e94d1616d7",
   "metadata": {},
   "outputs": [],
   "source": []
  }
 ],
 "metadata": {
  "kernelspec": {
   "display_name": "Python 3 (ipykernel)",
   "language": "python",
   "name": "python3"
  },
  "language_info": {
   "codemirror_mode": {
    "name": "ipython",
    "version": 3
   },
   "file_extension": ".py",
   "mimetype": "text/x-python",
   "name": "python",
   "nbconvert_exporter": "python",
   "pygments_lexer": "ipython3",
   "version": "3.12.4"
  }
 },
 "nbformat": 4,
 "nbformat_minor": 5
}
