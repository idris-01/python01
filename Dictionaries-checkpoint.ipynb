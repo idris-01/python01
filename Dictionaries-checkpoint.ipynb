{
 "cells": [
  {
   "cell_type": "markdown",
   "id": "d5c3bd98-53b1-4cd5-90ed-3f787f2b28b1",
   "metadata": {},
   "source": [
    "# 1. define dictionaries.\n",
    "- They are combination of key- values , for every item or key there is a value assihned which forms a dictionary.\n",
    "- they are defined by curly braces {}\n",
    "- Dictionaries are also called associative arrays or hash maps.\n",
    "- They are mutable and dont allow duplicates."
   ]
  },
  {
   "cell_type": "markdown",
   "id": "b50c9996-806e-4e6e-85cf-1bb51f2ee828",
   "metadata": {},
   "source": [
    "# 2. examples of dictionaries.\n",
    "\n",
    "- data = {\"Ali\": 30,\"Bobby\": 25,\"Colie\": 35}\n",
    "- a= { 'idris'= A, 'anu': B}\n",
    "- student = {\"name\": \"idris\" ,  \"age\": 21, \"course\": python}\n",
    "- x= { 'a': 23, 'b' : 34 , 'c' : 90}\n",
    "- book = {\"title\": \" Kil\",\"hero\": \"ragahav\"}\n",
    "- class= { 'ravi': 'middle', 'anukush': 'rich',' eshan': 'poor'}\n",
    "- bio= { 'name' : 'ram',' job' : 'python developer', 'skill level': 'moderate'}\n",
    "- advertisment= { \"role\": \"marketer\",\n",
    "                  \"age\": 22\n",
    "                 }\n",
    "- keys={ \"set\":\" done\",\"strings\":\" not done\",\"tuple\":\" mot started\",\"sql\": \" about to start\"}\n",
    "- list={'a': 23, 'b': 34, 'c': 100, 'd': 34, 'e': 77, 'f': 93}"
   ]
  },
  {
   "cell_type": "markdown",
   "id": "7bcbe9b3-e52d-4573-baa1-df650e3b6b4c",
   "metadata": {},
   "source": [
    "# 3. Modify the dictionaries.\n"
   ]
  },
  {
   "cell_type": "code",
   "execution_count": 7,
   "id": "6f203eb4-315d-42c3-b380-8402dd0ff62c",
   "metadata": {},
   "outputs": [
    {
     "name": "stdout",
     "output_type": "stream",
     "text": [
      "{'name': 'idris', 'age': 23, 'course': 'python'}\n"
     ]
    }
   ],
   "source": [
    "student = {\"name\": \"idris\" , \"age\": 21, \"course\": \"python\"}\n",
    "student[ \"age\"]= 23\n",
    "print(student)"
   ]
  },
  {
   "cell_type": "code",
   "execution_count": 9,
   "id": "06b15ae6-c225-47e2-b8c0-57bcddf78904",
   "metadata": {},
   "outputs": [
    {
     "name": "stdout",
     "output_type": "stream",
     "text": [
      "{'name': 'idris', 'age': 21, 'course': ' business '}\n"
     ]
    }
   ],
   "source": [
    "student = {\"name\": \"idris\" , \"age\": 21, \"course\": \"python\"}\n",
    "student[ \"course\"]= \" business \"\n",
    "print(student)"
   ]
  },
  {
   "cell_type": "code",
   "execution_count": 13,
   "id": "6165edb0-8b5d-4fd1-85ae-8caf13b9bff7",
   "metadata": {},
   "outputs": [
    {
     "name": "stdout",
     "output_type": "stream",
     "text": [
      "{'a': 50, 'b': 34, 'c': 90}\n"
     ]
    }
   ],
   "source": [
    "x= { 'a': 23, 'b' : 34 , 'c' : 90}\n",
    "x['a']= 50\n",
    "print(x)"
   ]
  },
  {
   "cell_type": "code",
   "execution_count": 15,
   "id": "105d232a-f250-43f6-ae71-759278f8334b",
   "metadata": {},
   "outputs": [
    {
     "name": "stdout",
     "output_type": "stream",
     "text": [
      "{'a': 'dead', 'b': 34, 'c': 90}\n"
     ]
    }
   ],
   "source": [
    "x= { 'a': 23, 'b' : 34 , 'c' : 90}\n",
    "x['a']= \"dead\"\n",
    "print(x)"
   ]
  },
  {
   "cell_type": "code",
   "execution_count": 17,
   "id": "7ce35756-ecf9-4226-b195-b34157aa818a",
   "metadata": {},
   "outputs": [
    {
     "name": "stdout",
     "output_type": "stream",
     "text": [
      "{'a': 23, 'b': 34, 'c': 100}\n"
     ]
    }
   ],
   "source": [
    "x= { 'a': 23, 'b' : 34 , 'c' : 90}\n",
    "x['c']= 100\n",
    "print(x)"
   ]
  },
  {
   "cell_type": "markdown",
   "id": "406fc135-5fdf-485a-8247-73d2c08bea4b",
   "metadata": {},
   "source": [
    "# 4. adding a new entry"
   ]
  },
  {
   "cell_type": "code",
   "execution_count": 22,
   "id": "2d293d3c-5b6a-4859-9758-7ae7319647e4",
   "metadata": {},
   "outputs": [
    {
     "name": "stdout",
     "output_type": "stream",
     "text": [
      "{'name': 'idris', 'age': 23, 'course': 'python'}\n"
     ]
    }
   ],
   "source": [
    "student = {\"name\": \"idris\" , \"age\": 21, \"course\": \"python\"}\n",
    "student[ \"age\"]= 23\n",
    "print(student)"
   ]
  },
  {
   "cell_type": "code",
   "execution_count": 30,
   "id": "115eb4b1-2e2b-4953-9f5d-aaa76407c5ed",
   "metadata": {},
   "outputs": [
    {
     "name": "stdout",
     "output_type": "stream",
     "text": [
      "{'name': 'idris', 'age': 23, 'course': 'python', 'place': 'hyderabad', ' sign': ' leo'}\n"
     ]
    }
   ],
   "source": [
    "student[\"place\"]= \"hyderabad\"\n",
    "student[\" sign\"]= \" leo\"\n",
    "print(student)"
   ]
  },
  {
   "cell_type": "code",
   "execution_count": 32,
   "id": "e4635345-d5e3-41a6-a326-d7fd4c067a81",
   "metadata": {},
   "outputs": [
    {
     "name": "stdout",
     "output_type": "stream",
     "text": [
      "{'a': 23, 'b': 34, 'c': 100}\n"
     ]
    }
   ],
   "source": [
    "x= { 'a': 23, 'b' : 34 , 'c' : 90}\n",
    "x['c']= 100\n",
    "print(x)"
   ]
  },
  {
   "cell_type": "code",
   "execution_count": 34,
   "id": "a2f9b8a5-ac26-47cd-b1a6-cefaf3d9f95b",
   "metadata": {},
   "outputs": [
    {
     "name": "stdout",
     "output_type": "stream",
     "text": [
      "{'a': 23, 'b': 34, 'c': 100, 'd': 34, 'e': 77, 'f': 93}\n"
     ]
    }
   ],
   "source": [
    "x['d']= 34\n",
    "x['e']= 77\n",
    "x['f']= 93\n",
    "print(x)"
   ]
  },
  {
   "cell_type": "code",
   "execution_count": 36,
   "id": "ccdb9501-3f96-4b2e-b838-c8703fa351bf",
   "metadata": {},
   "outputs": [
    {
     "name": "stdout",
     "output_type": "stream",
     "text": [
      "{'name': 'ram', ' job': 'python developer', 'skill level': 'moderate'}\n"
     ]
    }
   ],
   "source": [
    "bio= { 'name' : 'ram',' job' : 'python developer', 'skill level': 'moderate'}\n",
    "print(bio)"
   ]
  },
  {
   "cell_type": "code",
   "execution_count": 121,
   "id": "97358ede-5cd2-4050-bb1e-c83934dab8bf",
   "metadata": {},
   "outputs": [
    {
     "name": "stdout",
     "output_type": "stream",
     "text": [
      "{'name': 'ram', ' job': 'python developer', 'skill level': 'moderate', 'company': ' tcs', 'duration': ' 5 years'}\n"
     ]
    }
   ],
   "source": [
    "bio['company']= ' tcs'\n",
    "bio['duration']= ' 5 years'\n",
    "print(bio)"
   ]
  },
  {
   "cell_type": "markdown",
   "id": "822c0809-155e-498a-9889-ae7d7898f2cb",
   "metadata": {},
   "source": [
    "# 5. Methods of dictionary."
   ]
  },
  {
   "cell_type": "markdown",
   "id": "bc517441-e8ea-42ac-ae36-0376ad7ea41d",
   "metadata": {},
   "source": [
    "1. get- it returns the value of a specific key amd provide the value if its found."
   ]
  },
  {
   "cell_type": "code",
   "execution_count": 45,
   "id": "36034936-2354-4a69-a211-30413ba03509",
   "metadata": {},
   "outputs": [
    {
     "name": "stdout",
     "output_type": "stream",
     "text": [
      "25\n",
      "not mentioned\n"
     ]
    }
   ],
   "source": [
    "# example\n",
    "data = {\"Ali\": 30,\"Bobby\": 25,\"Colie\": 35}\n",
    "d= data.get( \"Bobby\", \"not mentioned\")\n",
    "c= data.get(\"raju\", \"not mentioned\")\n",
    "print(d)\n",
    "print(c)"
   ]
  },
  {
   "cell_type": "markdown",
   "id": "c937ca6a-3301-40ea-89fc-3831fffcbcf6",
   "metadata": {},
   "source": [
    "2. Keys- They return all the values that are present in the dictionary"
   ]
  },
  {
   "cell_type": "code",
   "execution_count": 49,
   "id": "d4e6c247-5695-4d9c-8406-95b07379c8e0",
   "metadata": {},
   "outputs": [
    {
     "data": {
      "text/plain": [
       "dict_keys(['name', ' job', 'skill level', 'company', 'duration'])"
      ]
     },
     "execution_count": 49,
     "metadata": {},
     "output_type": "execute_result"
    }
   ],
   "source": [
    "#example\n",
    "bio={'name': 'ram', ' job': 'python developer', 'skill level': 'moderate', 'company': ' tcs', 'duration': ' 5 years'}\n",
    "bio.keys()"
   ]
  },
  {
   "cell_type": "markdown",
   "id": "9d42118f-7f8c-4e05-bd09-3b361cc6fd9e",
   "metadata": {},
   "source": [
    "3. values- It returns all the vlaues in the dictionary."
   ]
  },
  {
   "cell_type": "code",
   "execution_count": 52,
   "id": "f8062f0b-1dd3-49dc-a634-ab09ff9b6946",
   "metadata": {},
   "outputs": [
    {
     "data": {
      "text/plain": [
       "dict_values(['ram', 'python developer', 'moderate', ' tcs', ' 5 years'])"
      ]
     },
     "execution_count": 52,
     "metadata": {},
     "output_type": "execute_result"
    }
   ],
   "source": [
    "#example\n",
    "bio={'name': 'ram', ' job': 'python developer', 'skill level': 'moderate', 'company': ' tcs', 'duration': ' 5 years'}\n",
    "bio.values()"
   ]
  },
  {
   "cell_type": "markdown",
   "id": "c89e149b-2329-4067-9a18-959fd3948a23",
   "metadata": {},
   "source": [
    "4.items- It returns all the key-value in the dictionary in the form of tuple."
   ]
  },
  {
   "cell_type": "code",
   "execution_count": 59,
   "id": "3714c64b-c240-4eaa-aaf7-728b18890c63",
   "metadata": {},
   "outputs": [
    {
     "data": {
      "text/plain": [
       "dict_items([('name', 'idris'), ('age', 21), ('course', 'python')])"
      ]
     },
     "execution_count": 59,
     "metadata": {},
     "output_type": "execute_result"
    }
   ],
   "source": [
    "#example\n",
    "student = {\"name\": \"idris\" , \"age\": 21, \"course\": \"python\"}\n",
    "student.items()"
   ]
  },
  {
   "cell_type": "markdown",
   "id": "38488dee-05e3-40e7-87e0-ede27541d9fc",
   "metadata": {},
   "source": [
    "5. pop- It removes the specifc value in the dictioanry."
   ]
  },
  {
   "cell_type": "code",
   "execution_count": 72,
   "id": "b2ae0bd5-42db-470e-8ee1-f8f73ba16d69",
   "metadata": {},
   "outputs": [
    {
     "name": "stdout",
     "output_type": "stream",
     "text": [
      "21\n"
     ]
    }
   ],
   "source": [
    "#example\n",
    "student = {\"name\": \"idris\" , \"age\": 21, \"course\": \"python\"}\n",
    "x=student.pop(\"age\")\n",
    "print(x)"
   ]
  },
  {
   "cell_type": "code",
   "execution_count": 74,
   "id": "9d3f61f7-bdd4-4c01-8152-f6e932321c20",
   "metadata": {},
   "outputs": [
    {
     "name": "stdout",
     "output_type": "stream",
     "text": [
      "{'name': 'idris', 'course': 'python'}\n"
     ]
    }
   ],
   "source": [
    "print(student)"
   ]
  },
  {
   "cell_type": "markdown",
   "id": "1b72dc0a-86a5-49e1-a384-7ba3040ff885",
   "metadata": {},
   "source": [
    "6. popitem- removes the last keyvalue pair as tuple"
   ]
  },
  {
   "cell_type": "code",
   "execution_count": 80,
   "id": "d4fe2e7e-4b5b-4403-be82-eecf45e6304a",
   "metadata": {},
   "outputs": [
    {
     "name": "stdout",
     "output_type": "stream",
     "text": [
      "{'name': 'ram', ' job': 'python developer', 'skill level': 'moderate', 'company': ' tcs', 'duration': ' 5 years'}\n"
     ]
    }
   ],
   "source": [
    "#example\n",
    "bio={'name': 'ram', ' job': 'python developer', 'skill level': 'moderate', 'company': ' tcs', 'duration': ' 5 years'}\n",
    "print(bio)\n"
   ]
  },
  {
   "cell_type": "code",
   "execution_count": 82,
   "id": "fdf83059-92bb-4960-844c-49f8611955e5",
   "metadata": {},
   "outputs": [
    {
     "name": "stdout",
     "output_type": "stream",
     "text": [
      "('duration', ' 5 years')\n",
      "{'name': 'ram', ' job': 'python developer', 'skill level': 'moderate', 'company': ' tcs'}\n"
     ]
    }
   ],
   "source": [
    "last= bio.popitem()\n",
    "print(last)\n",
    "print(bio)"
   ]
  },
  {
   "cell_type": "markdown",
   "id": "401b2b0a-cfdf-4839-a838-37334f4084f3",
   "metadata": {},
   "source": [
    "7. update- It updates the dictionary with new keyvalues pairs from other dictionary or some other iterations."
   ]
  },
  {
   "cell_type": "code",
   "execution_count": 87,
   "id": "37024e18-393b-4ef3-916c-47bcabc86a97",
   "metadata": {},
   "outputs": [
    {
     "name": "stdout",
     "output_type": "stream",
     "text": [
      "{'name': 'idris', 'age': 21, 'course': 'python'}\n"
     ]
    }
   ],
   "source": [
    "# example\n",
    "student = {\"name\": \"idris\" , \"age\": 21, \"course\": \"python\"}\n",
    "print(student)\n"
   ]
  },
  {
   "cell_type": "code",
   "execution_count": 91,
   "id": "cc3fed1d-aa2e-4543-80d2-a0cf289a9825",
   "metadata": {},
   "outputs": [
    {
     "name": "stdout",
     "output_type": "stream",
     "text": [
      "{'name': 'idris', 'age': 21, 'course': 'python', 'gender': 'male', 'height': 6.2}\n"
     ]
    }
   ],
   "source": [
    "new= { \"gender\":\"male\", \"height\": 6.2}\n",
    "student.update(new)\n",
    "print(student)"
   ]
  },
  {
   "cell_type": "markdown",
   "id": "c25bf525-a1ab-4ec9-9819-fbb7656a7944",
   "metadata": {},
   "source": [
    "8. clear- removes all the elements from the dictionary"
   ]
  },
  {
   "cell_type": "code",
   "execution_count": 103,
   "id": "51cccb40-bde7-4a1b-9d5d-10fc12ef0562",
   "metadata": {},
   "outputs": [
    {
     "name": "stdout",
     "output_type": "stream",
     "text": [
      "{}\n"
     ]
    }
   ],
   "source": [
    "#example\n",
    "data = {\"Ali\": 30,\"Bobby\": 25,\"Colie\": 35}\n",
    "data.clear()\n",
    "print(data)"
   ]
  },
  {
   "cell_type": "markdown",
   "id": "57131d73-0c3d-4b9b-a619-8e9f713b67f5",
   "metadata": {},
   "source": [
    "9.copy - It returns a copy of the dictionary."
   ]
  },
  {
   "cell_type": "code",
   "execution_count": 105,
   "id": "667e21da-8ece-4914-9b4a-f013b6cabebc",
   "metadata": {},
   "outputs": [
    {
     "data": {
      "text/plain": [
       "{'gender': 'male', 'height': 6.2}"
      ]
     },
     "execution_count": 105,
     "metadata": {},
     "output_type": "execute_result"
    }
   ],
   "source": [
    "#example\n",
    "details= { \"gender\":\"male\", \"height\": 6.2}\n",
    "details.copy()\n",
    "\n"
   ]
  },
  {
   "cell_type": "markdown",
   "id": "beb342c9-c0a9-42fa-b96a-18182da7f655",
   "metadata": {},
   "source": [
    "10.setdefault- It returns the value of the specified key only if its present in the dictionary"
   ]
  },
  {
   "cell_type": "code",
   "execution_count": 109,
   "id": "9283760a-c937-4ccc-8c06-0668ecd20b77",
   "metadata": {},
   "outputs": [
    {
     "name": "stdout",
     "output_type": "stream",
     "text": [
      "{'name': 'idris', 'age': 21, 'course': 'python', 'id no': 26}\n"
     ]
    }
   ],
   "source": [
    "#example\n",
    "student = {\"name\": \"idris\" , \"age\": 21, \"course\": \"python\"}\n",
    "x=student.setdefault(\"id no\",26)\n",
    "print(student)"
   ]
  },
  {
   "cell_type": "markdown",
   "id": "1f71ca57-102e-4425-a301-b07ef71d8b18",
   "metadata": {},
   "source": [
    "11. fromkeys- returns a dictionary with specified keys and values"
   ]
  },
  {
   "cell_type": "code",
   "execution_count": 119,
   "id": "38d9e2cb-0ddb-4c4a-9da4-1784b512635d",
   "metadata": {},
   "outputs": [
    {
     "data": {
      "text/plain": [
       "{'a': 'passed',\n",
       " 'b': 'passed',\n",
       " 'c': 'passed',\n",
       " 'd': 'passed',\n",
       " 'e': 'passed',\n",
       " 'f': 'passed'}"
      ]
     },
     "execution_count": 119,
     "metadata": {},
     "output_type": "execute_result"
    }
   ],
   "source": [
    "# example\n",
    "list={'a': 23, 'b': 34, 'c': 100, 'd': 34, 'e': 77, 'f': 93}\n",
    "list.fromkeys(list,\"passed\")"
   ]
  },
  {
   "cell_type": "code",
   "execution_count": null,
   "id": "7ba5affc-92fd-43c8-9f02-6e74e0982f57",
   "metadata": {},
   "outputs": [],
   "source": []
  }
 ],
 "metadata": {
  "kernelspec": {
   "display_name": "Python 3 (ipykernel)",
   "language": "python",
   "name": "python3"
  },
  "language_info": {
   "codemirror_mode": {
    "name": "ipython",
    "version": 3
   },
   "file_extension": ".py",
   "mimetype": "text/x-python",
   "name": "python",
   "nbconvert_exporter": "python",
   "pygments_lexer": "ipython3",
   "version": "3.12.4"
  }
 },
 "nbformat": 4,
 "nbformat_minor": 5
}
