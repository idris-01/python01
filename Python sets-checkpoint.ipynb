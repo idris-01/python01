{
 "cells": [
  {
   "cell_type": "markdown",
   "id": "6015a692-e1a1-4df7-8d4d-a1e86e9d1048",
   "metadata": {},
   "source": [
    "# 1. define sets\n",
    "- A set is an unordered collection of unique items.\n",
    "- they are defined using curly braces{}and seperated using comma.\n",
    "- They are mutable and do not allow dupliacte items in it.\n",
    "- we can add or remove the existing elements but we cant modify them\n",
    "- we can also perform various operations like union , intersection etc in sets."
   ]
  },
  {
   "cell_type": "markdown",
   "id": "d274990f-c60a-4f25-975e-d80d0232c3c6",
   "metadata": {},
   "source": [
    "# 2. examples of sets.\n",
    "- data= {'bat','ball','wicket', 'helmet'}\n",
    "- a= {23,4,78,90,22,22,1,22,5,6,1,9, 4, 90, 34, 4, 90, 22}\n",
    "- num= {1,2,3,4,5,6,7,8}\n",
    "- vegetables={\"carrot\",\" brinjal\", \"ladysfinger\",\"tomato\"}\n",
    "- mixed={ 23, \"iddu\", false, 34.90}\n",
    "- numflo_set= {23.09, 12, 89,31.4, 80,97.3}\n",
    "- names={ \"shaik\", \"alla\", \" venkata\", \"sai\",\" Anvitha\"}\n",
    "- single={\"sky\",}\n",
    "- empty={}\n",
    "- x={\"music\", \"dance\",\"art\",\"roleplay\",\"writing\",\"acting\"}"
   ]
  },
  {
   "cell_type": "markdown",
   "id": "7baa861c-a177-4325-aba2-16bfefaf2d00",
   "metadata": {},
   "source": [
    "# 3. covert one type to another set "
   ]
  },
  {
   "cell_type": "code",
   "execution_count": 7,
   "id": "0d9603ba-ab69-4864-b859-f03e3ad60afe",
   "metadata": {},
   "outputs": [
    {
     "name": "stdout",
     "output_type": "stream",
     "text": [
      "{'ball', 'helmet', 'wicket', 'bat'}\n",
      "<class 'set'>\n"
     ]
    }
   ],
   "source": [
    "data= ('bat','ball','wicket', 'helmet')\n",
    "x=set(data)\n",
    "print(x)\n",
    "print(type(x))"
   ]
  },
  {
   "cell_type": "code",
   "execution_count": 9,
   "id": "7c1608b7-542c-4737-9c9d-854afcaff4b2",
   "metadata": {},
   "outputs": [
    {
     "name": "stdout",
     "output_type": "stream",
     "text": [
      "{98, 12, 45, 23.4}\n",
      "<class 'set'>\n"
     ]
    }
   ],
   "source": [
    "data= [12, 45, 23.4, 98]\n",
    "x=set(data)\n",
    "print(x)\n",
    "print(type(x))"
   ]
  },
  {
   "cell_type": "code",
   "execution_count": 13,
   "id": "372a4a17-8f59-478b-8b1e-f112a1a52a0f",
   "metadata": {},
   "outputs": [
    {
     "name": "stdout",
     "output_type": "stream",
     "text": [
      "{'acting', 'music', 'roleplay', 'writing', 'art', 'dance'}\n"
     ]
    },
    {
     "data": {
      "text/plain": [
       "set"
      ]
     },
     "execution_count": 13,
     "metadata": {},
     "output_type": "execute_result"
    }
   ],
   "source": [
    "x=[\"music\", \"dance\",\"art\",\"roleplay\",\"writing\",\"acting\"]\n",
    "a= set(x)\n",
    "print(a)\n",
    "type(a)"
   ]
  },
  {
   "cell_type": "code",
   "execution_count": 20,
   "id": "a954c9fe-5dc9-4b2b-a72b-69cec923c075",
   "metadata": {},
   "outputs": [
    {
     "name": "stdout",
     "output_type": "stream",
     "text": [
      "{1, 34, 4, 5, 6, 78, 22, 23, 90}\n",
      "<class 'set'>\n"
     ]
    }
   ],
   "source": [
    "a={23,4,78,90,22,22,1,22,5,6,1, 4, 90, 34, 4, 90, 22}\n",
    "print(a)\n",
    "print(type(a))"
   ]
  },
  {
   "cell_type": "code",
   "execution_count": 22,
   "id": "1c03baf7-a3e6-431a-92b9-69f6a737e3c5",
   "metadata": {},
   "outputs": [
    {
     "name": "stdout",
     "output_type": "stream",
     "text": [
      "{'ball', 'helmet', 'wicket', 'bat'}\n",
      "<class 'set'>\n"
     ]
    }
   ],
   "source": [
    "data= ['bat','ball','wicket', 'helmet']\n",
    "x=set(data)\n",
    "print(x)\n",
    "print(type(x))"
   ]
  },
  {
   "cell_type": "code",
   "execution_count": 28,
   "id": "4f310ec0-1a27-498a-aad2-c552289f160b",
   "metadata": {},
   "outputs": [
    {
     "name": "stdout",
     "output_type": "stream",
     "text": [
      "{'false ', 34.9, 'iddu', 23}\n",
      "<class 'set'>\n"
     ]
    }
   ],
   "source": [
    "mixed=(23, \"iddu\", 'false ', 34.90)\n",
    "x=set(mixed)\n",
    "print(x)\n",
    "print(type(x))"
   ]
  },
  {
   "cell_type": "markdown",
   "id": "fb4ae752-3879-47c2-8d89-26bdb988c795",
   "metadata": {},
   "source": [
    "# 4. add and updating set items"
   ]
  },
  {
   "cell_type": "code",
   "execution_count": 36,
   "id": "d10eddad-7aba-45e8-bce2-9c133332901a",
   "metadata": {},
   "outputs": [
    {
     "name": "stdout",
     "output_type": "stream",
     "text": [
      "{1, 34, 4, 5, 6, 78, 22, 23, 90}\n",
      "updated: {1, 34, 4, 5, 6, 45, 78, 22, 23, 90}\n"
     ]
    }
   ],
   "source": [
    "a={23,4,78,90,22,22,1,22,5,6,1, 4, 90, 34, 4, 90, 22}\n",
    "print(a)\n",
    "a.add(45,)\n",
    "print(\"updated:\",a)"
   ]
  },
  {
   "cell_type": "code",
   "execution_count": 48,
   "id": "e0b1e3cc-2f8c-42cb-b85a-2b3890c9c121",
   "metadata": {},
   "outputs": [
    {
     "name": "stdout",
     "output_type": "stream",
     "text": [
      "{98, 12, 45, 21.3, 23.4}\n"
     ]
    }
   ],
   "source": [
    "data= {12, 45, 23.4, 98}\n",
    "data.add(21.3)\n",
    "print(data)"
   ]
  },
  {
   "cell_type": "code",
   "execution_count": 50,
   "id": "2cc8f38d-881f-4314-91e8-3fc181928e59",
   "metadata": {},
   "outputs": [
    {
     "name": "stdout",
     "output_type": "stream",
     "text": [
      "{98, 100, 12, 45, 21.3, 23.4}\n"
     ]
    }
   ],
   "source": [
    "data.add(100)\n",
    "print(data)"
   ]
  },
  {
   "cell_type": "code",
   "execution_count": 52,
   "id": "1911781f-9add-44d5-8677-612fde5ca8b2",
   "metadata": {},
   "outputs": [
    {
     "name": "stdout",
     "output_type": "stream",
     "text": [
      "{'wicket', 'pad', 'ball', 'helmet', 'bat'}\n"
     ]
    }
   ],
   "source": [
    "data= {'bat','ball','wicket', 'helmet'}\n",
    "data.add(\"pad\")\n",
    "print(data)"
   ]
  },
  {
   "cell_type": "code",
   "execution_count": 56,
   "id": "f35f0e15-7474-4db1-8c18-1ed9c6f2c6cf",
   "metadata": {},
   "outputs": [
    {
     "name": "stdout",
     "output_type": "stream",
     "text": [
      "new num: {1, 2, 3, 4, 5, 6, 7, 8, 1000}\n"
     ]
    }
   ],
   "source": [
    "num= {1,2,3,4,5,6,7,8}\n",
    "num.add(1000)\n",
    "print(\"new num:\", num)"
   ]
  },
  {
   "cell_type": "code",
   "execution_count": 60,
   "id": "d1b3df42-540e-49d0-b8f2-38cf05922ef5",
   "metadata": {},
   "outputs": [
    {
     "name": "stdout",
     "output_type": "stream",
     "text": [
      "{' venkata', 'sai', 'alla', 'iddu', 'idris', 'shaik', ' Anvitha'}\n"
     ]
    }
   ],
   "source": [
    "names={ \"shaik\", \"alla\", \" venkata\", \"sai\",\" Anvitha\"}\n",
    "extra={\"idris\",\"iddu\"}\n",
    "names.update(extra)\n",
    "print(names)"
   ]
  },
  {
   "cell_type": "code",
   "execution_count": 62,
   "id": "20f0ec03-0533-4067-a6f5-91282c56683e",
   "metadata": {},
   "outputs": [
    {
     "name": "stdout",
     "output_type": "stream",
     "text": [
      "{34.9, 'none', 23, 1000, 'false ', 'iddu'}\n"
     ]
    }
   ],
   "source": [
    "mixed={23, \"iddu\", 'false ', 34.90}\n",
    "mixed_new={23,\"none\", 1000}\n",
    "mixed.update(mixed_new)\n",
    "print(mixed)"
   ]
  },
  {
   "cell_type": "code",
   "execution_count": 66,
   "id": "4915129c-0516-486a-b5f6-186cf760a9da",
   "metadata": {},
   "outputs": [
    {
     "name": "stdout",
     "output_type": "stream",
     "text": [
      "{'ladysfinger', 'carrot', ' cauliflower', 'beetroot', 'tomato', 'garlic', 'onion', ' brinjal'}\n"
     ]
    }
   ],
   "source": [
    "vegetables={\"carrot\",\" brinjal\", \"ladysfinger\",\"tomato\"}\n",
    "new_vegetables={\"beetroot\",\" cauliflower\", \"garlic\",\"onion\"}\n",
    "vegetables.update(new_vegetables)\n",
    "print(vegetables)"
   ]
  },
  {
   "cell_type": "code",
   "execution_count": 68,
   "id": "6ae02455-dcab-4d94-94fc-01909042b5cd",
   "metadata": {},
   "outputs": [
    {
     "name": "stdout",
     "output_type": "stream",
     "text": [
      "{'rohit', 'dhoni', 'sky', 'virat', 'axar'}\n"
     ]
    }
   ],
   "source": [
    "single={\"sky\",}\n",
    "mingle={\"virat\", \"dhoni\",\"axar\",\"rohit\"}\n",
    "single.update(mingle)\n",
    "print(single)"
   ]
  },
  {
   "cell_type": "code",
   "execution_count": 70,
   "id": "5205f311-5eb9-4c70-9ef4-c487b65acf62",
   "metadata": {},
   "outputs": [
    {
     "name": "stdout",
     "output_type": "stream",
     "text": [
      "{1, 2, 3, 4, 5, 6, 7, 8, 3.67, 11, 45.87, 23.09}\n"
     ]
    }
   ],
   "source": [
    "num= {1,2,3,4,5,6,7,8}\n",
    "int={23.09,11,45.87,3.67}\n",
    "num.update(int)\n",
    "print(num)"
   ]
  },
  {
   "cell_type": "markdown",
   "id": "007fe193-7fac-4646-8566-b80a6d1d4ee6",
   "metadata": {},
   "source": [
    "# 5. removing an element from the set"
   ]
  },
  {
   "cell_type": "code",
   "execution_count": 77,
   "id": "c046e3d0-e8e8-45e2-9851-9fffa2044090",
   "metadata": {},
   "outputs": [
    {
     "name": "stdout",
     "output_type": "stream",
     "text": [
      "{'garlic', ' cauliflower', 'beetroot'}\n"
     ]
    }
   ],
   "source": [
    "new_vegetables={\"beetroot\",\" cauliflower\", \"garlic\",\"onion\"}\n",
    "removed=new_vegetables.discard(\"onion\")\n",
    "print(new_vegetables)"
   ]
  },
  {
   "cell_type": "code",
   "execution_count": 79,
   "id": "00f45523-7dc6-4265-aaf0-9b28b56f9a6c",
   "metadata": {},
   "outputs": [
    {
     "name": "stdout",
     "output_type": "stream",
     "text": [
      "{98, 45, 23.4}\n"
     ]
    }
   ],
   "source": [
    "data= {12, 45, 23.4, 98}\n",
    "data.discard(12)\n",
    "print(data)"
   ]
  },
  {
   "cell_type": "code",
   "execution_count": 81,
   "id": "21967813-b6ea-412d-9cd0-e5a8c7cbccf9",
   "metadata": {},
   "outputs": [
    {
     "name": "stdout",
     "output_type": "stream",
     "text": [
      "{3.67, 45.87, 23.09}\n"
     ]
    }
   ],
   "source": [
    "int={23.09,11,45.87,3.67}\n",
    "int.discard(11)\n",
    "print(int)"
   ]
  },
  {
   "cell_type": "code",
   "execution_count": 83,
   "id": "cd100a20-c4cd-49d0-b0f8-2f82cd74f82f",
   "metadata": {},
   "outputs": [
    {
     "name": "stdout",
     "output_type": "stream",
     "text": [
      "{'rohit', 'axar', 'virat'}\n"
     ]
    }
   ],
   "source": [
    "mingle={\"virat\", \"dhoni\",\"axar\",\"rohit\"}\n",
    "mingle.discard(\"dhoni\")\n",
    "print(mingle)"
   ]
  },
  {
   "cell_type": "code",
   "execution_count": 85,
   "id": "157ab611-acc7-4587-824e-a8e5e8f1015b",
   "metadata": {},
   "outputs": [
    {
     "name": "stdout",
     "output_type": "stream",
     "text": [
      "{'helmet', 'wicket', 'bat'}\n"
     ]
    }
   ],
   "source": [
    "data= {'bat','ball','wicket', 'helmet'}\n",
    "data.discard(\"ball\")\n",
    "print(data)"
   ]
  },
  {
   "cell_type": "code",
   "execution_count": 89,
   "id": "1ba3967b-9402-4179-b129-33454ad3d10b",
   "metadata": {},
   "outputs": [
    {
     "name": "stdout",
     "output_type": "stream",
     "text": [
      "{'writing', 'acting', 'art', 'roleplay', 'dance'}\n"
     ]
    }
   ],
   "source": [
    "x={\"music\", \"dance\",\"art\",\"roleplay\",\"writing\",\"acting\"}\n",
    "x.remove(\"music\")\n",
    "print(x)"
   ]
  },
  {
   "cell_type": "code",
   "execution_count": 91,
   "id": "9ab1e124-9413-4463-8a99-2416c5b37bb0",
   "metadata": {},
   "outputs": [
    {
     "data": {
      "text/plain": [
       "{23, 34.9, 'iddu'}"
      ]
     },
     "execution_count": 91,
     "metadata": {},
     "output_type": "execute_result"
    }
   ],
   "source": [
    "mixed={ 23, \"iddu\", 'false', 34.90}\n",
    "mixed.remove(\"false\")\n",
    "mixed"
   ]
  },
  {
   "cell_type": "code",
   "execution_count": 93,
   "id": "48ce30ec-00d4-4014-8bdd-2253ef484cc8",
   "metadata": {},
   "outputs": [
    {
     "name": "stdout",
     "output_type": "stream",
     "text": [
      "{'ladysfinger', 'carrot', ' brinjal'}\n"
     ]
    }
   ],
   "source": [
    "vegetables={\"carrot\",\" brinjal\", \"ladysfinger\",\"tomato\"}\n",
    "vegetables.remove(\"tomato\")\n",
    "print(vegetables)"
   ]
  },
  {
   "cell_type": "code",
   "execution_count": 99,
   "id": "c1e47129-f67d-4a6c-9a97-b58d0d68ab74",
   "metadata": {},
   "outputs": [
    {
     "name": "stdout",
     "output_type": "stream",
     "text": [
      "set()\n"
     ]
    }
   ],
   "source": [
    "single={\"sky\",}\n",
    "single.remove(\"sky\")\n",
    "print(single)"
   ]
  },
  {
   "cell_type": "code",
   "execution_count": 101,
   "id": "65ba6aae-1068-494c-ad42-d2fe550e792d",
   "metadata": {},
   "outputs": [
    {
     "name": "stdout",
     "output_type": "stream",
     "text": [
      "{'writing', 'acting', 'roleplay', 'music', 'dance'}\n"
     ]
    }
   ],
   "source": [
    "x={\"music\", \"dance\",\"art\",\"roleplay\",\"writing\",\"acting\"}\n",
    "x.remove(\"art\")\n",
    "print(x)"
   ]
  },
  {
   "cell_type": "markdown",
   "id": "209f0e37-f09f-40a0-8756-9a60c651e4a0",
   "metadata": {},
   "source": [
    "# 6. Python set opereations"
   ]
  },
  {
   "cell_type": "code",
   "execution_count": 106,
   "id": "9a78ddbd-9fbf-4e52-b690-2bd4e6f13cd4",
   "metadata": {},
   "outputs": [
    {
     "name": "stdout",
     "output_type": "stream",
     "text": [
      "{1, 2, 3, 4, 5, 6, 7, 8, 3.67, 11, 45.87, 23.09}\n"
     ]
    }
   ],
   "source": [
    "# union- It combines elements in two sets\n",
    "num= {1,2,3,4,5,6,7,8}\n",
    "int={23.09,11,45.87,3.67}\n",
    "print(num.union(int))"
   ]
  },
  {
   "cell_type": "code",
   "execution_count": 108,
   "id": "79d6aaf9-d70f-4556-999b-5226e1c3651e",
   "metadata": {},
   "outputs": [
    {
     "name": "stdout",
     "output_type": "stream",
     "text": [
      "{'ladysfinger', 'carrot', ' cauliflower', 'beetroot', 'tomato', ' brinjal', 'garlic', 'onion'}\n"
     ]
    }
   ],
   "source": [
    "veg={\"carrot\",\" brinjal\", \"ladysfinger\",\"tomato\"}\n",
    "new_veg={\"beetroot\",\" cauliflower\", \"garlic\",\"onion\"}\n",
    "print(new_veg|veg)"
   ]
  },
  {
   "cell_type": "code",
   "execution_count": 110,
   "id": "a2e91e37-d7bc-4b6e-87b6-7f2ff58a834a",
   "metadata": {},
   "outputs": [
    {
     "name": "stdout",
     "output_type": "stream",
     "text": [
      "{'ball', 'helmet', 'wicket', 'pad', 'bat', 'bails'}\n"
     ]
    }
   ],
   "source": [
    "data= {'bat','ball','wicket', 'helmet'}\n",
    "new_data={ \"pad\", \"bails\"}\n",
    "print(data.union(new_data))"
   ]
  },
  {
   "cell_type": "code",
   "execution_count": 136,
   "id": "37b65286-3430-4c55-8469-0d8cc1174e83",
   "metadata": {},
   "outputs": [
    {
     "name": "stdout",
     "output_type": "stream",
     "text": [
      "{1, 4, 22, 78}\n"
     ]
    }
   ],
   "source": [
    "# intersection- It returns the elements which are common in two sets\n",
    "old={1, 4, 3, 23, 78, 22,}\n",
    "updated= {1, 4, 5, 6, 45, 78, 22, 90}\n",
    "print(old.intersection(updated))"
   ]
  },
  {
   "cell_type": "code",
   "execution_count": 140,
   "id": "85817def-68f2-42c1-9e47-51f5fec1abd9",
   "metadata": {},
   "outputs": [
    {
     "name": "stdout",
     "output_type": "stream",
     "text": [
      "{1, 5, 22, 23, 90}\n"
     ]
    }
   ],
   "source": [
    "a={23,4,78,90,22,22,1,22,5,6,1, 4, 90, 34, 4, 90, 22}\n",
    "b={23,14,8,100,1,5, 54, 90, 22}\n",
    "print(a&b)"
   ]
  },
  {
   "cell_type": "code",
   "execution_count": 142,
   "id": "c809c47c-7db4-486d-a95d-c0d31e3daf84",
   "metadata": {},
   "outputs": [
    {
     "name": "stdout",
     "output_type": "stream",
     "text": [
      "{23}\n"
     ]
    }
   ],
   "source": [
    "mixed={23, \"iddu\", 'false ', 34.90}\n",
    "mixed_new={23,\"none\", 1000}\n",
    "print(mixed&mixed_new)"
   ]
  },
  {
   "cell_type": "code",
   "execution_count": 144,
   "id": "39146ea5-d99d-4889-89d1-6e356a479161",
   "metadata": {},
   "outputs": [
    {
     "name": "stdout",
     "output_type": "stream",
     "text": [
      "{78, 34, 4, 6}\n"
     ]
    }
   ],
   "source": [
    "# difference- returns the elements which are presnt in the first set but not in the second,\n",
    "a={23,4,78,90,22,22,1,22,5,6,1, 4, 90, 34, 4, 90, 22}\n",
    "b={23,14,8,100,1,5, 54, 90, 22}\n",
    "print(a-b)"
   ]
  },
  {
   "cell_type": "code",
   "execution_count": 146,
   "id": "b241c6bc-1098-43a1-a6d2-934c634d6c98",
   "metadata": {},
   "outputs": [
    {
     "name": "stdout",
     "output_type": "stream",
     "text": [
      "{3, 23}\n"
     ]
    }
   ],
   "source": [
    "old={1, 4, 3, 23, 78, 22,}\n",
    "updated= {1, 4, 5, 6, 45, 78, 22, 90}\n",
    "print(old.difference(updated))"
   ]
  },
  {
   "cell_type": "code",
   "execution_count": 148,
   "id": "5e342761-50a5-4531-b6a9-2fa0108d0e95",
   "metadata": {},
   "outputs": [
    {
     "name": "stdout",
     "output_type": "stream",
     "text": [
      "{0.78, 21.67}\n"
     ]
    }
   ],
   "source": [
    "d= {23.09, 12, 89,31.4, 80,97.3}\n",
    "c= { 12,80,21.67,0.78}\n",
    "print(c-d)"
   ]
  },
  {
   "cell_type": "code",
   "execution_count": 164,
   "id": "d5aac360-b400-4a21-a748-2269825ff487",
   "metadata": {},
   "outputs": [
    {
     "name": "stdout",
     "output_type": "stream",
     "text": [
      "{34.9, 1000, 'false', 'iddu', 'none', 'false '}\n"
     ]
    }
   ],
   "source": [
    "#  set symmetric difference- It returns the  elemnets that are ineither of the sets but not in both\n",
    "mixed={23, \"iddu\", 'false ', 34.90}\n",
    "mixed_new={23,\"none\", 1000}\n",
    "print(mixed^mixed_new)"
   ]
  },
  {
   "cell_type": "code",
   "execution_count": 152,
   "id": "e1b6732b-00aa-4405-b629-90f3e5f7130b",
   "metadata": {},
   "outputs": [
    {
     "name": "stdout",
     "output_type": "stream",
     "text": [
      "{3, 5, 6, 45, 23, 90}\n"
     ]
    }
   ],
   "source": [
    "old={1, 4, 3, 23, 78, 22,}\n",
    "updated= {1, 4, 5, 6, 45, 78, 22, 90}\n",
    "print(old.symmetric_difference(updated))"
   ]
  },
  {
   "cell_type": "code",
   "execution_count": 162,
   "id": "e305e456-449e-473d-b7f9-6e1b0957eae8",
   "metadata": {},
   "outputs": [
    {
     "name": "stdout",
     "output_type": "stream",
     "text": [
      "{'ladysfinger', ' tomato', 'carrot', 'beetroot', 'tomato', ' onion', 'onion'}\n",
      "{'ladysfinger', ' tomato', 'carrot', 'beetroot', 'tomato', ' onion', 'onion'}\n"
     ]
    }
   ],
   "source": [
    "veg={\"carrot\",\" onion\", \"ladysfinger\",\"tomato\"}\n",
    "new={\"beetroot\",\" tomato\",\"onion\"}\n",
    "print(veg.symmetric_difference(new))\n",
    "print(veg^new)"
   ]
  },
  {
   "cell_type": "markdown",
   "id": "a65bdc02-543e-48be-8873-669cd21f57bd",
   "metadata": {},
   "source": [
    "# 7. Methods in sets"
   ]
  },
  {
   "cell_type": "markdown",
   "id": "eab0ffaa-fc13-48ab-a105-b188a85ff26e",
   "metadata": {},
   "source": [
    "1. add- it adds new element to the set."
   ]
  },
  {
   "cell_type": "code",
   "execution_count": 168,
   "id": "0b45ce10-554e-4490-aef1-cca4cf202e48",
   "metadata": {},
   "outputs": [
    {
     "name": "stdout",
     "output_type": "stream",
     "text": [
      "{98, 12, 45, 21.3, 23.4}\n"
     ]
    }
   ],
   "source": [
    "#example\n",
    "data= {12, 45, 23.4, 98}\n",
    "data.add(21.3)\n",
    "print(data)"
   ]
  },
  {
   "cell_type": "markdown",
   "id": "8b1561cb-9d9a-4f51-ad64-5f10f446fd46",
   "metadata": {},
   "source": [
    "2. clear- removes all the elements from the list"
   ]
  },
  {
   "cell_type": "code",
   "execution_count": 173,
   "id": "99f7273c-a1f4-4ef3-8f01-f1c053733d6e",
   "metadata": {},
   "outputs": [
    {
     "name": "stdout",
     "output_type": "stream",
     "text": [
      "set()\n"
     ]
    }
   ],
   "source": [
    "old={1, 4, 3, 23, 78, 22,}\n",
    "old.clear()\n",
    "print(old)"
   ]
  },
  {
   "cell_type": "markdown",
   "id": "e24a1c43-07b3-425c-b400-bcdd4a9d6c5c",
   "metadata": {},
   "source": [
    "3. copy- It returns the copy of the set"
   ]
  },
  {
   "cell_type": "code",
   "execution_count": 176,
   "id": "ec1c108d-8889-46b3-960d-afad2f250a69",
   "metadata": {},
   "outputs": [
    {
     "name": "stdout",
     "output_type": "stream",
     "text": [
      "{80, 0.78, 12, 21.67}\n"
     ]
    }
   ],
   "source": [
    "#example\n",
    "c= { 12,80,21.67,0.78}\n",
    "c.copy()\n",
    "print(c)"
   ]
  },
  {
   "cell_type": "markdown",
   "id": "283311a1-227c-466e-a630-552aaa1dcaac",
   "metadata": {},
   "source": [
    "4. difference- returns the elements which are presnt in the first set but not in the second.\n"
   ]
  },
  {
   "cell_type": "code",
   "execution_count": 178,
   "id": "ca4ee56f-2b4b-4cf4-947a-d8d4c9fd4a18",
   "metadata": {},
   "outputs": [
    {
     "name": "stdout",
     "output_type": "stream",
     "text": [
      "{78, 34, 4, 6}\n"
     ]
    }
   ],
   "source": [
    "#example\n",
    "a={23,4,78,90,22,22,1,22,5,6,1, 4, 90, 34, 4, 90, 22}\n",
    "b={23,14,8,100,1,5, 54, 90, 22}\n",
    "print(a-b)"
   ]
  },
  {
   "cell_type": "markdown",
   "id": "f8f9ddd4-d747-45e3-b709-d5d0f85aa132",
   "metadata": {},
   "source": [
    "5. difference_update-\tRemoves the items in this set that are also included in another, specified set"
   ]
  },
  {
   "cell_type": "code",
   "execution_count": 206,
   "id": "317b834a-2742-44ae-a2ef-4741bdcc9171",
   "metadata": {},
   "outputs": [
    {
     "name": "stdout",
     "output_type": "stream",
     "text": [
      "{1, 2}\n"
     ]
    }
   ],
   "source": [
    "a = {1, 2, 3, 4, 7}\n",
    "b = {3, 4, 5, 6, 7}\n",
    "a.difference_update(b)\n",
    "print(a)"
   ]
  },
  {
   "cell_type": "markdown",
   "id": "f9b04056-6a5c-4b78-8ab4-b9a008f93d63",
   "metadata": {},
   "source": [
    "6. discard- removes the specific element from the list"
   ]
  },
  {
   "cell_type": "code",
   "execution_count": 193,
   "id": "88dd18ae-c620-42cd-863b-1f477b8d4702",
   "metadata": {},
   "outputs": [
    {
     "name": "stdout",
     "output_type": "stream",
     "text": [
      "{'garlic', ' cauliflower', 'beetroot'}\n"
     ]
    }
   ],
   "source": [
    "#example\n",
    "ew_vegetables={\"beetroot\",\" cauliflower\", \"garlic\",\"onion\"}\n",
    "removed=new_vegetables.discard(\"onion\")\n",
    "print(new_vegetables)"
   ]
  },
  {
   "cell_type": "markdown",
   "id": "9b5c73fc-4cb8-40f8-ac1c-82349a8d9a07",
   "metadata": {},
   "source": [
    "7. intersection- It returns the elements which are common in two sets\n"
   ]
  },
  {
   "cell_type": "code",
   "execution_count": 196,
   "id": "5e631b99-62af-46fd-8437-332fd4dce0fe",
   "metadata": {},
   "outputs": [
    {
     "name": "stdout",
     "output_type": "stream",
     "text": [
      "{1, 4, 22, 78}\n"
     ]
    }
   ],
   "source": [
    "# example\n",
    "old={1, 4, 3, 23, 78, 22,}\n",
    "updated= {1, 4, 5, 6, 45, 78, 22, 90}\n",
    "print(old.intersection(updated))"
   ]
  },
  {
   "cell_type": "markdown",
   "id": "5963830b-ec1d-4104-977b-cee5b483f2df",
   "metadata": {},
   "source": [
    "8.intersection_update-\tRemoves the items in this set that are not present in other, specified sets"
   ]
  },
  {
   "cell_type": "code",
   "execution_count": 204,
   "id": "fbb215d5-0921-48b1-878c-5eb47152e2ae",
   "metadata": {},
   "outputs": [
    {
     "name": "stdout",
     "output_type": "stream",
     "text": [
      "{3, 4, 7}\n"
     ]
    }
   ],
   "source": [
    "a = {1, 2, 3, 4, 7}\n",
    "b = {3, 4, 5, 6, 7}\n",
    "a.intersection_update(b)\n",
    "print(a)"
   ]
  },
  {
   "cell_type": "markdown",
   "id": "725966b0-b652-4f34-a121-870572b1553a",
   "metadata": {},
   "source": [
    "9. union- It combines elements in two sets\n"
   ]
  },
  {
   "cell_type": "code",
   "execution_count": 209,
   "id": "b81ab2ab-661d-4d31-bfd5-2303e0f54333",
   "metadata": {},
   "outputs": [
    {
     "name": "stdout",
     "output_type": "stream",
     "text": [
      "{1, 2, 3, 4, 5, 6, 7, 8, 3.67, 11, 45.87, 23.09}\n"
     ]
    }
   ],
   "source": [
    "# example\n",
    "num= {1,2,3,4,5,6,7,8}\n",
    "int={23.09,11,45.87,3.67}\n",
    "print(num.union(int))"
   ]
  },
  {
   "cell_type": "markdown",
   "id": "acaac407-d788-4710-8d59-ad7aee63dce3",
   "metadata": {},
   "source": [
    "10. update- it adds elements to the set"
   ]
  },
  {
   "cell_type": "code",
   "execution_count": 212,
   "id": "677bd059-e851-4e64-bc96-092dcb0228d9",
   "metadata": {},
   "outputs": [
    {
     "name": "stdout",
     "output_type": "stream",
     "text": [
      "{34.9, 'none', 23, 1000, 'false ', 'iddu'}\n"
     ]
    }
   ],
   "source": [
    "#example\n",
    "mixed={23, \"iddu\", 'false ', 34.90}\n",
    "mixed_new={23,\"none\", 1000}\n",
    "mixed.update(mixed_new)\n",
    "print(mixed)"
   ]
  },
  {
   "cell_type": "markdown",
   "id": "7e2b15d8-2427-46be-8e74-cd6b7e99f85d",
   "metadata": {},
   "source": [
    "11. remove- It removes the specific element from the set"
   ]
  },
  {
   "cell_type": "code",
   "execution_count": 215,
   "id": "408540d4-7a29-401e-ae4f-caf74e476c43",
   "metadata": {},
   "outputs": [
    {
     "name": "stdout",
     "output_type": "stream",
     "text": [
      "{'writing', 'acting', 'art', 'roleplay', 'dance'}\n"
     ]
    }
   ],
   "source": [
    "x={\"music\", \"dance\",\"art\",\"roleplay\",\"writing\",\"acting\"}\n",
    "x.remove(\"music\")\n",
    "print(x)"
   ]
  },
  {
   "cell_type": "markdown",
   "id": "3f208411-518e-4990-aa15-13d88662fc4e",
   "metadata": {},
   "source": [
    "12. symmetric difference- It returns the  elemnets that are ineither of the sets but not in both."
   ]
  },
  {
   "cell_type": "code",
   "execution_count": 219,
   "id": "7fbfa453-57a7-44e5-b889-1e02ae08861a",
   "metadata": {},
   "outputs": [
    {
     "name": "stdout",
     "output_type": "stream",
     "text": [
      "{34.9, 1000, 'iddu', 'none', 'false '}\n"
     ]
    }
   ],
   "source": [
    "# example\n",
    "mixed={23, \"iddu\", 'false ', 34.90}\n",
    "mixed_new={23,\"none\", 1000}\n",
    "print(mixed^mixed_new)"
   ]
  },
  {
   "cell_type": "markdown",
   "id": "e3133864-8872-4893-8e20-041141f9a089",
   "metadata": {},
   "source": [
    "13. symmetric_difference_update-  it Updates the existing caller set with the symmetric difference of sets."
   ]
  },
  {
   "cell_type": "code",
   "execution_count": 222,
   "id": "2f3fce36-9811-4213-85cb-fab7e154c328",
   "metadata": {},
   "outputs": [
    {
     "name": "stdout",
     "output_type": "stream",
     "text": [
      "{1, 2, 5, 6}\n"
     ]
    }
   ],
   "source": [
    "#example\n",
    "a = {1, 2, 3, 4, 7}\n",
    "b = {3, 4, 5, 6, 7}\n",
    "a.symmetric_difference_update(b)\n",
    "print(a)"
   ]
  },
  {
   "cell_type": "markdown",
   "id": "25a71033-adbb-4b16-9957-796571084490",
   "metadata": {},
   "source": [
    "14. pop- It removes an element from the set"
   ]
  },
  {
   "cell_type": "code",
   "execution_count": 233,
   "id": "e276fe4d-c566-43b3-a5f5-9d93a57249ff",
   "metadata": {},
   "outputs": [
    {
     "name": "stdout",
     "output_type": "stream",
     "text": [
      "{'acting', 'art', 'roleplay', 'music', 'dance'}\n"
     ]
    }
   ],
   "source": [
    "#example\n",
    "x={\"music\", \"dance\",\"art\",\"roleplay\",\"writing\",\"acting\"}\n",
    "x.pop()\n",
    "print(x)"
   ]
  },
  {
   "cell_type": "markdown",
   "id": "98a8acec-550d-4d57-b4df-4d742d017044",
   "metadata": {},
   "source": [
    "15. isdisjoint-\t It Checks whether the sets are disjoint or not, it returns true if they arent any common elements and false when it has."
   ]
  },
  {
   "cell_type": "code",
   "execution_count": 238,
   "id": "547f8a70-8297-40e1-805f-d487a77f7efa",
   "metadata": {},
   "outputs": [
    {
     "name": "stdout",
     "output_type": "stream",
     "text": [
      "False\n"
     ]
    }
   ],
   "source": [
    "#example\n",
    "a = {1, 2, 3, 4, 7}\n",
    "b = {3, 4, 5, 6, 7}\n",
    "c=a.isdisjoint(b)\n",
    "print(c)"
   ]
  },
  {
   "cell_type": "markdown",
   "id": "32365f45-7f50-4ba8-8b48-a2d07d2c63d8",
   "metadata": {},
   "source": [
    "16. issubset- It returns whether another set contains this set or not"
   ]
  },
  {
   "cell_type": "code",
   "execution_count": 254,
   "id": "2839a6c8-e2c4-45b3-bd52-c0fe22e84cac",
   "metadata": {},
   "outputs": [
    {
     "name": "stdout",
     "output_type": "stream",
     "text": [
      "True\n"
     ]
    }
   ],
   "source": [
    "#example\n",
    "num= {1,2,3,4,5,6,7,8}\n",
    "int={1,2,3,4}\n",
    "print(int.issubset(num))"
   ]
  },
  {
   "cell_type": "markdown",
   "id": "617381c2-f9d2-44c8-8902-8d602c4b821a",
   "metadata": {},
   "source": [
    "17. issuperset-\t it returns whether this set contains another set or not"
   ]
  },
  {
   "cell_type": "code",
   "execution_count": 257,
   "id": "e499d1c5-3088-4da6-b764-a1b79cb0e123",
   "metadata": {},
   "outputs": [
    {
     "name": "stdout",
     "output_type": "stream",
     "text": [
      "False\n"
     ]
    }
   ],
   "source": [
    "#example\n",
    "num= {1,2,3,4,5,6,7,8}\n",
    "int={1,2,3,4}\n",
    "print(num.issubset(int))"
   ]
  },
  {
   "cell_type": "code",
   "execution_count": null,
   "id": "a13f449f-bda6-489f-9305-50e2ff368fc1",
   "metadata": {},
   "outputs": [],
   "source": []
  }
 ],
 "metadata": {
  "kernelspec": {
   "display_name": "Python 3 (ipykernel)",
   "language": "python",
   "name": "python3"
  },
  "language_info": {
   "codemirror_mode": {
    "name": "ipython",
    "version": 3
   },
   "file_extension": ".py",
   "mimetype": "text/x-python",
   "name": "python",
   "nbconvert_exporter": "python",
   "pygments_lexer": "ipython3",
   "version": "3.12.4"
  }
 },
 "nbformat": 4,
 "nbformat_minor": 5
}
