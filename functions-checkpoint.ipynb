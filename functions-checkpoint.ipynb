{
 "cells": [
  {
   "cell_type": "markdown",
   "id": "26ec022d-618b-4df3-a11f-d1e359093b6b",
   "metadata": {},
   "source": [
    "#  Functions :\n",
    "- Python Functions is a block of statements that return the specific task.\n",
    "- The idea is to put some commonly or repeatedly done tasks together\n",
    "- we call the function with n number of times."
   ]
  },
  {
   "cell_type": "markdown",
   "id": "50cb2ba5-149a-4ada-b373-12a322e463f4",
   "metadata": {},
   "source": [
    "- There are two types of functions :\n",
    "- 1.Bultin functions.\n",
    "- 2.User defined function."
   ]
  },
  {
   "cell_type": "markdown",
   "id": "5b422fa1-00bf-45bf-b972-d164683a9158",
   "metadata": {},
   "source": [
    "# 1.Bult-in Function\n",
    "- The built-in Python functions are pre-defined by the python interpreter.\n",
    "- These functions perform a specific task and can be used in any program\n",
    "- There are 68 built-in python functions."
   ]
  },
  {
   "cell_type": "markdown",
   "id": "d0603d08-8f63-4574-a9ae-93ee7c308a04",
   "metadata": {},
   "source": [
    "# 2.User-Defined Function.\n",
    "- user-defined function  is a function that a user create yourself to perform a specific task.\n",
    "- these functions are defined using the def keyword."
   ]
  },
  {
   "cell_type": "markdown",
   "id": "03af1cfe-e8f8-4450-80f4-d8d1c76194ee",
   "metadata": {},
   "source": [
    "# Examples"
   ]
  },
  {
   "cell_type": "code",
   "execution_count": 195,
   "id": "3f2cd9a8-3988-4773-96ad-f64cfc060c83",
   "metadata": {},
   "outputs": [
    {
     "name": "stdout",
     "output_type": "stream",
     "text": [
      "hello  idris my age is 21\n",
      "hello  ski my age is 32\n"
     ]
    }
   ],
   "source": [
    "def greet(name,age):\n",
    "    print(f\"hello  {name} my age is {age}\" )\n",
    "\n",
    "greet('idris', 21)# once we create a fucntion we can call it n number of times\n",
    "greet(\"ski\", 32)"
   ]
  },
  {
   "cell_type": "code",
   "execution_count": 28,
   "id": "68507f71-8dc0-437c-86d8-65219314a662",
   "metadata": {},
   "outputs": [
    {
     "name": "stdin",
     "output_type": "stream",
     "text": [
      "enter name: idris\n",
      "enter age: 23\n",
      "enter location hyd\n"
     ]
    },
    {
     "name": "stdout",
     "output_type": "stream",
     "text": [
      "idris lives in hyd and he is 23 old\n"
     ]
    }
   ],
   "source": [
    "name=input(\"enter name:\")\n",
    "age=int(input(\"enter age:\"))\n",
    "location=input(\"enter location\")\n",
    "\n",
    "def user(name,age,location):\n",
    "    print(f'{name} lives in {location} and he is {age} old')\n",
    "\n",
    "user(name,age,location)\n",
    "    "
   ]
  },
  {
   "cell_type": "code",
   "execution_count": 3,
   "id": "06cb9125-e348-4775-91b0-7118a6a2f0d2",
   "metadata": {},
   "outputs": [
    {
     "name": "stdout",
     "output_type": "stream",
     "text": [
      "showroom bike list:['fz', 'duke', 'bullet']\n"
     ]
    },
    {
     "name": "stdin",
     "output_type": "stream",
     "text": [
      "choose the required bike from the list : bullet\n"
     ]
    },
    {
     "name": "stdout",
     "output_type": "stream",
     "text": [
      "we have bullet , which type of model you are looking in it\n"
     ]
    }
   ],
   "source": [
    "bike_list=['fz','duke', 'bullet']\n",
    "print(f'showroom bike list:{bike_list}')\n",
    "bike=input('choose the required bike from the list :')\n",
    "\n",
    "def bike_showroom(bikes,bike):\n",
    "    if bike in bike_list:\n",
    "        print(f'we have {bike} , which type of model you are looking in it')\n",
    "    else :\n",
    "        print(f' {bike} is not available in the show room')\n",
    "\n",
    "bike_showroom(bike_list,bike)"
   ]
  },
  {
   "cell_type": "code",
   "execution_count": 15,
   "id": "62e87d74-155a-4419-ba17-a7630c17625b",
   "metadata": {},
   "outputs": [
    {
     "data": {
      "text/plain": [
       "4"
      ]
     },
     "execution_count": 15,
     "metadata": {},
     "output_type": "execute_result"
    }
   ],
   "source": [
    "#function with return statement.\n",
    "def square(int):\n",
    "    r= int*int\n",
    "    return r # it can be used to replace print\n",
    "\n",
    "square(2)"
   ]
  },
  {
   "cell_type": "markdown",
   "id": "0e9588f3-9d5b-4924-aa0a-e276019972b4",
   "metadata": {},
   "source": [
    "# python lambda\n",
    "- a lambda function a smal function, which can take any number of arguments but can have only one expression."
   ]
  },
  {
   "cell_type": "code",
   "execution_count": 24,
   "id": "db1971ce-f976-4da9-9eaa-0b882fe26995",
   "metadata": {},
   "outputs": [
    {
     "name": "stdout",
     "output_type": "stream",
     "text": [
      "36\n"
     ]
    }
   ],
   "source": [
    "#EXAMPLE\n",
    "x= lambda a,b,c: (a+b)*c\n",
    "print(x(2,4,6))"
   ]
  },
  {
   "cell_type": "markdown",
   "id": "ad1d9528-22d1-45eb-b203-ee094c6f8221",
   "metadata": {},
   "source": [
    "# varibale in functios\n",
    "- global variable\n",
    "- local variable"
   ]
  },
  {
   "cell_type": "code",
   "execution_count": 49,
   "id": "9724324c-ce0d-408a-b571-07c2e4385850",
   "metadata": {},
   "outputs": [
    {
     "name": "stdout",
     "output_type": "stream",
     "text": [
      "I'm Idris\n",
      "<function golbal at 0x000001F5E0BD32E0>\n"
     ]
    }
   ],
   "source": [
    "def golbal():\n",
    "    golbal = \"hello data science\"\n",
    "\n",
    "def local():\n",
    "    local = \"I'm Idris\"\n",
    "    print(local)\n",
    "    print(golbal)\n",
    "\n",
    "local()\n"
   ]
  },
  {
   "cell_type": "markdown",
   "id": "ca8a9b05-3fdc-4631-8599-ef8987d7bf5a",
   "metadata": {},
   "source": [
    "# Map function"
   ]
  },
  {
   "cell_type": "markdown",
   "id": "58bbfac5-7960-4c77-847d-8779f1dffc96",
   "metadata": {},
   "source": [
    "- Map Function: The map function returns a map object of the results after applying the given function to each item of a given iterable (list, tuple, etc.)"
   ]
  },
  {
   "cell_type": "code",
   "execution_count": 55,
   "id": "74894708-9259-4370-b428-235a2ac4fa5b",
   "metadata": {},
   "outputs": [
    {
     "name": "stdout",
     "output_type": "stream",
     "text": [
      "[4, 6, 8, 10]\n"
     ]
    }
   ],
   "source": [
    "def double(n):\n",
    "    return n * 2\n",
    "\n",
    "numbers = [2, 3, 4, 5]\n",
    "result = map(double, numbers)\n",
    "print(list(result))"
   ]
  },
  {
   "cell_type": "markdown",
   "id": "8bb0b54e-35ea-432e-b71c-40fb371f1289",
   "metadata": {},
   "source": [
    "# Filter Function \n",
    "- The filter method filters the given sequence with the help of a function that tests each element in the sequence to be true or not."
   ]
  },
  {
   "cell_type": "code",
   "execution_count": 63,
   "id": "68b91dce-3cfe-477a-b2e8-67611b04ed6d",
   "metadata": {},
   "outputs": [
    {
     "name": "stdout",
     "output_type": "stream",
     "text": [
      "Even numbers: [2, 4, 6, 8, 10]\n"
     ]
    }
   ],
   "source": [
    "def is_even(n):\n",
    "    return n % 2 == 0\n",
    "\n",
    "numbers = [1, 2, 3, 4, 5, 6, 7, 8, 9, 10]\n",
    "\n",
    "even = filter(is_even, numbers)\n",
    "print(\"Even numbers:\", list(even))"
   ]
  },
  {
   "cell_type": "code",
   "execution_count": null,
   "id": "b803503c-aa30-460d-b088-fa764983e3ac",
   "metadata": {},
   "outputs": [],
   "source": []
  }
 ],
 "metadata": {
  "kernelspec": {
   "display_name": "Python 3 (ipykernel)",
   "language": "python",
   "name": "python3"
  },
  "language_info": {
   "codemirror_mode": {
    "name": "ipython",
    "version": 3
   },
   "file_extension": ".py",
   "mimetype": "text/x-python",
   "name": "python",
   "nbconvert_exporter": "python",
   "pygments_lexer": "ipython3",
   "version": "3.12.4"
  }
 },
 "nbformat": 4,
 "nbformat_minor": 5
}
