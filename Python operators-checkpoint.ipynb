{
 "cells": [
  {
   "cell_type": "markdown",
   "id": "3d3c45ae-3486-4543-a655-4b069ac21457",
   "metadata": {},
   "source": [
    "# 1. Explain about python operators.\n",
    "- operators function is to perform operators on variables by using values.\n",
    "- They are several operators which performs the functions and they are combination of symbols ,numbers and keywords etc.\n",
    "- They are seven types of operators in python."
   ]
  },
  {
   "cell_type": "markdown",
   "id": "42b76a5b-da08-47fd-b7fe-76cfc7a22984",
   "metadata": {},
   "source": [
    "# 2. Define the types of operators in python\n",
    "- They are seven types of operators they are:-\n",
    "1. Arthemetic operators\n",
    "2. Assignment operators\n",
    "3. Comparision operators\n",
    "4. Logical operators\n",
    "5. Identity operators\n",
    "6. Membership operators\n",
    "7. Bitwise operators"
   ]
  },
  {
   "cell_type": "markdown",
   "id": "f64e360b-0ada-4a03-af05-00536a0574eb",
   "metadata": {},
   "source": [
    "# 3. explain each and every operator with examples.\n"
   ]
  },
  {
   "cell_type": "markdown",
   "id": "15918957-3405-4fc8-afc0-a9584fb0f44f",
   "metadata": {},
   "source": [
    "# a. Arthemetic operators\n",
    "-  It represents all the mathemetical operators such as addition , subraction, multiplication and division.\n",
    "-  They use these (+,-,*,/,%,//,**) operators to perform functions with variables."
   ]
  },
  {
   "cell_type": "code",
   "execution_count": 8,
   "id": "616b25b4-b641-4218-a32f-27b9772bec41",
   "metadata": {},
   "outputs": [
    {
     "name": "stdout",
     "output_type": "stream",
     "text": [
      "14\n"
     ]
    }
   ],
   "source": [
    "# examples of arthemetic operators are\n",
    "a= 5\n",
    "b= 9\n",
    "print(a+b)"
   ]
  },
  {
   "cell_type": "code",
   "execution_count": 26,
   "id": "0ac3d9ae-d772-4386-9210-6f05df104bc2",
   "metadata": {},
   "outputs": [
    {
     "name": "stdout",
     "output_type": "stream",
     "text": [
      "9.0\n"
     ]
    }
   ],
   "source": [
    "x= 45\n",
    "b= 5\n",
    "c= x/b\n",
    "print(c)"
   ]
  },
  {
   "cell_type": "code",
   "execution_count": 12,
   "id": "af0bd926-a092-4ebe-8e0f-9ffc00e4b965",
   "metadata": {},
   "outputs": [
    {
     "name": "stdout",
     "output_type": "stream",
     "text": [
      "22\n"
     ]
    }
   ],
   "source": [
    "a= 90\n",
    "b= 68\n",
    "print(a-b)"
   ]
  },
  {
   "cell_type": "code",
   "execution_count": 20,
   "id": "cc45af4b-6536-4d6b-88a5-077223029669",
   "metadata": {},
   "outputs": [
    {
     "name": "stdout",
     "output_type": "stream",
     "text": [
      "160\n"
     ]
    }
   ],
   "source": [
    "c= 40\n",
    "g= 4\n",
    "v= c*g\n",
    "print(v)"
   ]
  },
  {
   "cell_type": "code",
   "execution_count": 22,
   "id": "c232fc98-f909-4392-9704-88f065355479",
   "metadata": {},
   "outputs": [
    {
     "name": "stdout",
     "output_type": "stream",
     "text": [
      "10\n"
     ]
    }
   ],
   "source": [
    "a= 50\n",
    "b= 5\n",
    "d= a//b\n",
    "print(d)"
   ]
  },
  {
   "cell_type": "code",
   "execution_count": 28,
   "id": "4b8ee49d-19da-4502-9f45-0046b42983e3",
   "metadata": {},
   "outputs": [
    {
     "name": "stdout",
     "output_type": "stream",
     "text": [
      "32\n"
     ]
    }
   ],
   "source": [
    "a= 2\n",
    "b= 5\n",
    "print(a**b)"
   ]
  },
  {
   "cell_type": "code",
   "execution_count": 30,
   "id": "ce670f9f-2c03-4488-865b-88cf3c16c110",
   "metadata": {},
   "outputs": [
    {
     "name": "stdout",
     "output_type": "stream",
     "text": [
      "5\n"
     ]
    }
   ],
   "source": [
    "f= 45\n",
    "d= 10\n",
    "k= f%d\n",
    "print(k)"
   ]
  },
  {
   "cell_type": "code",
   "execution_count": 32,
   "id": "dfce4c5b-018d-4647-bb3e-d846fde9234d",
   "metadata": {},
   "outputs": [
    {
     "name": "stdout",
     "output_type": "stream",
     "text": [
      "8.166666666666666\n"
     ]
    }
   ],
   "source": [
    "a= 49\n",
    "b= 6\n",
    "c= a/b\n",
    "print(c)"
   ]
  },
  {
   "cell_type": "code",
   "execution_count": 34,
   "id": "b7e3dc32-288b-46c8-8b00-69f4c9178d4b",
   "metadata": {},
   "outputs": [
    {
     "name": "stdout",
     "output_type": "stream",
     "text": [
      "11\n"
     ]
    }
   ],
   "source": [
    "b= 90\n",
    "c= 8\n",
    "print(b//c)"
   ]
  },
  {
   "cell_type": "code",
   "execution_count": 36,
   "id": "ac98ba36-f39a-4a4a-8a9e-69c4a7f2ce2d",
   "metadata": {},
   "outputs": [
    {
     "name": "stdout",
     "output_type": "stream",
     "text": [
      "67\n"
     ]
    }
   ],
   "source": [
    "a= -23\n",
    "b= 90\n",
    "print(a+b)"
   ]
  },
  {
   "cell_type": "markdown",
   "id": "0e3425a6-14ba-47f0-b07d-d57f5d6c6394",
   "metadata": {},
   "source": [
    "# b. Comparision operators\n",
    "- They are 6 types of comparision operators, that enables to perfrom operation between two variables.\n",
    "- They are (==,!=,<,>,<=,>=)"
   ]
  },
  {
   "cell_type": "code",
   "execution_count": 47,
   "id": "70e8866c-b356-4bec-8d91-bb8a8aef62e7",
   "metadata": {},
   "outputs": [
    {
     "name": "stdout",
     "output_type": "stream",
     "text": [
      "False\n"
     ]
    }
   ],
   "source": [
    "# examples of comparison operators.\n",
    "a= 56\n",
    "b= 45\n",
    "print(a==b)\n"
   ]
  },
  {
   "cell_type": "code",
   "execution_count": 41,
   "id": "b3a02d8b-1b9a-45f8-9466-d40c58b1f51a",
   "metadata": {},
   "outputs": [
    {
     "name": "stdout",
     "output_type": "stream",
     "text": [
      "True\n"
     ]
    }
   ],
   "source": [
    "print(a!=b)"
   ]
  },
  {
   "cell_type": "code",
   "execution_count": 43,
   "id": "d4dd2114-261a-488a-a6e3-9f20d7d209e9",
   "metadata": {},
   "outputs": [
    {
     "name": "stdout",
     "output_type": "stream",
     "text": [
      "False\n"
     ]
    }
   ],
   "source": [
    "print(a<=b)"
   ]
  },
  {
   "cell_type": "code",
   "execution_count": 45,
   "id": "629bffcf-3f8d-4f2f-9992-64c460acc261",
   "metadata": {},
   "outputs": [
    {
     "name": "stdout",
     "output_type": "stream",
     "text": [
      "True\n"
     ]
    }
   ],
   "source": [
    "print(a>=b)"
   ]
  },
  {
   "cell_type": "code",
   "execution_count": 49,
   "id": "c8b8a26a-37a5-4683-9784-4d12a6dd3438",
   "metadata": {},
   "outputs": [
    {
     "name": "stdout",
     "output_type": "stream",
     "text": [
      "False\n"
     ]
    }
   ],
   "source": [
    "print(a<b)"
   ]
  },
  {
   "cell_type": "code",
   "execution_count": 51,
   "id": "375f2b39-6b71-474f-8f1c-94b19414fe1c",
   "metadata": {},
   "outputs": [
    {
     "name": "stdout",
     "output_type": "stream",
     "text": [
      "True\n"
     ]
    }
   ],
   "source": [
    "print(a>b)"
   ]
  },
  {
   "cell_type": "code",
   "execution_count": 53,
   "id": "82acc63e-21f7-43c0-86c7-c961c277c2d4",
   "metadata": {},
   "outputs": [
    {
     "data": {
      "text/plain": [
       "True"
      ]
     },
     "execution_count": 53,
     "metadata": {},
     "output_type": "execute_result"
    }
   ],
   "source": [
    "4.5<8.0\n"
   ]
  },
  {
   "cell_type": "code",
   "execution_count": 55,
   "id": "a46771e2-9983-4ab9-9ac0-16434859e74d",
   "metadata": {},
   "outputs": [
    {
     "data": {
      "text/plain": [
       "True"
      ]
     },
     "execution_count": 55,
     "metadata": {},
     "output_type": "execute_result"
    }
   ],
   "source": [
    "34/4 < 45/5"
   ]
  },
  {
   "cell_type": "code",
   "execution_count": 57,
   "id": "0670d683-3d37-4a93-ad81-46a6bb920a5e",
   "metadata": {},
   "outputs": [
    {
     "name": "stdout",
     "output_type": "stream",
     "text": [
      "True\n"
     ]
    }
   ],
   "source": [
    "e= 80\n",
    "b= 80\n",
    "print(a!=b)"
   ]
  },
  {
   "cell_type": "code",
   "execution_count": 59,
   "id": "a0b9106a-71e3-4638-8926-1336dde91150",
   "metadata": {},
   "outputs": [
    {
     "name": "stdout",
     "output_type": "stream",
     "text": [
      "False\n"
     ]
    }
   ],
   "source": [
    "print(a==b)"
   ]
  },
  {
   "cell_type": "markdown",
   "id": "b4662407-078d-478c-9a45-4ab6da4bb4db",
   "metadata": {},
   "source": [
    "# c.Assignment operators\n",
    "- They are used to assign values to the variables.\n",
    "- They are different types in this they are\n",
    "-  Assignment operator, Addition assignment, subraction assignment, division assignment, Multiplication assignment,and remainder assignmnet, exponent assignment."
   ]
  },
  {
   "cell_type": "code",
   "execution_count": 64,
   "id": "7993ad77-65f1-4225-8359-b0b45d115b0d",
   "metadata": {},
   "outputs": [
    {
     "name": "stdout",
     "output_type": "stream",
     "text": [
      "40\n"
     ]
    }
   ],
   "source": [
    "# examples of Assignment operators.\n",
    "a= 45\n",
    "b= 5\n",
    "a-=b\n",
    "print(a)"
   ]
  },
  {
   "cell_type": "code",
   "execution_count": 66,
   "id": "8bcd58e5-e745-43dd-8d16-5d4b29fcc2c6",
   "metadata": {},
   "outputs": [
    {
     "name": "stdout",
     "output_type": "stream",
     "text": [
      "45\n"
     ]
    }
   ],
   "source": [
    "a+=b\n",
    "print(a)"
   ]
  },
  {
   "cell_type": "code",
   "execution_count": 68,
   "id": "d1cce33d-34a4-4b5d-baa0-10aa2f2e07af",
   "metadata": {},
   "outputs": [
    {
     "name": "stdout",
     "output_type": "stream",
     "text": [
      "-40\n"
     ]
    }
   ],
   "source": [
    "b-=a\n",
    "print(b)"
   ]
  },
  {
   "cell_type": "code",
   "execution_count": 72,
   "id": "2265db6a-1f7f-4c3e-8030-dac01d19f054",
   "metadata": {},
   "outputs": [
    {
     "name": "stdout",
     "output_type": "stream",
     "text": [
      "20\n"
     ]
    }
   ],
   "source": [
    "a= 5\n",
    "b= 4\n",
    "a*=b\n",
    "print(a)"
   ]
  },
  {
   "cell_type": "code",
   "execution_count": 74,
   "id": "e0075dfa-ecca-4676-96f7-0db52e42e7bc",
   "metadata": {},
   "outputs": [
    {
     "name": "stdout",
     "output_type": "stream",
     "text": [
      "5.0\n"
     ]
    }
   ],
   "source": [
    "a/=b\n",
    "print(a)"
   ]
  },
  {
   "cell_type": "code",
   "execution_count": 82,
   "id": "5e9de99a-6cdf-4525-9b52-906a0426440d",
   "metadata": {},
   "outputs": [
    {
     "name": "stdout",
     "output_type": "stream",
     "text": [
      "0\n"
     ]
    }
   ],
   "source": [
    "a= 60\n",
    "b= 6\n",
    "a%=b\n",
    "print(a)"
   ]
  },
  {
   "cell_type": "code",
   "execution_count": 90,
   "id": "f196f3bd-4c88-4883-8956-dddc2ca7479a",
   "metadata": {},
   "outputs": [
    {
     "name": "stdout",
     "output_type": "stream",
     "text": [
      "64\n"
     ]
    }
   ],
   "source": [
    "a= 2\n",
    "b= 6\n",
    "a**=b\n",
    "print(a)"
   ]
  },
  {
   "cell_type": "code",
   "execution_count": 98,
   "id": "934d7bea-4831-4bf3-b09c-3ffc521f1c06",
   "metadata": {},
   "outputs": [
    {
     "name": "stdout",
     "output_type": "stream",
     "text": [
      "0.10638297872340426\n"
     ]
    }
   ],
   "source": [
    "a= 5\n",
    "b= 47\n",
    "a/=b\n",
    "print(a)"
   ]
  },
  {
   "cell_type": "code",
   "execution_count": 102,
   "id": "06629e8e-c5d3-4154-bcc5-c6fbe65af030",
   "metadata": {},
   "outputs": [
    {
     "name": "stdout",
     "output_type": "stream",
     "text": [
      "0\n"
     ]
    }
   ],
   "source": [
    "x= 34\n",
    "y= 17\n",
    "x%=y\n",
    "print(x)"
   ]
  },
  {
   "cell_type": "code",
   "execution_count": 110,
   "id": "f0abc0cc-4db3-4b28-a16f-33d279ab5a57",
   "metadata": {},
   "outputs": [
    {
     "name": "stdout",
     "output_type": "stream",
     "text": [
      "2\n"
     ]
    }
   ],
   "source": [
    "x= 34\n",
    "y= 17\n",
    "x//=y\n",
    "print(x)"
   ]
  },
  {
   "cell_type": "markdown",
   "id": "8f2a7eb4-2316-4457-a8d1-41df44bdb4d9",
   "metadata": {},
   "source": [
    "# d.logical operators\n",
    "- These logical operators use the logical operators and return the boolean value between the operands.\n",
    "- They are theree types , AND, OR, NOT.\n",
    "- AND operator returns True only if both the variable are true , if one of them is false the results turns out as false.\n",
    "- OR operator returns true if one of the variable condition is true .\n",
    "- NOT operator is, if  the result is true then the logical NOT operator will make it false and vice-versa.\n",
    "ax Example"
   ]
  },
  {
   "cell_type": "code",
   "execution_count": 116,
   "id": "451d95fe-d8d2-4720-9db2-9c0d3f3f8dcf",
   "metadata": {},
   "outputs": [
    {
     "name": "stdout",
     "output_type": "stream",
     "text": [
      "True\n"
     ]
    }
   ],
   "source": [
    "# eaxmples of logical operators\n",
    "print(23<34 and 23 !=34)"
   ]
  },
  {
   "cell_type": "code",
   "execution_count": 118,
   "id": "02c06d59-babb-40df-a450-53bfc180717a",
   "metadata": {},
   "outputs": [
    {
     "name": "stdout",
     "output_type": "stream",
     "text": [
      "False\n"
     ]
    }
   ],
   "source": [
    "print ( 1< -1 and 1>0)"
   ]
  },
  {
   "cell_type": "code",
   "execution_count": 122,
   "id": "f7f22518-19ba-4f5b-a5bd-c718bee3b2e6",
   "metadata": {},
   "outputs": [
    {
     "name": "stdout",
     "output_type": "stream",
     "text": [
      "True\n"
     ]
    }
   ],
   "source": [
    "print( 100 > 89 and 89> 80)"
   ]
  },
  {
   "cell_type": "code",
   "execution_count": 124,
   "id": "efd2fec7-1d50-4601-a49f-285ae8fe3a28",
   "metadata": {},
   "outputs": [
    {
     "name": "stdout",
     "output_type": "stream",
     "text": [
      "False\n"
     ]
    }
   ],
   "source": [
    "x= 56\n",
    "print(x==55 and x> 9) "
   ]
  },
  {
   "cell_type": "code",
   "execution_count": 126,
   "id": "fa9dcbd3-b45a-4c8c-8b79-b7114c68ede2",
   "metadata": {},
   "outputs": [
    {
     "name": "stdout",
     "output_type": "stream",
     "text": [
      "True\n"
     ]
    }
   ],
   "source": [
    "print( 3>0 or 56> 100)"
   ]
  },
  {
   "cell_type": "code",
   "execution_count": 128,
   "id": "634b50e1-5216-403e-8e01-19e639046d30",
   "metadata": {},
   "outputs": [
    {
     "name": "stdout",
     "output_type": "stream",
     "text": [
      "False\n"
     ]
    }
   ],
   "source": [
    "print(0== 1 or 332< 20)"
   ]
  },
  {
   "cell_type": "code",
   "execution_count": 130,
   "id": "3be0173f-82f0-4def-9536-634db89d3dbe",
   "metadata": {},
   "outputs": [
    {
     "name": "stdout",
     "output_type": "stream",
     "text": [
      "True\n"
     ]
    }
   ],
   "source": [
    "print(23.3 > 23.03 or 100==100.0)"
   ]
  },
  {
   "cell_type": "code",
   "execution_count": 134,
   "id": "965b79b3-800b-4eb7-9966-d2da59c6bd6e",
   "metadata": {},
   "outputs": [
    {
     "name": "stdout",
     "output_type": "stream",
     "text": [
      "True\n"
     ]
    }
   ],
   "source": [
    "x= 45\n",
    "print(x< 100 or x>100)"
   ]
  },
  {
   "cell_type": "code",
   "execution_count": 136,
   "id": "ad6948f5-81d2-4a05-8211-31662a656814",
   "metadata": {},
   "outputs": [
    {
     "name": "stdout",
     "output_type": "stream",
     "text": [
      "True\n"
     ]
    }
   ],
   "source": [
    "a= 23\n",
    "b= 60\n",
    "print(not(a>b and b<100))"
   ]
  },
  {
   "cell_type": "code",
   "execution_count": 140,
   "id": "21e7fb8a-bd74-430d-b351-9c681e1d2ff3",
   "metadata": {},
   "outputs": [
    {
     "name": "stdout",
     "output_type": "stream",
     "text": [
      "False\n"
     ]
    }
   ],
   "source": [
    "a= 333\n",
    "b= 621\n",
    "print(not(a>b or a>200))"
   ]
  },
  {
   "cell_type": "markdown",
   "id": "5e2e6bad-956d-4e25-803b-88af801ffa98",
   "metadata": {},
   "source": [
    "# e. Identity operators\n",
    "- It ensures that the value is present or not.\n",
    "- They are two types in it they are is and is not, these two fuctions perform the operantion with variables and give result either true or faslse \n"
   ]
  },
  {
   "cell_type": "code",
   "execution_count": 145,
   "id": "dd690799-5dca-4839-96c5-6da8a639164b",
   "metadata": {},
   "outputs": [
    {
     "name": "stdout",
     "output_type": "stream",
     "text": [
      "False\n"
     ]
    }
   ],
   "source": [
    "# examples of identity opeerators\n",
    "a= 34\n",
    "b= 45\n",
    "print(a is b)"
   ]
  },
  {
   "cell_type": "code",
   "execution_count": 147,
   "id": "cec15f6b-f826-472a-9ca3-93d0b8c89409",
   "metadata": {},
   "outputs": [
    {
     "name": "stdout",
     "output_type": "stream",
     "text": [
      "True\n"
     ]
    }
   ],
   "source": [
    "d= 4\n",
    "b= 4\n",
    "print(d is b)"
   ]
  },
  {
   "cell_type": "code",
   "execution_count": 149,
   "id": "b37a1217-9543-4e00-a4dc-a9a434a14b0d",
   "metadata": {},
   "outputs": [
    {
     "name": "stdout",
     "output_type": "stream",
     "text": [
      "True\n"
     ]
    }
   ],
   "source": [
    "a= 49.8\n",
    "b= 49\n",
    "print(a is not b)"
   ]
  },
  {
   "cell_type": "code",
   "execution_count": 153,
   "id": "4c31cf0f-3a60-4c96-90e6-cb077866930b",
   "metadata": {},
   "outputs": [
    {
     "name": "stdout",
     "output_type": "stream",
     "text": [
      "True\n"
     ]
    }
   ],
   "source": [
    "e= 23\n",
    "f= 90\n",
    "print(e is not f)"
   ]
  },
  {
   "cell_type": "code",
   "execution_count": 155,
   "id": "224b26ef-940e-4282-830b-36d20512469d",
   "metadata": {},
   "outputs": [
    {
     "name": "stdout",
     "output_type": "stream",
     "text": [
      "True\n"
     ]
    }
   ],
   "source": [
    "x= 904\n",
    "y= 674\n",
    "print(x is   not y)"
   ]
  },
  {
   "cell_type": "code",
   "execution_count": 165,
   "id": "969fd16c-3b00-4d70-81b7-91d259666a55",
   "metadata": {},
   "outputs": [
    {
     "name": "stdout",
     "output_type": "stream",
     "text": [
      "False\n"
     ]
    }
   ],
   "source": [
    "r= 90\n",
    "g= 90.0\n",
    "print(g is r)"
   ]
  },
  {
   "cell_type": "code",
   "execution_count": 161,
   "id": "55738fa7-2e6c-425d-84b8-4afc3e3efe24",
   "metadata": {},
   "outputs": [
    {
     "name": "stdout",
     "output_type": "stream",
     "text": [
      "True\n"
     ]
    }
   ],
   "source": [
    "print(r is not g)"
   ]
  },
  {
   "cell_type": "code",
   "execution_count": 167,
   "id": "a25071f8-dcc0-4ef0-a4ab-09e1907701fa",
   "metadata": {},
   "outputs": [
    {
     "name": "stdout",
     "output_type": "stream",
     "text": [
      "False\n"
     ]
    }
   ],
   "source": [
    "a= 0.002\n",
    "b= 0.2\n",
    "print(b is a)"
   ]
  },
  {
   "cell_type": "code",
   "execution_count": 173,
   "id": "478ba510-44ad-4501-b2c4-35a5fc0b13e8",
   "metadata": {},
   "outputs": [
    {
     "name": "stdout",
     "output_type": "stream",
     "text": [
      "True\n"
     ]
    }
   ],
   "source": [
    "c= 90393208\n",
    "o= 679397\n",
    "print (o is not c)"
   ]
  },
  {
   "cell_type": "code",
   "execution_count": 175,
   "id": "04921324-62e9-448b-8ef1-6d9e6516d7be",
   "metadata": {},
   "outputs": [
    {
     "name": "stdout",
     "output_type": "stream",
     "text": [
      "False\n"
     ]
    }
   ],
   "source": [
    "f= 10\n",
    "r= -10\n",
    "print(r is f)"
   ]
  },
  {
   "cell_type": "markdown",
   "id": "160a2c62-304c-4d83-a139-0f5d0aaea19d",
   "metadata": {},
   "source": [
    "# f.Membership operator\n",
    "- They operator are used to check wheather a operand is found in a sequence or not\n",
    "- They are 2 operators in it ( in and not in) ."
   ]
  },
  {
   "cell_type": "code",
   "execution_count": 3,
   "id": "b54ad3b5-ab3e-4f6c-a37e-8b534713925c",
   "metadata": {},
   "outputs": [
    {
     "name": "stdout",
     "output_type": "stream",
     "text": [
      "False\n"
     ]
    }
   ],
   "source": [
    "#Examples of membership operators\n",
    "names= (' virat')\n",
    "print(' v 'in names)"
   ]
  },
  {
   "cell_type": "code",
   "execution_count": 9,
   "id": "562671cc-47eb-4fe6-a6c7-b9a3c6364647",
   "metadata": {},
   "outputs": [
    {
     "name": "stdout",
     "output_type": "stream",
     "text": [
      "True\n"
     ]
    }
   ],
   "source": [
    "a= 'idris'\n",
    "print('h' not in a)"
   ]
  },
  {
   "cell_type": "code",
   "execution_count": 11,
   "id": "6610f816-8875-445c-885e-bfd5c765d269",
   "metadata": {},
   "outputs": [
    {
     "name": "stdout",
     "output_type": "stream",
     "text": [
      "False\n"
     ]
    }
   ],
   "source": [
    "d= [12,23,45,67,894,432,]\n",
    "print(12 not in d )"
   ]
  },
  {
   "cell_type": "code",
   "execution_count": 13,
   "id": "f9d53994-d128-401b-80fd-001ad14e82cd",
   "metadata": {},
   "outputs": [
    {
     "name": "stdout",
     "output_type": "stream",
     "text": [
      "True\n"
     ]
    }
   ],
   "source": [
    "print(432 in d)"
   ]
  },
  {
   "cell_type": "code",
   "execution_count": 17,
   "id": "508e1d13-a5ed-412d-a137-1176f1fd352d",
   "metadata": {},
   "outputs": [
    {
     "name": "stdout",
     "output_type": "stream",
     "text": [
      "False\n"
     ]
    }
   ],
   "source": [
    "print(45 not in d)"
   ]
  },
  {
   "cell_type": "code",
   "execution_count": 20,
   "id": "c024f534-518d-4bb2-a0e2-6c69ded443ea",
   "metadata": {},
   "outputs": [
    {
     "name": "stdout",
     "output_type": "stream",
     "text": [
      "True\n"
     ]
    }
   ],
   "source": [
    " subject= \" data types\"\n",
    "print( \"t\" in subject)"
   ]
  },
  {
   "cell_type": "code",
   "execution_count": 24,
   "id": "f7e74fa9-8070-4916-b7a1-7cfaf19a7011",
   "metadata": {},
   "outputs": [
    {
     "name": "stdout",
     "output_type": "stream",
     "text": [
      "False\n"
     ]
    }
   ],
   "source": [
    "print(\"a\" not in subject)"
   ]
  },
  {
   "cell_type": "code",
   "execution_count": 26,
   "id": "cd861d95-12dc-430b-8ced-567e1b9e49d2",
   "metadata": {},
   "outputs": [
    {
     "name": "stdout",
     "output_type": "stream",
     "text": [
      "True\n"
     ]
    }
   ],
   "source": [
    "print(\" \" in subject)"
   ]
  },
  {
   "cell_type": "code",
   "execution_count": 28,
   "id": "0b97a7ef-e57b-4015-b866-22f0fdef2061",
   "metadata": {},
   "outputs": [
    {
     "name": "stdout",
     "output_type": "stream",
     "text": [
      "False\n"
     ]
    }
   ],
   "source": [
    "print(\" \" not in subject)"
   ]
  },
  {
   "cell_type": "code",
   "execution_count": 30,
   "id": "3ebf400c-7e69-45ba-9059-7dc1e49f22ff",
   "metadata": {},
   "outputs": [
    {
     "name": "stdout",
     "output_type": "stream",
     "text": [
      "True\n"
     ]
    }
   ],
   "source": [
    "print('data' in subject)"
   ]
  },
  {
   "cell_type": "code",
   "execution_count": null,
   "id": "efe2e830-6d4e-4df8-b158-b23486fe47ef",
   "metadata": {},
   "outputs": [],
   "source": []
  }
 ],
 "metadata": {
  "kernelspec": {
   "display_name": "Python 3 (ipykernel)",
   "language": "python",
   "name": "python3"
  },
  "language_info": {
   "codemirror_mode": {
    "name": "ipython",
    "version": 3
   },
   "file_extension": ".py",
   "mimetype": "text/x-python",
   "name": "python",
   "nbconvert_exporter": "python",
   "pygments_lexer": "ipython3",
   "version": "3.12.4"
  }
 },
 "nbformat": 4,
 "nbformat_minor": 5
}
