{
 "cells": [
  {
   "cell_type": "markdown",
   "id": "0ed16421-e587-4091-b175-e63e1bae927a",
   "metadata": {},
   "source": [
    "# 1. Explain the data types?\n",
    "In Python the data types are very essential for effective programming and they help in structuring the data and allows to perform various operations and they are essential in defining the variable.\n",
    "They are 2 types of data types they are:-\n",
    "1. Basic data types\n",
    "- 1.Numeric Types : int,float,complex.\n",
    "- 2.Boolean Type: bool(true or False).\n",
    "\n",
    "2. Advanced data types \n",
    "- 1.Sequence Types:strings,list, tuple.\n",
    "- 2.Mapping Types: dictionaries\n",
    "- 3.Set Types: set, frozen set.\n",
    "\n",
    "\n",
    "\n",
    "\n",
    "\n"
   ]
  },
  {
   "cell_type": "markdown",
   "id": "d91165fd-a583-4520-a531-c54bcbe31497",
   "metadata": {},
   "source": [
    "# 2. Explain about int with examples?\n",
    "- The word int represents  intergers and they are non fractional numbers like 1,2,56,-1.\n",
    "- Integers are whole numbers that can be positive , negative or zero.\n",
    "- They can have large values as there is no limit.\n",
    "  Examples of int are:-\n",
    "  - r= 2\n",
    "  - f=23\n",
    "  - s= -1\n",
    "  - a= -133\n",
    "  - w=12345566778889\n",
    "  - e= -2910993\n",
    "  - q=100\n",
    "  - v= 0\n",
    "  - b= 1\n",
    "  - h= -023"
   ]
  },
  {
   "cell_type": "code",
   "execution_count": 6,
   "id": "55dee456-743c-41b1-acce-ffa66368e433",
   "metadata": {},
   "outputs": [
    {
     "name": "stdout",
     "output_type": "stream",
     "text": [
      "<class 'int'>\n"
     ]
    }
   ],
   "source": [
    "a= -23\n",
    "print(type(a))"
   ]
  },
  {
   "cell_type": "markdown",
   "id": "8b4243e5-c949-4f0c-af3c-7eb4f72efe92",
   "metadata": {},
   "source": [
    "# 3.Explain about float with examples\n",
    "- A float is a numerical data type that represents  a number with a decimal point or exponent notation.\n",
    "- For example, the number 1.23 is a floating-point number with one digit before the decimal point and two digits after the decimal point.\n",
    "- They are also  whole numbers which can be positive or negative.\n",
    "examples of float are:-\n",
    "- d= 23.4\n",
    "- f= -3.4\n",
    "- v= 0.23\n",
    "- q= 1234.3445\n",
    "- b= -939.3\n",
    "- l= 2.346322\n",
    "- w= 1.1\n",
    "- r= 0.334545667778\n",
    "- m= -123.4456\n",
    "- o= 23/4"
   ]
  },
  {
   "cell_type": "code",
   "execution_count": 13,
   "id": "2df77da2-435e-49d2-bd98-f092c4c7f825",
   "metadata": {},
   "outputs": [
    {
     "name": "stdout",
     "output_type": "stream",
     "text": [
      "<class 'float'>\n"
     ]
    }
   ],
   "source": [
    "r= 23/5\n",
    "print(type(r))"
   ]
  },
  {
   "cell_type": "markdown",
   "id": "1a4cd8aa-f98f-4e5d-965d-f158c20b5ed8",
   "metadata": {},
   "source": [
    "# 4.Explain about complex with examples\n",
    "-  A complex number has a real part and an imaginary part, expressed in the form x + yj, where:\n",
    "x is the real part.\n",
    "y is the imaginary part.\n",
    "j is the imaginary unit (in Python, j is used instead of i).\n",
    "\n",
    " Examples of complex are:-\n",
    " - a= 2 - 3j\n",
    " - c=11+9i\n",
    " - p=123-30j\n",
    " - h= 0.2- 3i\n",
    " - q=12+18j\n",
    " - f=-2+9i\n",
    " - w=-2489+12j\n",
    " - o=614+7i\n",
    " - r=-2.89+123j\n",
    " - k=98-33i"
   ]
  },
  {
   "cell_type": "code",
   "execution_count": 19,
   "id": "f7890087-f919-4b30-95a0-ca344480a387",
   "metadata": {},
   "outputs": [
    {
     "name": "stdout",
     "output_type": "stream",
     "text": [
      "<class 'complex'>\n"
     ]
    }
   ],
   "source": [
    " n= 4 - 4j\n",
    "print(type(n))"
   ]
  },
  {
   "cell_type": "markdown",
   "id": "f5b5b3bc-d77d-46ad-9501-b3c8b555d427",
   "metadata": {},
   "source": [
    "# 5. Explain about boolean with examples.\n",
    "- Boolean is in bulit data type which shows only two vales i.e True or false.\n",
    "- True and false are denoted by the binary digits. 1 represnts true and 0 represents false\n",
    "Examples of bool are :-\n"
   ]
  },
  {
   "cell_type": "code",
   "execution_count": 3,
   "id": "09df3656-1fd0-4a82-90ea-14ea9af910c6",
   "metadata": {},
   "outputs": [
    {
     "name": "stdout",
     "output_type": "stream",
     "text": [
      "False\n"
     ]
    }
   ],
   "source": [
    "\n",
    "print(34<3)"
   ]
  },
  {
   "cell_type": "code",
   "execution_count": 5,
   "id": "321ab7da-cbc4-479b-99d5-16cc3bac16b1",
   "metadata": {},
   "outputs": [
    {
     "name": "stdout",
     "output_type": "stream",
     "text": [
      "False\n"
     ]
    }
   ],
   "source": [
    "print(0<-1)"
   ]
  },
  {
   "cell_type": "code",
   "execution_count": 7,
   "id": "d311c4c1-401e-4bef-85e1-a0eeafa75eed",
   "metadata": {},
   "outputs": [
    {
     "name": "stdout",
     "output_type": "stream",
     "text": [
      "True\n"
     ]
    }
   ],
   "source": [
    "print(0>-90)"
   ]
  },
  {
   "cell_type": "code",
   "execution_count": 11,
   "id": "6e51d231-4be0-4d04-a823-0d8ba7f39398",
   "metadata": {},
   "outputs": [
    {
     "name": "stdout",
     "output_type": "stream",
     "text": [
      "False\n"
     ]
    }
   ],
   "source": [
    "d= 30 ==34\n",
    "print(d)"
   ]
  },
  {
   "cell_type": "code",
   "execution_count": 13,
   "id": "47b2bd10-bab9-4910-b211-6b93caf88e8b",
   "metadata": {},
   "outputs": [
    {
     "name": "stdout",
     "output_type": "stream",
     "text": [
      "True\n"
     ]
    }
   ],
   "source": [
    "e= 20 !=356\n",
    "print(e)"
   ]
  },
  {
   "cell_type": "code",
   "execution_count": 15,
   "id": "499b67b3-e0ac-4c44-ae33-d231839f80dc",
   "metadata": {},
   "outputs": [
    {
     "name": "stdout",
     "output_type": "stream",
     "text": [
      "False\n"
     ]
    }
   ],
   "source": [
    "a= 0\n",
    "b=34\n",
    "c= a>b\n",
    "print(c)"
   ]
  },
  {
   "cell_type": "code",
   "execution_count": 17,
   "id": "cfe1ec9b-b894-4bb7-95cd-d9e5f52ba40d",
   "metadata": {},
   "outputs": [
    {
     "name": "stdout",
     "output_type": "stream",
     "text": [
      "False\n"
     ]
    }
   ],
   "source": [
    "x= -100>100\n",
    "print(x)"
   ]
  },
  {
   "cell_type": "code",
   "execution_count": 19,
   "id": "9573db40-966d-42dd-a335-95c1ac735ac6",
   "metadata": {},
   "outputs": [
    {
     "name": "stdout",
     "output_type": "stream",
     "text": [
      "True\n"
     ]
    }
   ],
   "source": [
    "f= 1==1\n",
    "print(f)"
   ]
  },
  {
   "cell_type": "code",
   "execution_count": 21,
   "id": "6ad4c10e-a3d7-4abb-aa42-659f1983629f",
   "metadata": {},
   "outputs": [
    {
     "name": "stdout",
     "output_type": "stream",
     "text": [
      "False\n"
     ]
    }
   ],
   "source": [
    "ram = 39\n",
    "rahul= 38\n",
    "print(ram <rahul)"
   ]
  },
  {
   "cell_type": "code",
   "execution_count": 37,
   "id": "9e6bf759-eac4-4d4c-81ee-9302fe791d54",
   "metadata": {},
   "outputs": [
    {
     "name": "stdout",
     "output_type": "stream",
     "text": [
      "True\n"
     ]
    }
   ],
   "source": [
    "b=23\n",
    "c=23\n",
    "print(b==c)"
   ]
  },
  {
   "cell_type": "markdown",
   "id": "6a8b0b22-d761-4eb1-bfbf-b211f7f5010f",
   "metadata": {},
   "source": [
    "# 6. Bool functions with examples."
   ]
  },
  {
   "cell_type": "code",
   "execution_count": 43,
   "id": "b221fad6-f16e-4dec-b875-2d82bd230c59",
   "metadata": {},
   "outputs": [
    {
     "data": {
      "text/plain": [
       "False"
      ]
     },
     "execution_count": 43,
     "metadata": {},
     "output_type": "execute_result"
    }
   ],
   "source": [
    "# bool function with examples\n",
    "bool(0)\n"
   ]
  },
  {
   "cell_type": "code",
   "execution_count": 45,
   "id": "37a0df59-4909-44d9-8f82-7b3410f23495",
   "metadata": {},
   "outputs": [
    {
     "data": {
      "text/plain": [
       "True"
      ]
     },
     "execution_count": 45,
     "metadata": {},
     "output_type": "execute_result"
    }
   ],
   "source": [
    "bool(-1)\n"
   ]
  },
  {
   "cell_type": "code",
   "execution_count": 47,
   "id": "c667aef5-a0be-4cca-b415-89ad53b36a31",
   "metadata": {},
   "outputs": [
    {
     "data": {
      "text/plain": [
       "True"
      ]
     },
     "execution_count": 47,
     "metadata": {},
     "output_type": "execute_result"
    }
   ],
   "source": [
    "bool(9)"
   ]
  },
  {
   "cell_type": "code",
   "execution_count": 49,
   "id": "44712c80-9c2f-4189-b8df-a89cf718f2c8",
   "metadata": {},
   "outputs": [
    {
     "data": {
      "text/plain": [
       "False"
      ]
     },
     "execution_count": 49,
     "metadata": {},
     "output_type": "execute_result"
    }
   ],
   "source": [
    "bool(0+0j)"
   ]
  },
  {
   "cell_type": "code",
   "execution_count": 51,
   "id": "f484071b-00d4-4ca9-8f00-6c805ee200b1",
   "metadata": {},
   "outputs": [
    {
     "data": {
      "text/plain": [
       "True"
      ]
     },
     "execution_count": 51,
     "metadata": {},
     "output_type": "execute_result"
    }
   ],
   "source": [
    "bool(0+ 9j)"
   ]
  },
  {
   "cell_type": "code",
   "execution_count": 53,
   "id": "fa40ad1e-dfe0-439a-bae1-f8ff7ee29d31",
   "metadata": {},
   "outputs": [
    {
     "data": {
      "text/plain": [
       "True"
      ]
     },
     "execution_count": 53,
     "metadata": {},
     "output_type": "execute_result"
    }
   ],
   "source": [
    "bool(100)"
   ]
  },
  {
   "cell_type": "code",
   "execution_count": 55,
   "id": "ebc6efeb-0383-4eff-9762-cedeae7a7283",
   "metadata": {},
   "outputs": [
    {
     "data": {
      "text/plain": [
       "False"
      ]
     },
     "execution_count": 55,
     "metadata": {},
     "output_type": "execute_result"
    }
   ],
   "source": [
    "bool()"
   ]
  },
  {
   "cell_type": "code",
   "execution_count": 57,
   "id": "00b489fb-4a83-4cf3-b9b9-48d50be9bfd7",
   "metadata": {},
   "outputs": [
    {
     "data": {
      "text/plain": [
       "True"
      ]
     },
     "execution_count": 57,
     "metadata": {},
     "output_type": "execute_result"
    }
   ],
   "source": [
    "bool(1)"
   ]
  },
  {
   "cell_type": "code",
   "execution_count": 59,
   "id": "539eda79-df4c-4038-9717-2e0e371a26aa",
   "metadata": {},
   "outputs": [
    {
     "data": {
      "text/plain": [
       "True"
      ]
     },
     "execution_count": 59,
     "metadata": {},
     "output_type": "execute_result"
    }
   ],
   "source": [
    "bool(45.34)"
   ]
  },
  {
   "cell_type": "code",
   "execution_count": 61,
   "id": "e091680e-aa4d-4844-a519-a5d8524d1e25",
   "metadata": {},
   "outputs": [
    {
     "data": {
      "text/plain": [
       "True"
      ]
     },
     "execution_count": 61,
     "metadata": {},
     "output_type": "execute_result"
    }
   ],
   "source": [
    "bool(0.2)"
   ]
  },
  {
   "cell_type": "markdown",
   "id": "b620867a-238b-44d6-9431-dabf9a9ef7b7",
   "metadata": {},
   "source": [
    "# 7. Type casting\n",
    "- It means the conversion of one data type to another like int to float etc\n",
    "- examples of type casting:-"
   ]
  },
  {
   "cell_type": "code",
   "execution_count": 70,
   "id": "c9d06852-9931-45b3-b2ad-0018ff291048",
   "metadata": {},
   "outputs": [
    {
     "name": "stdout",
     "output_type": "stream",
     "text": [
      "34.0\n"
     ]
    }
   ],
   "source": [
    "# int to float\n",
    "a= 34\n",
    "print(float(a))\n"
   ]
  },
  {
   "cell_type": "code",
   "execution_count": 72,
   "id": "fae86250-08d2-4913-afd7-78d943a43117",
   "metadata": {},
   "outputs": [
    {
     "name": "stdout",
     "output_type": "stream",
     "text": [
      "3440349.0\n"
     ]
    }
   ],
   "source": [
    "d= 3440349\n",
    "print(float(d))"
   ]
  },
  {
   "cell_type": "code",
   "execution_count": 74,
   "id": "a4666c99-d558-469b-8c40-2292ed50f89c",
   "metadata": {},
   "outputs": [
    {
     "name": "stdout",
     "output_type": "stream",
     "text": [
      "-234.0\n"
     ]
    }
   ],
   "source": [
    "f= -234\n",
    "print(float(f))"
   ]
  },
  {
   "cell_type": "code",
   "execution_count": 78,
   "id": "441e6b70-31c2-4aa3-9582-801248daabcb",
   "metadata": {},
   "outputs": [
    {
     "name": "stdout",
     "output_type": "stream",
     "text": [
      "0.0\n"
     ]
    }
   ],
   "source": [
    "g= 0\n",
    "print(float(g))"
   ]
  },
  {
   "cell_type": "code",
   "execution_count": 80,
   "id": "96afc385-c9b4-46d8-9f42-ba4cf815079e",
   "metadata": {},
   "outputs": [
    {
     "name": "stdout",
     "output_type": "stream",
     "text": [
      "1.0\n"
     ]
    }
   ],
   "source": [
    "q= 1\n",
    "print(float(q))"
   ]
  },
  {
   "cell_type": "code",
   "execution_count": 82,
   "id": "4b082b2e-1383-4fe2-911c-37fa50259c2d",
   "metadata": {},
   "outputs": [
    {
     "name": "stdout",
     "output_type": "stream",
     "text": [
      "(456+0j)\n"
     ]
    }
   ],
   "source": [
    "# int to complex\n",
    "a= 456\n",
    "print(complex(a))"
   ]
  },
  {
   "cell_type": "code",
   "execution_count": 84,
   "id": "1aa3308d-bf7d-4aa4-a7f4-6d763864fc31",
   "metadata": {},
   "outputs": [
    {
     "name": "stdout",
     "output_type": "stream",
     "text": [
      "(3+4j)\n"
     ]
    }
   ],
   "source": [
    "a=3\n",
    "b= 4\n",
    "print(complex(a,b))"
   ]
  },
  {
   "cell_type": "code",
   "execution_count": 86,
   "id": "c460c0a4-977f-4717-b464-f63b482cea31",
   "metadata": {},
   "outputs": [
    {
     "name": "stdout",
     "output_type": "stream",
     "text": [
      "(839483-1j)\n"
     ]
    }
   ],
   "source": [
    "x= 839483\n",
    "b=-1\n",
    "print(complex(x,b))"
   ]
  },
  {
   "cell_type": "code",
   "execution_count": 88,
   "id": "3086d624-cd97-4636-898f-c27cfc71c009",
   "metadata": {},
   "outputs": [
    {
     "name": "stdout",
     "output_type": "stream",
     "text": [
      "(-2309+0j)\n"
     ]
    }
   ],
   "source": [
    "f= -2309\n",
    "print(complex(f))"
   ]
  },
  {
   "cell_type": "code",
   "execution_count": 90,
   "id": "a3d91761-b633-4edc-9bef-3ff0d72768a4",
   "metadata": {},
   "outputs": [
    {
     "name": "stdout",
     "output_type": "stream",
     "text": [
      "0j\n"
     ]
    }
   ],
   "source": [
    "z=0\n",
    "print(complex(z))"
   ]
  },
  {
   "cell_type": "code",
   "execution_count": 92,
   "id": "055f378f-0ec5-447c-bfd4-8d654c974204",
   "metadata": {},
   "outputs": [
    {
     "name": "stdout",
     "output_type": "stream",
     "text": [
      "223\n"
     ]
    }
   ],
   "source": [
    "#float to int\n",
    "a= 223.3\n",
    "print(int(a))"
   ]
  },
  {
   "cell_type": "code",
   "execution_count": 94,
   "id": "36e6bbe8-6d32-45ce-b56c-080281cfa757",
   "metadata": {},
   "outputs": [
    {
     "name": "stdout",
     "output_type": "stream",
     "text": [
      "0\n"
     ]
    }
   ],
   "source": [
    "b= 0.373733982\n",
    "print(int(b))"
   ]
  },
  {
   "cell_type": "code",
   "execution_count": 96,
   "id": "f4d4b3bc-7a7c-452f-bf52-cbe839a65c22",
   "metadata": {},
   "outputs": [
    {
     "name": "stdout",
     "output_type": "stream",
     "text": [
      "-23\n"
     ]
    }
   ],
   "source": [
    "h= -23.396793\n",
    "print(int(h))"
   ]
  },
  {
   "cell_type": "code",
   "execution_count": 98,
   "id": "79fd993d-5e4d-4d20-9275-eeb5683d4818",
   "metadata": {},
   "outputs": [
    {
     "name": "stdout",
     "output_type": "stream",
     "text": [
      "0\n"
     ]
    }
   ],
   "source": [
    "c= 0.0\n",
    "print(int(c))"
   ]
  },
  {
   "cell_type": "code",
   "execution_count": 100,
   "id": "dd1601fb-d1d9-4643-afcf-55d5afe5edc2",
   "metadata": {},
   "outputs": [
    {
     "name": "stdout",
     "output_type": "stream",
     "text": [
      "9\n"
     ]
    }
   ],
   "source": [
    "s= 09.02\n",
    "print(int(s))"
   ]
  },
  {
   "cell_type": "code",
   "execution_count": 102,
   "id": "4ebf240c-5352-4341-9045-ba8ee434ac87",
   "metadata": {},
   "outputs": [
    {
     "name": "stdout",
     "output_type": "stream",
     "text": [
      "(45.04+1.1j)\n"
     ]
    }
   ],
   "source": [
    "#float to complex\n",
    "a= 45.04\n",
    "b=1.1\n",
    "print(complex(a,b))"
   ]
  },
  {
   "cell_type": "code",
   "execution_count": 104,
   "id": "cf07ef0e-ada6-4fa8-87d8-67d018913eea",
   "metadata": {},
   "outputs": [
    {
     "name": "stdout",
     "output_type": "stream",
     "text": [
      "(45.33+0j)\n"
     ]
    }
   ],
   "source": [
    "r= 45.33\n",
    "print(complex(r))"
   ]
  },
  {
   "cell_type": "code",
   "execution_count": 108,
   "id": "e64d8b3a-5e74-42b2-ad5e-7418f0b3c4d7",
   "metadata": {},
   "outputs": [
    {
     "name": "stdout",
     "output_type": "stream",
     "text": [
      "(90.1+0j)\n"
     ]
    }
   ],
   "source": [
    "x=90.1\n",
    "print(complex(x))"
   ]
  },
  {
   "cell_type": "code",
   "execution_count": 110,
   "id": "438bd7ce-1c41-4481-a696-13aa7715a6c9",
   "metadata": {},
   "outputs": [
    {
     "name": "stdout",
     "output_type": "stream",
     "text": [
      "(34.04+90.89j)\n"
     ]
    }
   ],
   "source": [
    "p= 34.04\n",
    "c= 90.89\n",
    "print(complex(p,c))"
   ]
  },
  {
   "cell_type": "code",
   "execution_count": 114,
   "id": "88d6173b-2651-40a7-9644-309e032b3fbb",
   "metadata": {},
   "outputs": [
    {
     "name": "stdout",
     "output_type": "stream",
     "text": [
      "(-29.4+0.3j)\n"
     ]
    }
   ],
   "source": [
    "a= -29.4\n",
    "b= 0.3\n",
    "print(complex(a,b))"
   ]
  },
  {
   "cell_type": "code",
   "execution_count": null,
   "id": "7cc487de-cea5-41bd-80d7-c32c05f5aacd",
   "metadata": {},
   "outputs": [],
   "source": []
  }
 ],
 "metadata": {
  "kernelspec": {
   "display_name": "Python 3 (ipykernel)",
   "language": "python",
   "name": "python3"
  },
  "language_info": {
   "codemirror_mode": {
    "name": "ipython",
    "version": 3
   },
   "file_extension": ".py",
   "mimetype": "text/x-python",
   "name": "python",
   "nbconvert_exporter": "python",
   "pygments_lexer": "ipython3",
   "version": "3.12.4"
  }
 },
 "nbformat": 4,
 "nbformat_minor": 5
}
