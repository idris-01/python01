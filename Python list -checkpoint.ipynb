{
 "cells": [
  {
   "cell_type": "markdown",
   "id": "c7f7485d-b9fe-4dfe-bb75-68064ea55760",
   "metadata": {},
   "source": [
    "# 1. Define about list.\n",
    "- List are items collected from any data type which are ordered.\n",
    "- They arer mutable( modified)so we can change , add, remove items from the list.\n",
    "- Lists are denoted my square brackets[].\n",
    "- They also allow dublicate items in the list. "
   ]
  },
  {
   "cell_type": "markdown",
   "id": "f0a1f165-37cb-4fc2-812a-434b1b637d21",
   "metadata": {},
   "source": [
    "# 2.Create 10 examples storing different data types.\n",
    "- a= [1,2,3] # int\n",
    "- data= [23.4,56,89.5] # int and float\n",
    "- x= [56.6,5.48,9.7,1.2 ]# float\n",
    "- d= [23+2j,4-3j,234-0j] # complex\n",
    "- a=[2>3,4<5,34>9,31!=2,2<=1] # Boolean\n",
    "- age=[ 12,45,34,34] # numberlist\n",
    "- All=[ 1,45.3,2+2j] # complex,float, int\n",
    "- food=[ 'chicken','fish','mutton'] #nameslist\n",
    "- mixed=[12,45,90,\"tea\",4,\"coffee\"] # mixed list\n",
    "- lst=[ 1,2,3,4,5,2,3,1,7] #list\n"
   ]
  },
  {
   "cell_type": "markdown",
   "id": "2fc6c77b-9843-4a92-a23b-9ea5831b4fe4",
   "metadata": {},
   "source": [
    "# 3.Create 15 elements list and you need to accsess each and every  element using indexing both positive and negative\n"
   ]
  },
  {
   "cell_type": "code",
   "execution_count": 10,
   "id": "2704a277-94e4-4e16-8e1c-fb76d78dc69c",
   "metadata": {},
   "outputs": [
    {
     "name": "stdout",
     "output_type": "stream",
     "text": [
      "27\n",
      "62\n"
     ]
    }
   ],
   "source": [
    "age=[ 27,4,15,69,7,38,9,20,34,54,91,32,1,19,62]\n",
    "print(age[0])\n",
    "print(age[-1])"
   ]
  },
  {
   "cell_type": "code",
   "execution_count": 12,
   "id": "028a2d70-0d6a-4950-b606-607fce9545f4",
   "metadata": {},
   "outputs": [
    {
     "name": "stdout",
     "output_type": "stream",
     "text": [
      "4\n",
      "19\n"
     ]
    }
   ],
   "source": [
    "print(age[1])\n",
    "print(age[-2])"
   ]
  },
  {
   "cell_type": "code",
   "execution_count": 14,
   "id": "1318d3ff-3f92-4742-bf2a-2bc3d97b2c8d",
   "metadata": {},
   "outputs": [
    {
     "name": "stdout",
     "output_type": "stream",
     "text": [
      "15\n",
      "1\n"
     ]
    }
   ],
   "source": [
    "print(age[2])\n",
    "print(age[-3])"
   ]
  },
  {
   "cell_type": "code",
   "execution_count": 16,
   "id": "84cc02e5-3804-4f56-b35f-10a5e2591cb0",
   "metadata": {},
   "outputs": [
    {
     "name": "stdout",
     "output_type": "stream",
     "text": [
      "69\n",
      "32\n"
     ]
    }
   ],
   "source": [
    "print(age[3])\n",
    "print(age[-4])"
   ]
  },
  {
   "cell_type": "code",
   "execution_count": 18,
   "id": "a87df6bc-3509-4d40-a186-5c19c4c0ea58",
   "metadata": {},
   "outputs": [
    {
     "name": "stdout",
     "output_type": "stream",
     "text": [
      "7\n",
      "91\n"
     ]
    }
   ],
   "source": [
    "print(age[4])\n",
    "print(age[-5])"
   ]
  },
  {
   "cell_type": "code",
   "execution_count": 20,
   "id": "45fa22e1-404d-4ce0-a103-7ae4ef3bcf58",
   "metadata": {},
   "outputs": [
    {
     "name": "stdout",
     "output_type": "stream",
     "text": [
      "38\n",
      "54\n"
     ]
    }
   ],
   "source": [
    "print(age[5])\n",
    "print(age[-6])"
   ]
  },
  {
   "cell_type": "code",
   "execution_count": 22,
   "id": "5a4320f1-cee1-4587-98aa-b300bce64033",
   "metadata": {},
   "outputs": [
    {
     "name": "stdout",
     "output_type": "stream",
     "text": [
      "9\n",
      "34\n"
     ]
    }
   ],
   "source": [
    "print(age[6])\n",
    "print(age[-7])"
   ]
  },
  {
   "cell_type": "code",
   "execution_count": 24,
   "id": "98af4d8f-8e7d-4fba-8726-6aeb1644c5a6",
   "metadata": {},
   "outputs": [
    {
     "name": "stdout",
     "output_type": "stream",
     "text": [
      "20\n",
      "20\n"
     ]
    }
   ],
   "source": [
    "print(age[7])\n",
    "print(age[-8])"
   ]
  },
  {
   "cell_type": "code",
   "execution_count": 28,
   "id": "8d213723-666b-423b-980e-0d168efad132",
   "metadata": {},
   "outputs": [
    {
     "name": "stdout",
     "output_type": "stream",
     "text": [
      "34\n",
      "9\n"
     ]
    }
   ],
   "source": [
    "print(age[8])\n",
    "print(age[-9])"
   ]
  },
  {
   "cell_type": "code",
   "execution_count": 30,
   "id": "c5ae378a-9143-4bb4-81ba-a33266751b1b",
   "metadata": {},
   "outputs": [
    {
     "name": "stdout",
     "output_type": "stream",
     "text": [
      "54\n",
      "38\n"
     ]
    }
   ],
   "source": [
    "print(age[9])\n",
    "print(age[-10])"
   ]
  },
  {
   "cell_type": "code",
   "execution_count": 32,
   "id": "a71389c3-8689-43a5-b252-0b3c5b40d5a3",
   "metadata": {},
   "outputs": [
    {
     "name": "stdout",
     "output_type": "stream",
     "text": [
      "91\n",
      "7\n"
     ]
    }
   ],
   "source": [
    "print(age[10])\n",
    "print(age[-11])"
   ]
  },
  {
   "cell_type": "code",
   "execution_count": 36,
   "id": "27bbb859-efd1-4a8d-b7ee-2f5e2e3cbc72",
   "metadata": {},
   "outputs": [
    {
     "name": "stdout",
     "output_type": "stream",
     "text": [
      "32\n",
      "69\n"
     ]
    }
   ],
   "source": [
    "print(age[11])\n",
    "print(age[-12])"
   ]
  },
  {
   "cell_type": "code",
   "execution_count": 38,
   "id": "d401800d-6017-49ed-b664-e099b634580e",
   "metadata": {},
   "outputs": [
    {
     "name": "stdout",
     "output_type": "stream",
     "text": [
      "1\n",
      "15\n"
     ]
    }
   ],
   "source": [
    "print(age[12])\n",
    "print(age[-13])"
   ]
  },
  {
   "cell_type": "code",
   "execution_count": 40,
   "id": "ef02b851-0a2d-4e9d-a6f0-e3079228a0ab",
   "metadata": {},
   "outputs": [
    {
     "name": "stdout",
     "output_type": "stream",
     "text": [
      "19\n",
      "4\n"
     ]
    }
   ],
   "source": [
    "print(age[13])\n",
    "print(age[-14])"
   ]
  },
  {
   "cell_type": "code",
   "execution_count": 16,
   "id": "0788ecb4-5a75-4534-9ccc-131a7fdc6dd1",
   "metadata": {},
   "outputs": [
    {
     "name": "stdout",
     "output_type": "stream",
     "text": [
      "62\n",
      "27\n"
     ]
    }
   ],
   "source": [
    "print(age[14])\n",
    "print(age[-15])"
   ]
  },
  {
   "cell_type": "markdown",
   "id": "487ee891-b3b3-451d-b1e0-308f6a55a202",
   "metadata": {},
   "source": [
    "# 3. Slicing both positive and negative"
   ]
  },
  {
   "cell_type": "code",
   "execution_count": 71,
   "id": "38a47f81-47c1-4828-94ad-eec11d434e8a",
   "metadata": {},
   "outputs": [
    {
     "name": "stdout",
     "output_type": "stream",
     "text": [
      "[15, 69, 7, 38, 9, 20, 34, 54, 91]\n",
      "[27, 4, 15, 69, 7]\n",
      "[69, 7, 38, 9, 20, 34, 54]\n",
      "[4, 15, 69, 7, 38, 9, 20]\n",
      "[27, 4, 15, 69, 7, 38, 9, 20, 34, 54, 91, 32, 1, 19, 62]\n"
     ]
    }
   ],
   "source": [
    "#positive slicing and negative indexing\n",
    "age=[ 27,4,15,69,7,38,9,20,34,54,91,32,1,19,62]\n",
    "print(age[2:11])\n",
    "print(age[0:5])\n",
    "print(age[3:10])\n",
    "print(age[1:8])\n",
    "print(age[:15])\n",
    "\n",
    "\n",
    "\n"
   ]
  },
  {
   "cell_type": "code",
   "execution_count": 77,
   "id": "2811885a-e26a-457c-bf20-14a514298889",
   "metadata": {},
   "outputs": [
    {
     "name": "stdout",
     "output_type": "stream",
     "text": [
      "[54, 91, 32, 1, 19]\n",
      "[27, 4, 15, 69, 7, 38, 9, 20, 34, 54, 91, 32, 1, 19]\n",
      "[7, 38, 9, 20, 34, 54]\n",
      "[27, 4, 15, 69]\n",
      "[9, 20, 34, 54, 91]\n"
     ]
    }
   ],
   "source": [
    "age=[ 27,4,15,69,7,38,9,20,34,54,91,32,1,19,62]\n",
    "print(age[-6:-1])\n",
    "print(age[:-1])\n",
    "print(age[-11:-5])\n",
    "print(age[-15:-11])\n",
    "print(age[-9:-4])\n",
    "\n"
   ]
  },
  {
   "cell_type": "markdown",
   "id": "46f9c2ca-6b14-4249-8778-e1cffa2d62c9",
   "metadata": {},
   "source": [
    "# 4. Concatenating 5 lists"
   ]
  },
  {
   "cell_type": "code",
   "execution_count": 93,
   "id": "a4d8b747-ee43-4bd9-8985-a7218acb71c8",
   "metadata": {},
   "outputs": [
    {
     "name": "stdout",
     "output_type": "stream",
     "text": [
      "[12, 45, 34, 34, 5.3, (2+2j), 'chicken', 'fish', 'mutton', 12, 45, 90, 'tea', 4, 'coffee', 1, 2, 3, 4, 5, 2, 3, 1, 7]\n",
      "[12, 45, 34, 34, 1, 2, 3, 4, 5, 2, 3, 1, 7]\n",
      "[5.3, (2+2j), 'chicken', 'fish', 'mutton', 12, 45, 90, 'tea', 4, 'coffee']\n",
      "[1, 2, 3, 4, 5, 2, 3, 1, 7, 12, 45, 34, 34]\n"
     ]
    }
   ],
   "source": [
    "age=[ 12,45,34,34]\n",
    "All= [5.3,2+2j] \n",
    "food=[ 'chicken','fish','mutton'] \n",
    "mixed=[12,45,90,\"tea\",4,\"coffee\"] \n",
    "lst=[ 1,2,3,4,5,2,3,1,7] \n",
    "whole_list =age+All+food+mixed+lst\n",
    "a= age+lst\n",
    "x= All+food+mixed\n",
    "y= lst+ age\n",
    "print(whole_list)\n",
    "print(a)\n",
    "print(x)\n",
    "print(y)"
   ]
  },
  {
   "cell_type": "markdown",
   "id": "e4bee008-09c6-4bf6-88c0-2dbd7fdbf992",
   "metadata": {},
   "source": [
    "# 5.Repetetion of 5 lists"
   ]
  },
  {
   "cell_type": "code",
   "execution_count": 54,
   "id": "e967188f-46fe-4158-9c61-2a00c974656f",
   "metadata": {},
   "outputs": [
    {
     "name": "stdout",
     "output_type": "stream",
     "text": [
      "['chicken', 'fish', 'mutton', 'chicken', 'fish', 'mutton']\n"
     ]
    }
   ],
   "source": [
    "food=[ 'chicken','fish','mutton'] \n",
    "\n",
    "rep_list=food*2\n",
    "print(rep_list)"
   ]
  },
  {
   "cell_type": "code",
   "execution_count": 56,
   "id": "d4aac294-1504-4b94-89f5-519ca643e0d1",
   "metadata": {},
   "outputs": [
    {
     "name": "stdout",
     "output_type": "stream",
     "text": [
      "[12, 45, 90, 'tea', 4, 'coffee', 12, 45, 90, 'tea', 4, 'coffee', 12, 45, 90, 'tea', 4, 'coffee']\n"
     ]
    }
   ],
   "source": [
    "mixed=[12,45,90,\"tea\",4,\"coffee\"] \n",
    "rep_list= mixed*3\n",
    "print(rep_list)"
   ]
  },
  {
   "cell_type": "code",
   "execution_count": 58,
   "id": "c97ceb73-7ba5-4835-a696-3d0356ca1135",
   "metadata": {},
   "outputs": [
    {
     "name": "stdout",
     "output_type": "stream",
     "text": [
      "[(23+2j), (4-3j), (234+0j), (23+2j), (4-3j), (234+0j), (23+2j), (4-3j), (234+0j), (23+2j), (4-3j), (234+0j)]\n"
     ]
    }
   ],
   "source": [
    "d= [23+2j,4-3j,234-0j] \n",
    "rep_list= d*4\n",
    "print(rep_list)"
   ]
  },
  {
   "cell_type": "code",
   "execution_count": 60,
   "id": "4c560fe0-97f1-4fc5-b12f-e057e6277f90",
   "metadata": {},
   "outputs": [
    {
     "name": "stdout",
     "output_type": "stream",
     "text": [
      "[23.4, 56, 89.5, 23.4, 56, 89.5, 23.4, 56, 89.5, 23.4, 56, 89.5, 23.4, 56, 89.5]\n"
     ]
    }
   ],
   "source": [
    "data= [23.4,56,89.5] \n",
    "rep_list= data*5\n",
    "print(rep_list)"
   ]
  },
  {
   "cell_type": "code",
   "execution_count": 62,
   "id": "2a2bae6a-56eb-4a09-bc1d-e94131a8e69f",
   "metadata": {},
   "outputs": [
    {
     "name": "stdout",
     "output_type": "stream",
     "text": [
      "[1, 2, 3, 1, 2, 3, 1, 2, 3, 1, 2, 3, 1, 2, 3, 1, 2, 3, 1, 2, 3]\n"
     ]
    }
   ],
   "source": [
    "a= [1,2,3]\n",
    "rep_list= a*7\n",
    "print(rep_list)"
   ]
  },
  {
   "cell_type": "markdown",
   "id": "055a8f3e-1789-47ff-9862-b4f762d966b1",
   "metadata": {},
   "source": [
    "# 6.Modify 5 elements in the list"
   ]
  },
  {
   "cell_type": "code",
   "execution_count": 69,
   "id": "0a7e4806-2e2a-4e98-88b8-4242b938e2d9",
   "metadata": {},
   "outputs": [
    {
     "name": "stdout",
     "output_type": "stream",
     "text": [
      "[27, 4, 'alive', 69, 7, 38, 'hero', 20, 'young', 54, 91, 32, 'infant', 19, 'dead']\n"
     ]
    }
   ],
   "source": [
    "age=[ 27,4,15,69,7,38,9,20,34,54,91,32,1,19,62]\n",
    "age[2]=\"alive\"\n",
    "age[-1]= \"dead\"\n",
    "age[6]= \"hero\"\n",
    "age[-3]= \"infant\"\n",
    "age[8]=\"young\"\n",
    "print(age)"
   ]
  },
  {
   "cell_type": "code",
   "execution_count": 79,
   "id": "59c22310-2128-44d2-b279-ed098c48478f",
   "metadata": {},
   "outputs": [
    {
     "name": "stdout",
     "output_type": "stream",
     "text": [
      "[27, 4, 0.2, 0.6, 90, 10.2, 0.1, 9, 20, 34, 54, 91, 32, 1, 19, 62]\n"
     ]
    }
   ],
   "source": [
    "age=[ 27,4,15,69,7,38,9,20,34,54,91,32,1,19,62]\n",
    "age[2:6]=[0.2,0.6,90,10.2,0.1]\n",
    "print(age)"
   ]
  },
  {
   "cell_type": "markdown",
   "id": "4d8f14f3-790f-4973-b643-6e10ba834cd2",
   "metadata": {},
   "source": [
    "# 7.Methods in list."
   ]
  },
  {
   "cell_type": "markdown",
   "id": "b83d17d0-b87b-4bbc-9597-d8def89b487d",
   "metadata": {},
   "source": [
    "1.Append\n",
    "- It adds the other element in  the existing list.\n",
    "example:-"
   ]
  },
  {
   "cell_type": "code",
   "execution_count": 108,
   "id": "5f28899a-1147-4fec-a694-0e7071c75c83",
   "metadata": {},
   "outputs": [
    {
     "name": "stdout",
     "output_type": "stream",
     "text": [
      "[32, 29, 42, 54, 67]\n"
     ]
    }
   ],
   "source": [
    "list = [32,29,42,54]\n",
    "list.append(67)\n",
    "print(list)"
   ]
  },
  {
   "cell_type": "markdown",
   "id": "ff1cc768-fc0f-4f8f-8f51-f674a08b5731",
   "metadata": {},
   "source": [
    "2.Extend\n",
    "- It can add multiple list in the end of the list.\n",
    "example :-"
   ]
  },
  {
   "cell_type": "code",
   "execution_count": 16,
   "id": "aab4f342-47ed-4a7d-bfdb-fbe05e209906",
   "metadata": {},
   "outputs": [
    {
     "name": "stdout",
     "output_type": "stream",
     "text": [
      "['a', 'r', 'w', 'r', 23.78, 3, 21, 99]\n"
     ]
    }
   ],
   "source": [
    "map=['a','r','w','r']\n",
    "cap=[ 23.78,3,21,99]\n",
    "map.extend(cap)\n",
    "print(map)"
   ]
  },
  {
   "cell_type": "markdown",
   "id": "4cc07f2d-daee-4397-84f5-634c6fdcdfd6",
   "metadata": {},
   "source": [
    "3.insert\n",
    "- we can insert a variable in a specific position."
   ]
  },
  {
   "cell_type": "code",
   "execution_count": 21,
   "id": "6cc92f31-a249-409a-977c-aff84ced0be2",
   "metadata": {},
   "outputs": [
    {
     "name": "stdout",
     "output_type": "stream",
     "text": [
      "[22, 44, 100, 66, 88]\n"
     ]
    }
   ],
   "source": [
    "#example\n",
    "num= [ 22,44,66,88]\n",
    "num.insert(2,100)\n",
    "print(num)"
   ]
  },
  {
   "cell_type": "markdown",
   "id": "08077374-d4cb-44de-8f87-925335053eab",
   "metadata": {},
   "source": [
    "4.remove\n",
    "- we can remove which ever value we want from  the list."
   ]
  },
  {
   "cell_type": "code",
   "execution_count": 24,
   "id": "4c935d09-2cea-4712-9a8f-4da3d6ca6597",
   "metadata": {},
   "outputs": [
    {
     "name": "stdout",
     "output_type": "stream",
     "text": [
      "['abc', 'dcf', 'hgf', 'nqm']\n"
     ]
    }
   ],
   "source": [
    "#example\n",
    "alpha=['abc','dcf','hgf','kla', 'nqm']\n",
    "alpha.remove('kla')\n",
    "print(alpha)"
   ]
  },
  {
   "cell_type": "markdown",
   "id": "f68ed36d-e0e5-441a-b223-2b1b43f92b09",
   "metadata": {},
   "source": [
    "5.pop\n",
    "- pop helps in removing  a specific value from the list or pops the specific value."
   ]
  },
  {
   "cell_type": "code",
   "execution_count": 29,
   "id": "e3416264-0fb1-4c6e-af27-9555b562ad7e",
   "metadata": {},
   "outputs": [
    {
     "name": "stdout",
     "output_type": "stream",
     "text": [
      "[1, 2, 4, 5, 7, 8, 4, 3, 5, 8, 5, 3, 5]\n"
     ]
    }
   ],
   "source": [
    "#example\n",
    "a=[1,2,4,5,7,8,4,3,5,7,8,5,3,5]\n",
    "a.pop(-5)\n",
    "print(a)"
   ]
  },
  {
   "cell_type": "markdown",
   "id": "baa536c2-fee2-46bc-9717-192cfda9ac5a",
   "metadata": {},
   "source": [
    "6.index\n",
    "- It identifies the value of a element and they are positive and negative indexing."
   ]
  },
  {
   "cell_type": "code",
   "execution_count": 36,
   "id": "b4de6db9-f3fc-46c8-8eff-90459fd44498",
   "metadata": {},
   "outputs": [
    {
     "data": {
      "text/plain": [
       "3"
      ]
     },
     "execution_count": 36,
     "metadata": {},
     "output_type": "execute_result"
    }
   ],
   "source": [
    "#example\n",
    "ind=['ram', 'rahul', 'ramnm', 'idris', 'anvi']\n",
    "ind.index('idris')\n"
   ]
  },
  {
   "cell_type": "markdown",
   "id": "2e678a98-2f2c-4e74-9b15-989dee112c9b",
   "metadata": {},
   "source": [
    "7.count\n",
    "- It gives the number of occurances presnet in the list of a specific value."
   ]
  },
  {
   "cell_type": "code",
   "execution_count": 39,
   "id": "4babc88b-a7fa-4777-bda5-db443d5b3165",
   "metadata": {},
   "outputs": [
    {
     "data": {
      "text/plain": [
       "2"
      ]
     },
     "execution_count": 39,
     "metadata": {},
     "output_type": "execute_result"
    }
   ],
   "source": [
    "#example\n",
    "a=[1,2,4,5,7,8,4,3,5,7,8,5,3,5]\n",
    "a.count(3)\n"
   ]
  },
  {
   "cell_type": "markdown",
   "id": "4f1825ec-8782-494b-a907-f55aab55edb7",
   "metadata": {},
   "source": [
    "8.sort\n",
    "- sorts the list in ascending order."
   ]
  },
  {
   "cell_type": "code",
   "execution_count": 50,
   "id": "37d18d81-058a-45b7-9857-dfe2f007691a",
   "metadata": {},
   "outputs": [
    {
     "name": "stdout",
     "output_type": "stream",
     "text": [
      "['Dcf', 'Hgf', 'abc', 'kla', 'nQm']\n"
     ]
    }
   ],
   "source": [
    "#example\n",
    "alpha=['abc','Dcf','Hgf','kla', 'nQm']\n",
    "alpha.sort()\n",
    "print(alpha)"
   ]
  },
  {
   "cell_type": "markdown",
   "id": "cee19e3a-899f-4885-9196-80518d2ecf0a",
   "metadata": {},
   "source": [
    "9.reverse\n",
    "- It just reverses the order from back to front."
   ]
  },
  {
   "cell_type": "code",
   "execution_count": 55,
   "id": "6015a8ab-cb9f-4327-9dd1-c2aca2f481c7",
   "metadata": {},
   "outputs": [
    {
     "name": "stdout",
     "output_type": "stream",
     "text": [
      "[99, 21, 3, 23.78]\n"
     ]
    }
   ],
   "source": [
    "#example\n",
    "cap=[ 23.78,3,21,99]\n",
    "cap.reverse()\n",
    "print(cap)"
   ]
  },
  {
   "cell_type": "markdown",
   "id": "58d9b9f3-0e69-4205-9227-ac499d662808",
   "metadata": {},
   "source": [
    "10.copy\n",
    "- It returns the copy of the list."
   ]
  },
  {
   "cell_type": "code",
   "execution_count": 62,
   "id": "32f19783-f5c8-4ae1-b947-4c1279ecf719",
   "metadata": {},
   "outputs": [
    {
     "name": "stdout",
     "output_type": "stream",
     "text": [
      "['chicken', 'fish', 'mutton']\n"
     ]
    }
   ],
   "source": [
    "#example\n",
    "food=[ 'chicken','fish','mutton'] \n",
    "food.copy()\n",
    "print(food)"
   ]
  },
  {
   "cell_type": "markdown",
   "id": "0450f267-8e34-45de-bc37-34946431599d",
   "metadata": {},
   "source": [
    "11.clear\n",
    "- It removes all the elements from the list."
   ]
  },
  {
   "cell_type": "code",
   "execution_count": 67,
   "id": "40794b6b-57dd-47b5-8c85-72a8f20a8be9",
   "metadata": {},
   "outputs": [
    {
     "name": "stdout",
     "output_type": "stream",
     "text": [
      "[]\n"
     ]
    }
   ],
   "source": [
    "#example\n",
    "lst=[ 1,2,3,4,5,2,3,1,7] \n",
    "lst.clear()\n",
    "print(lst)"
   ]
  },
  {
   "cell_type": "markdown",
   "id": "fa83f531-2813-49b4-96cb-7c034cb45a59",
   "metadata": {},
   "source": []
  }
 ],
 "metadata": {
  "kernelspec": {
   "display_name": "Python 3 (ipykernel)",
   "language": "python",
   "name": "python3"
  },
  "language_info": {
   "codemirror_mode": {
    "name": "ipython",
    "version": 3
   },
   "file_extension": ".py",
   "mimetype": "text/x-python",
   "name": "python",
   "nbconvert_exporter": "python",
   "pygments_lexer": "ipython3",
   "version": "3.12.4"
  }
 },
 "nbformat": 4,
 "nbformat_minor": 5
}
